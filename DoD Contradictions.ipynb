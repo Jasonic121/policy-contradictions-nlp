{
 "cells": [
  {
   "cell_type": "markdown",
   "metadata": {
    "application/vnd.databricks.v1+cell": {
     "cellMetadata": {},
     "inputWidgets": {},
     "nuid": "d258aacc-5a10-48dc-bd36-755259775049",
     "showTitle": false,
     "title": ""
    }
   },
   "source": [
    "# DoD Contradictions\n",
    "\n",
    "This notebook demonstrates the same pipeline as from pipeline.py applied to the full DoD Issuances dataset. It was ran from an Azure Databricks environment."
   ]
  },
  {
   "cell_type": "code",
   "execution_count": 0,
   "metadata": {
    "application/vnd.databricks.v1+cell": {
     "cellMetadata": {
      "byteLimit": 2048000,
      "rowLimit": 10000
     },
     "inputWidgets": {},
     "nuid": "0f1d4a71-1f89-4b99-9607-ae85d8b81b90",
     "showTitle": true,
     "title": "Progress bars"
    }
   },
   "outputs": [
    {
     "output_type": "display_data",
     "data": {
      "text/html": [
       "<style scoped>\n  .ansiout {\n    display: block;\n    unicode-bidi: embed;\n    white-space: pre-wrap;\n    word-wrap: break-word;\n    word-break: break-all;\n    font-family: \"Source Code Pro\", \"Menlo\", monospace;;\n    font-size: 13px;\n    color: #555;\n    margin-left: 4px;\n    line-height: 19px;\n  }\n</style>\n<div class=\"ansiout\"></div>"
      ]
     },
     "metadata": {
      "application/vnd.databricks.v1+output": {
       "addedWidgets": {},
       "arguments": {},
       "data": "<div class=\"ansiout\"></div>",
       "datasetInfos": [],
       "metadata": {},
       "removedWidgets": [],
       "type": "html"
      }
     },
     "output_type": "display_data"
    }
   ],
   "source": [
    "# A little hack to get tqdm progress bars working.\n",
    "#\n",
    "# In the Databricks notebook, tqdm auto-detects a notebook but actually the std\n",
    "# progress bar is desired! So, we just replace the tqdm.auto module with the\n",
    "# tqdm.std module.\n",
    "import sys\n",
    "sys.modules['tqdm.auto'] = __import__('tqdm.std')  \n",
    "sys.modules['tqdm.autonotebook'] = __import__('tqdm.std')"
   ]
  },
  {
   "cell_type": "markdown",
   "metadata": {
    "application/vnd.databricks.v1+cell": {
     "cellMetadata": {},
     "inputWidgets": {},
     "nuid": "ebcc0d63-96d4-46ad-b35e-1e825f10f706",
     "showTitle": false,
     "title": ""
    }
   },
   "source": [
    "## Imports and Configuration"
   ]
  },
  {
   "cell_type": "code",
   "execution_count": 0,
   "metadata": {
    "application/vnd.databricks.v1+cell": {
     "cellMetadata": {
      "byteLimit": 2048000,
      "rowLimit": 10000
     },
     "inputWidgets": {},
     "nuid": "a823995d-f5a9-4e63-8d3c-6dc229fd2653",
     "showTitle": false,
     "title": ""
    }
   },
   "outputs": [
    {
     "output_type": "display_data",
     "data": {
      "text/html": [
       "<style scoped>\n  .ansiout {\n    display: block;\n    unicode-bidi: embed;\n    white-space: pre-wrap;\n    word-wrap: break-word;\n    word-break: break-all;\n    font-family: \"Source Code Pro\", \"Menlo\", monospace;;\n    font-size: 13px;\n    color: #555;\n    margin-left: 4px;\n    line-height: 19px;\n  }\n</style>\n<div class=\"ansiout\"></div>"
      ]
     },
     "metadata": {
      "application/vnd.databricks.v1+output": {
       "addedWidgets": {},
       "arguments": {},
       "data": "<div class=\"ansiout\"></div>",
       "datasetInfos": [],
       "metadata": {},
       "removedWidgets": [],
       "type": "html"
      }
     },
     "output_type": "display_data"
    }
   ],
   "source": [
    "from src import loading, processing, custom_preprocessors, scoring\n",
    "from functools import partial\n",
    "from typing import Dict, List, Tuple\n",
    "\n",
    "from haystack.schema import Document\n",
    "import numpy as np\n",
    "from pandas import DataFrame"
   ]
  },
  {
   "cell_type": "code",
   "execution_count": 0,
   "metadata": {
    "application/vnd.databricks.v1+cell": {
     "cellMetadata": {
      "byteLimit": 2048000,
      "rowLimit": 10000
     },
     "inputWidgets": {},
     "nuid": "0673d267-ddbb-4ff7-8a60-a7f47dac66ee",
     "showTitle": false,
     "title": ""
    }
   },
   "outputs": [
    {
     "output_type": "display_data",
     "data": {
      "text/html": [
       "<style scoped>\n  .ansiout {\n    display: block;\n    unicode-bidi: embed;\n    white-space: pre-wrap;\n    word-wrap: break-word;\n    word-break: break-all;\n    font-family: \"Source Code Pro\", \"Menlo\", monospace;;\n    font-size: 13px;\n    color: #555;\n    margin-left: 4px;\n    line-height: 19px;\n  }\n</style>\n<div class=\"ansiout\"></div>"
      ]
     },
     "metadata": {
      "application/vnd.databricks.v1+output": {
       "addedWidgets": {},
       "arguments": {},
       "data": "<div class=\"ansiout\"></div>",
       "datasetInfos": [],
       "metadata": {},
       "removedWidgets": [],
       "type": "html"
      }
     },
     "output_type": "display_data"
    }
   ],
   "source": [
    "# Which dataset to load.\n",
    "DATASET_TABLE = \"team_hdsiprodigies.contradictions_datasets_dod_issuances\"\n",
    "# How many documents to include in the pipeline run.\n",
    "SUBSET_SIZE = None\n",
    "# Parameters for cleaning sentences in initial chunking\n",
    "CHUNK_CLEANING_TOC_PERIOD_THRESHOLD = 5\n",
    "CHUNK_CLEANING_LENGTH_MINIMUM = 15\n",
    "CHUNK_CLEANING_LENGTH_MAXIMUM = 1000\n",
    "# Parameters for creating chunks\n",
    "CHUNK_LENGTH = 8\n",
    "CHUNK_OVERLAP = 2\n",
    "# Parameters for pre-selecting similar chunks\n",
    "EMBEDDING_MODEL_NAME = 'all-MiniLM-L6-v2'\n",
    "MAX_CHUNK_SIMILARITY_THRESHOLD = 0.87\n",
    "CHUNK_SIMILARITY_TOP_N = 500\n",
    "# Parameters for selecting sentences as contradiction candidates\n",
    "SENTENCE_CLEANING_LENGTH_MINIMUM = 40\n",
    "CANDIDATE_SELECTION_TOP_K = 1000\n",
    "SAVED_CHUNKS_FILEPATH = '/dbfs/FileStore/desired-chunks.pkl'\n",
    "SAVED_CONTRADICTION_SCORES_FILEPATH = '/dbfs/FileStore/contradiction-scores.csv'\n",
    "SAVED_CANDIDATES_FILEPATH = '/dbfs/FileStore/candidates.csv'\n"
   ]
  },
  {
   "cell_type": "code",
   "execution_count": 0,
   "metadata": {
    "application/vnd.databricks.v1+cell": {
     "cellMetadata": {
      "byteLimit": 2048000,
      "rowLimit": 10000
     },
     "inputWidgets": {},
     "nuid": "bbbcf37e-bb23-493b-aabe-cdf963b3fa74",
     "showTitle": false,
     "title": ""
    }
   },
   "outputs": [
    {
     "output_type": "display_data",
     "data": {
      "text/html": [
       "<style scoped>\n  .ansiout {\n    display: block;\n    unicode-bidi: embed;\n    white-space: pre-wrap;\n    word-wrap: break-word;\n    word-break: break-all;\n    font-family: \"Source Code Pro\", \"Menlo\", monospace;;\n    font-size: 13px;\n    color: #555;\n    margin-left: 4px;\n    line-height: 19px;\n  }\n</style>\n<div class=\"ansiout\"></div>"
      ]
     },
     "metadata": {
      "application/vnd.databricks.v1+output": {
       "addedWidgets": {},
       "arguments": {},
       "data": "<div class=\"ansiout\"></div>",
       "datasetInfos": [],
       "metadata": {},
       "removedWidgets": [],
       "type": "html"
      }
     },
     "output_type": "display_data"
    }
   ],
   "source": [
    "# -------------------------------- LOADING ------------------------------- #\n",
    "df = loading.load_dataset_from_pyspark(DATASET_TABLE)\n"
   ]
  },
  {
   "cell_type": "code",
   "execution_count": 0,
   "metadata": {
    "application/vnd.databricks.v1+cell": {
     "cellMetadata": {
      "byteLimit": 2048000,
      "rowLimit": 10000
     },
     "inputWidgets": {},
     "nuid": "16a7229e-d3bc-4276-aeee-18b7bd62e1ed",
     "showTitle": false,
     "title": ""
    }
   },
   "outputs": [
    {
     "output_type": "display_data",
     "data": {
      "text/html": [
       "<style scoped>\n  .ansiout {\n    display: block;\n    unicode-bidi: embed;\n    white-space: pre-wrap;\n    word-wrap: break-word;\n    word-break: break-all;\n    font-family: \"Source Code Pro\", \"Menlo\", monospace;;\n    font-size: 13px;\n    color: #555;\n    margin-left: 4px;\n    line-height: 19px;\n  }\n</style>\n<div class=\"ansiout\">[nltk_data] Downloading package punkt to /root/nltk_data...\n[nltk_data]   Unzipping tokenizers/punkt.zip.\n\rPreprocessing:   0%|          | 0/1124 [00:00&lt;?, ?docs/s]\rPreprocessing: 100%|██████████| 1124/1124 [00:17&lt;00:00, 65.79docs/s]\n</div>"
      ]
     },
     "metadata": {
      "application/vnd.databricks.v1+output": {
       "addedWidgets": {},
       "arguments": {},
       "data": "<div class=\"ansiout\">[nltk_data] Downloading package punkt to /root/nltk_data...\n[nltk_data]   Unzipping tokenizers/punkt.zip.\n\rPreprocessing:   0%|          | 0/1124 [00:00&lt;?, ?docs/s]\rPreprocessing: 100%|██████████| 1124/1124 [00:17&lt;00:00, 65.79docs/s]\n</div>",
       "datasetInfos": [],
       "metadata": {},
       "removedWidgets": [],
       "type": "html"
      }
     },
     "output_type": "display_data"
    }
   ],
   "source": [
    "# ------------------------------ PREPROCESSING --------------------------- #\n",
    "df['fulltext'] = df.text_by_page.apply(processing.clean_and_combine_pages)\n",
    "\n",
    "if SUBSET_SIZE:\n",
    "    df = df.iloc[:SUBSET_SIZE]\n",
    "docs = processing.convert_frame_to_haystack(df)\n",
    "\n",
    "# A chunk is constructed using a sliding window. It will be N sentences long\n",
    "# if there are that many sentences remaining in the document. The next chunk\n",
    "# will include the last K sentences of the previous chunk if a previous\n",
    "# chunk exists. Chunks will not span documents.\n",
    "chunk_sentence_cleaning_func = partial(processing.clean_sentence_splits,\n",
    "    toc_period_threshold = CHUNK_CLEANING_TOC_PERIOD_THRESHOLD,\n",
    "    length_minimum = CHUNK_CLEANING_LENGTH_MINIMUM,\n",
    "    length_maximum = CHUNK_CLEANING_LENGTH_MAXIMUM,\n",
    ")\n",
    "chunker = custom_preprocessors.SplitCleanerPreProcessor(\n",
    "    language='en',\n",
    "    split_by='sentence',\n",
    "    split_cleaner=chunk_sentence_cleaning_func,\n",
    "    split_length=CHUNK_LENGTH,\n",
    "    split_overlap=CHUNK_OVERLAP,\n",
    "    split_respect_sentence_boundary=False, # incompatible with 'passage' or 'sentence'\n",
    ")\n",
    "doc_chunks = chunker.process(docs)"
   ]
  },
  {
   "cell_type": "code",
   "execution_count": 0,
   "metadata": {
    "application/vnd.databricks.v1+cell": {
     "cellMetadata": {
      "byteLimit": 2048000,
      "rowLimit": 10000
     },
     "inputWidgets": {},
     "nuid": "4118d1c1-f2e1-44f9-b578-e271e1f7d91c",
     "showTitle": false,
     "title": ""
    }
   },
   "outputs": [
    {
     "output_type": "display_data",
     "data": {
      "text/html": [
       "<style scoped>\n  .ansiout {\n    display: block;\n    unicode-bidi: embed;\n    white-space: pre-wrap;\n    word-wrap: break-word;\n    word-break: break-all;\n    font-family: \"Source Code Pro\", \"Menlo\", monospace;;\n    font-size: 13px;\n    color: #555;\n    margin-left: 4px;\n    line-height: 19px;\n  }\n</style>\n<div class=\"ansiout\">Out[7]: 52705</div>"
      ]
     },
     "metadata": {
      "application/vnd.databricks.v1+output": {
       "addedWidgets": {},
       "arguments": {},
       "data": "<div class=\"ansiout\">Out[7]: 52705</div>",
       "datasetInfos": [],
       "metadata": {},
       "removedWidgets": [],
       "type": "html"
      }
     },
     "output_type": "display_data"
    }
   ],
   "source": [
    "len(doc_chunks)"
   ]
  },
  {
   "cell_type": "code",
   "execution_count": 0,
   "metadata": {
    "application/vnd.databricks.v1+cell": {
     "cellMetadata": {
      "byteLimit": 2048000,
      "rowLimit": 10000
     },
     "inputWidgets": {},
     "nuid": "5c827541-9a02-4b77-9fd9-be65f5625495",
     "showTitle": false,
     "title": ""
    }
   },
   "outputs": [
    {
     "output_type": "display_data",
     "data": {
      "text/html": [
       "<style scoped>\n  .ansiout {\n    display: block;\n    unicode-bidi: embed;\n    white-space: pre-wrap;\n    word-wrap: break-word;\n    word-break: break-all;\n    font-family: \"Source Code Pro\", \"Menlo\", monospace;;\n    font-size: 13px;\n    color: #555;\n    margin-left: 4px;\n    line-height: 19px;\n  }\n</style>\n<div class=\"ansiout\"></div>"
      ]
     },
     "metadata": {
      "application/vnd.databricks.v1+output": {
       "addedWidgets": {},
       "arguments": {},
       "data": "<div class=\"ansiout\"></div>",
       "datasetInfos": [],
       "metadata": {},
       "removedWidgets": [],
       "type": "html"
      }
     },
     "output_type": "display_data"
    }
   ],
   "source": [
    "doc_chunks = processing.remove_identical_chunks(doc_chunks)"
   ]
  },
  {
   "cell_type": "code",
   "execution_count": 0,
   "metadata": {
    "application/vnd.databricks.v1+cell": {
     "cellMetadata": {
      "byteLimit": 2048000,
      "rowLimit": 10000
     },
     "inputWidgets": {},
     "nuid": "5c6b0463-5492-4ec8-9072-0239af10e63e",
     "showTitle": false,
     "title": ""
    }
   },
   "outputs": [
    {
     "output_type": "display_data",
     "data": {
      "text/html": [
       "<style scoped>\n  .ansiout {\n    display: block;\n    unicode-bidi: embed;\n    white-space: pre-wrap;\n    word-wrap: break-word;\n    word-break: break-all;\n    font-family: \"Source Code Pro\", \"Menlo\", monospace;;\n    font-size: 13px;\n    color: #555;\n    margin-left: 4px;\n    line-height: 19px;\n  }\n</style>\n<div class=\"ansiout\">Out[9]: 52682</div>"
      ]
     },
     "metadata": {
      "application/vnd.databricks.v1+output": {
       "addedWidgets": {},
       "arguments": {},
       "data": "<div class=\"ansiout\">Out[9]: 52682</div>",
       "datasetInfos": [],
       "metadata": {},
       "removedWidgets": [],
       "type": "html"
      }
     },
     "output_type": "display_data"
    }
   ],
   "source": [
    "len(doc_chunks)"
   ]
  },
  {
   "cell_type": "code",
   "execution_count": 0,
   "metadata": {
    "application/vnd.databricks.v1+cell": {
     "cellMetadata": {
      "byteLimit": 2048000,
      "rowLimit": 10000
     },
     "inputWidgets": {},
     "nuid": "6471e253-19b0-446b-965a-9319de2bb6ff",
     "showTitle": false,
     "title": ""
    }
   },
   "outputs": [
    {
     "output_type": "display_data",
     "data": {
      "text/html": [
       "<style scoped>\n  .ansiout {\n    display: block;\n    unicode-bidi: embed;\n    white-space: pre-wrap;\n    word-wrap: break-word;\n    word-break: break-all;\n    font-family: \"Source Code Pro\", \"Menlo\", monospace;;\n    font-size: 13px;\n    color: #555;\n    margin-left: 4px;\n    line-height: 19px;\n  }\n</style>\n<div class=\"ansiout\">\rDownloading (…)e9125/.gitattributes:   0%|          | 0.00/1.18k [00:00&lt;?, ?B/s]\rDownloading (…)e9125/.gitattributes: 100%|██████████| 1.18k/1.18k [00:00&lt;00:00, 143kB/s]\n\rDownloading (…)_Pooling/config.json:   0%|          | 0.00/190 [00:00&lt;?, ?B/s]\rDownloading (…)_Pooling/config.json: 100%|██████████| 190/190 [00:00&lt;00:00, 33.2kB/s]\n\rDownloading (…)7e55de9125/README.md:   0%|          | 0.00/10.6k [00:00&lt;?, ?B/s]\rDownloading (…)7e55de9125/README.md: 100%|██████████| 10.6k/10.6k [00:00&lt;00:00, 3.24MB/s]\n\rDownloading (…)55de9125/config.json:   0%|          | 0.00/612 [00:00&lt;?, ?B/s]\rDownloading (…)55de9125/config.json: 100%|██████████| 612/612 [00:00&lt;00:00, 214kB/s]\n\rDownloading (…)ce_transformers.json:   0%|          | 0.00/116 [00:00&lt;?, ?B/s]\rDownloading (…)ce_transformers.json: 100%|██████████| 116/116 [00:00&lt;00:00, 42.7kB/s]\n\rDownloading (…)125/data_config.json:   0%|          | 0.00/39.3k [00:00&lt;?, ?B/s]\rDownloading (…)125/data_config.json: 100%|██████████| 39.3k/39.3k [00:00&lt;00:00, 7.20MB/s]\n\rDownloading pytorch_model.bin:   0%|          | 0.00/90.9M [00:00&lt;?, ?B/s]\rDownloading pytorch_model.bin: 100%|██████████| 90.9M/90.9M [00:00&lt;00:00, 199MB/s]\n\rDownloading (…)nce_bert_config.json:   0%|          | 0.00/53.0 [00:00&lt;?, ?B/s]\rDownloading (…)nce_bert_config.json: 100%|██████████| 53.0/53.0 [00:00&lt;00:00, 7.38kB/s]\n\rDownloading (…)cial_tokens_map.json:   0%|          | 0.00/112 [00:00&lt;?, ?B/s]\rDownloading (…)cial_tokens_map.json: 100%|██████████| 112/112 [00:00&lt;00:00, 33.1kB/s]\n\rDownloading (…)e9125/tokenizer.json:   0%|          | 0.00/466k [00:00&lt;?, ?B/s]\rDownloading (…)e9125/tokenizer.json: 100%|██████████| 466k/466k [00:00&lt;00:00, 20.2MB/s]\n\rDownloading (…)okenizer_config.json:   0%|          | 0.00/350 [00:00&lt;?, ?B/s]\rDownloading (…)okenizer_config.json: 100%|██████████| 350/350 [00:00&lt;00:00, 135kB/s]\n\rDownloading (…)9125/train_script.py:   0%|          | 0.00/13.2k [00:00&lt;?, ?B/s]\rDownloading (…)9125/train_script.py: 100%|██████████| 13.2k/13.2k [00:00&lt;00:00, 4.83MB/s]\n\rDownloading (…)7e55de9125/vocab.txt:   0%|          | 0.00/232k [00:00&lt;?, ?B/s]\rDownloading (…)7e55de9125/vocab.txt: 100%|██████████| 232k/232k [00:00&lt;00:00, 10.8MB/s]\n\rDownloading (…)5de9125/modules.json:   0%|          | 0.00/349 [00:00&lt;?, ?B/s]\rDownloading (…)5de9125/modules.json: 100%|██████████| 349/349 [00:00&lt;00:00, 121kB/s]\n/databricks/python/lib/python3.8/site-packages/torch/_utils.py:776: UserWarning: TypedStorage is deprecated. It will be removed in the future and UntypedStorage will be the only storage class. This should only matter to you if you are using storages directly.  To access UntypedStorage directly, use tensor.untyped_storage() instead of tensor.storage()\n  return self.fget.__get__(instance, owner)()\n\rBatches:   0%|          | 0/1647 [00:00&lt;?, ?it/s]\rBatches: 100%|██████████| 1647/1647 [12:24&lt;00:00,  2.21it/s]\n</div>"
      ]
     },
     "metadata": {
      "application/vnd.databricks.v1+output": {
       "addedWidgets": {},
       "arguments": {},
       "data": "<div class=\"ansiout\">\rDownloading (…)e9125/.gitattributes:   0%|          | 0.00/1.18k [00:00&lt;?, ?B/s]\rDownloading (…)e9125/.gitattributes: 100%|██████████| 1.18k/1.18k [00:00&lt;00:00, 143kB/s]\n\rDownloading (…)_Pooling/config.json:   0%|          | 0.00/190 [00:00&lt;?, ?B/s]\rDownloading (…)_Pooling/config.json: 100%|██████████| 190/190 [00:00&lt;00:00, 33.2kB/s]\n\rDownloading (…)7e55de9125/README.md:   0%|          | 0.00/10.6k [00:00&lt;?, ?B/s]\rDownloading (…)7e55de9125/README.md: 100%|██████████| 10.6k/10.6k [00:00&lt;00:00, 3.24MB/s]\n\rDownloading (…)55de9125/config.json:   0%|          | 0.00/612 [00:00&lt;?, ?B/s]\rDownloading (…)55de9125/config.json: 100%|██████████| 612/612 [00:00&lt;00:00, 214kB/s]\n\rDownloading (…)ce_transformers.json:   0%|          | 0.00/116 [00:00&lt;?, ?B/s]\rDownloading (…)ce_transformers.json: 100%|██████████| 116/116 [00:00&lt;00:00, 42.7kB/s]\n\rDownloading (…)125/data_config.json:   0%|          | 0.00/39.3k [00:00&lt;?, ?B/s]\rDownloading (…)125/data_config.json: 100%|██████████| 39.3k/39.3k [00:00&lt;00:00, 7.20MB/s]\n\rDownloading pytorch_model.bin:   0%|          | 0.00/90.9M [00:00&lt;?, ?B/s]\rDownloading pytorch_model.bin: 100%|██████████| 90.9M/90.9M [00:00&lt;00:00, 199MB/s]\n\rDownloading (…)nce_bert_config.json:   0%|          | 0.00/53.0 [00:00&lt;?, ?B/s]\rDownloading (…)nce_bert_config.json: 100%|██████████| 53.0/53.0 [00:00&lt;00:00, 7.38kB/s]\n\rDownloading (…)cial_tokens_map.json:   0%|          | 0.00/112 [00:00&lt;?, ?B/s]\rDownloading (…)cial_tokens_map.json: 100%|██████████| 112/112 [00:00&lt;00:00, 33.1kB/s]\n\rDownloading (…)e9125/tokenizer.json:   0%|          | 0.00/466k [00:00&lt;?, ?B/s]\rDownloading (…)e9125/tokenizer.json: 100%|██████████| 466k/466k [00:00&lt;00:00, 20.2MB/s]\n\rDownloading (…)okenizer_config.json:   0%|          | 0.00/350 [00:00&lt;?, ?B/s]\rDownloading (…)okenizer_config.json: 100%|██████████| 350/350 [00:00&lt;00:00, 135kB/s]\n\rDownloading (…)9125/train_script.py:   0%|          | 0.00/13.2k [00:00&lt;?, ?B/s]\rDownloading (…)9125/train_script.py: 100%|██████████| 13.2k/13.2k [00:00&lt;00:00, 4.83MB/s]\n\rDownloading (…)7e55de9125/vocab.txt:   0%|          | 0.00/232k [00:00&lt;?, ?B/s]\rDownloading (…)7e55de9125/vocab.txt: 100%|██████████| 232k/232k [00:00&lt;00:00, 10.8MB/s]\n\rDownloading (…)5de9125/modules.json:   0%|          | 0.00/349 [00:00&lt;?, ?B/s]\rDownloading (…)5de9125/modules.json: 100%|██████████| 349/349 [00:00&lt;00:00, 121kB/s]\n/databricks/python/lib/python3.8/site-packages/torch/_utils.py:776: UserWarning: TypedStorage is deprecated. It will be removed in the future and UntypedStorage will be the only storage class. This should only matter to you if you are using storages directly.  To access UntypedStorage directly, use tensor.untyped_storage() instead of tensor.storage()\n  return self.fget.__get__(instance, owner)()\n\rBatches:   0%|          | 0/1647 [00:00&lt;?, ?it/s]\rBatches: 100%|██████████| 1647/1647 [12:24&lt;00:00,  2.21it/s]\n</div>",
       "datasetInfos": [],
       "metadata": {},
       "removedWidgets": [],
       "type": "html"
      }
     },
     "output_type": "display_data"
    }
   ],
   "source": [
    "# --------------------------- CHUNK SIMILARITY --------------------------- #\n",
    "# Available models: https://www.sbert.net/docs/pretrained_models.html\n",
    "embeddings = processing.compute_chunk_embeddings(\n",
    "    chunks=doc_chunks,\n",
    "    model_name=EMBEDDING_MODEL_NAME,\n",
    "    show_progress_bar=True,\n",
    ")\n",
    "# Enrich our chunks with embeddings\n",
    "for chunk, embedding in zip(doc_chunks, embeddings):\n",
    "    chunk.embedding = embedding"
   ]
  },
  {
   "cell_type": "code",
   "execution_count": 0,
   "metadata": {
    "application/vnd.databricks.v1+cell": {
     "cellMetadata": {
      "byteLimit": 2048000,
      "rowLimit": 10000
     },
     "inputWidgets": {},
     "nuid": "bdb21dd4-063a-4dc8-85bd-0f29a39b2beb",
     "showTitle": false,
     "title": ""
    }
   },
   "outputs": [
    {
     "output_type": "display_data",
     "data": {
      "text/html": [
       "<style scoped>\n  .ansiout {\n    display: block;\n    unicode-bidi: embed;\n    white-space: pre-wrap;\n    word-wrap: break-word;\n    word-break: break-all;\n    font-family: \"Source Code Pro\", \"Menlo\", monospace;;\n    font-size: 13px;\n    color: #555;\n    margin-left: 4px;\n    line-height: 19px;\n  }\n</style>\n<div class=\"ansiout\"></div>"
      ]
     },
     "metadata": {
      "application/vnd.databricks.v1+output": {
       "addedWidgets": {},
       "arguments": {},
       "data": "<div class=\"ansiout\"></div>",
       "datasetInfos": [],
       "metadata": {},
       "removedWidgets": [],
       "type": "html"
      }
     },
     "output_type": "display_data"
    }
   ],
   "source": [
    "similarity_matrix = processing.compute_chunk_similarity(doc_chunks)"
   ]
  },
  {
   "cell_type": "code",
   "execution_count": 0,
   "metadata": {
    "application/vnd.databricks.v1+cell": {
     "cellMetadata": {
      "byteLimit": 2048000,
      "rowLimit": 10000
     },
     "inputWidgets": {},
     "nuid": "f3fef446-9831-47cd-9e2c-d8b8a6519292",
     "showTitle": false,
     "title": ""
    }
   },
   "outputs": [
    {
     "output_type": "display_data",
     "data": {
      "text/html": [
       "<style scoped>\n  .ansiout {\n    display: block;\n    unicode-bidi: embed;\n    white-space: pre-wrap;\n    word-wrap: break-word;\n    word-break: break-all;\n    font-family: \"Source Code Pro\", \"Menlo\", monospace;;\n    font-size: 13px;\n    color: #555;\n    margin-left: 4px;\n    line-height: 19px;\n  }\n</style>\n<div class=\"ansiout\"></div>"
      ]
     },
     "metadata": {
      "application/vnd.databricks.v1+output": {
       "addedWidgets": {},
       "arguments": {},
       "data": "<div class=\"ansiout\"></div>",
       "datasetInfos": [],
       "metadata": {},
       "removedWidgets": [],
       "type": "html"
      }
     },
     "output_type": "display_data"
    }
   ],
   "source": [
    "# Get rid of chunks that have similarity scores that are too high. This\n",
    "# value was fine-tuned by trial and error to remove similar chunks that were\n",
    "# just common header/disclaimer text.\n",
    "top_n_pair_indices = processing.get_top_n_similar_chunk_pair_indices(\n",
    "    scores=similarity_matrix,\n",
    "    n=CHUNK_SIMILARITY_TOP_N,\n",
    "    max_similarity_threshold=MAX_CHUNK_SIMILARITY_THRESHOLD,\n",
    ")"
   ]
  },
  {
   "cell_type": "code",
   "execution_count": 0,
   "metadata": {
    "application/vnd.databricks.v1+cell": {
     "cellMetadata": {
      "byteLimit": 2048000,
      "rowLimit": 10000
     },
     "inputWidgets": {},
     "nuid": "d867c2a2-4867-48fa-a21d-450c3ea06650",
     "showTitle": false,
     "title": ""
    }
   },
   "outputs": [
    {
     "output_type": "display_data",
     "data": {
      "text/html": [
       "<style scoped>\n  .ansiout {\n    display: block;\n    unicode-bidi: embed;\n    white-space: pre-wrap;\n    word-wrap: break-word;\n    word-break: break-all;\n    font-family: \"Source Code Pro\", \"Menlo\", monospace;;\n    font-size: 13px;\n    color: #555;\n    margin-left: 4px;\n    line-height: 19px;\n  }\n</style>\n<div class=\"ansiout\"></div>"
      ]
     },
     "metadata": {
      "application/vnd.databricks.v1+output": {
       "addedWidgets": {},
       "arguments": {},
       "data": "<div class=\"ansiout\"></div>",
       "datasetInfos": [],
       "metadata": {},
       "removedWidgets": [],
       "type": "html"
      }
     },
     "output_type": "display_data"
    }
   ],
   "source": [
    "similar_chunk_id_pairs = [\n",
    "    (doc_chunks[c1].id, doc_chunks[c2].id) for c1, c2 in top_n_pair_indices\n",
    "]\n",
    "desired_indices = np.unique(np.array(top_n_pair_indices).flat)\n",
    "# NOTE: Storing our desired chunks to a new variable should allow us to\n",
    "# dispose of the full set of doc_chunks from memory, which we may need for\n",
    "# the contradiction scoring model! If we need this, additional code will be\n",
    "# required here.\n",
    "desired_chunks = {\n",
    "    doc_chunks[i].id: doc_chunks[i]\n",
    "    for i in desired_indices\n",
    "}\n",
    "\n",
    "sentence_cleaning_func = partial(processing.clean_sentence_splits,\n",
    "    length_minimum = SENTENCE_CLEANING_LENGTH_MINIMUM,\n",
    ")\n",
    "desired_chunk_sentences = processing.split_chunks_to_sentences(\n",
    "    chunks=desired_chunks.values(),\n",
    "    split_cleaner=sentence_cleaning_func,\n",
    ")\n",
    "# Enrich our desired chunks with sentences\n",
    "for chunk, sentences in zip(desired_chunks.values(), desired_chunk_sentences):\n",
    "    chunk.sentences = sentences"
   ]
  },
  {
   "cell_type": "code",
   "execution_count": 0,
   "metadata": {
    "application/vnd.databricks.v1+cell": {
     "cellMetadata": {
      "byteLimit": 2048000,
      "rowLimit": 10000
     },
     "inputWidgets": {},
     "nuid": "f00473d8-53fe-46c1-a93c-afff0335a005",
     "showTitle": false,
     "title": ""
    }
   },
   "outputs": [
    {
     "output_type": "display_data",
     "data": {
      "text/html": [
       "<style scoped>\n  .ansiout {\n    display: block;\n    unicode-bidi: embed;\n    white-space: pre-wrap;\n    word-wrap: break-word;\n    word-break: break-all;\n    font-family: \"Source Code Pro\", \"Menlo\", monospace;;\n    font-size: 13px;\n    color: #555;\n    margin-left: 4px;\n    line-height: 19px;\n  }\n</style>\n<div class=\"ansiout\">Out[14]: 918</div>"
      ]
     },
     "metadata": {
      "application/vnd.databricks.v1+output": {
       "addedWidgets": {},
       "arguments": {},
       "data": "<div class=\"ansiout\">Out[14]: 918</div>",
       "datasetInfos": [],
       "metadata": {},
       "removedWidgets": [],
       "type": "html"
      }
     },
     "output_type": "display_data"
    }
   ],
   "source": [
    "len(desired_chunks)"
   ]
  },
  {
   "cell_type": "code",
   "execution_count": 0,
   "metadata": {
    "application/vnd.databricks.v1+cell": {
     "cellMetadata": {
      "byteLimit": 2048000,
      "rowLimit": 10000
     },
     "inputWidgets": {},
     "nuid": "dd834445-f937-4b23-8383-e48066014ca0",
     "showTitle": false,
     "title": ""
    }
   },
   "outputs": [
    {
     "output_type": "display_data",
     "data": {
      "text/html": [
       "<style scoped>\n  .ansiout {\n    display: block;\n    unicode-bidi: embed;\n    white-space: pre-wrap;\n    word-wrap: break-word;\n    word-break: break-all;\n    font-family: \"Source Code Pro\", \"Menlo\", monospace;;\n    font-size: 13px;\n    color: #555;\n    margin-left: 4px;\n    line-height: 19px;\n  }\n</style>\n<div class=\"ansiout\">\rDownloading (…)okenizer_config.json:   0%|          | 0.00/49.0 [00:00&lt;?, ?B/s]\rDownloading (…)okenizer_config.json: 100%|██████████| 49.0/49.0 [00:00&lt;00:00, 12.2kB/s]\n\rDownloading (…)lve/main/config.json:   0%|          | 0.00/703 [00:00&lt;?, ?B/s]\rDownloading (…)lve/main/config.json: 100%|██████████| 703/703 [00:00&lt;00:00, 258kB/s]\n\rDownloading (…)olve/main/vocab.json:   0%|          | 0.00/899k [00:00&lt;?, ?B/s]\rDownloading (…)olve/main/vocab.json: 100%|██████████| 899k/899k [00:00&lt;00:00, 27.2MB/s]\n\rDownloading (…)olve/main/merges.txt:   0%|          | 0.00/456k [00:00&lt;?, ?B/s]\rDownloading (…)olve/main/merges.txt: 100%|██████████| 456k/456k [00:00&lt;00:00, 17.3MB/s]\n\rDownloading (…)cial_tokens_map.json:   0%|          | 0.00/772 [00:00&lt;?, ?B/s]\rDownloading (…)cial_tokens_map.json: 100%|██████████| 772/772 [00:00&lt;00:00, 266kB/s]\n\rDownloading pytorch_model.bin:   0%|          | 0.00/1.43G [00:00&lt;?, ?B/s]\rDownloading pytorch_model.bin: 100%|██████████| 1.43G/1.43G [00:37&lt;00:00, 38.2MB/s]\n/databricks/python/lib/python3.8/site-packages/torch/_utils.py:776: UserWarning: TypedStorage is deprecated. It will be removed in the future and UntypedStorage will be the only storage class. This should only matter to you if you are using storages directly.  To access UntypedStorage directly, use tensor.untyped_storage() instead of tensor.storage()\n  return self.fget.__get__(instance, owner)()\nSome weights of the model checkpoint at ynie/roberta-large-snli_mnli_fever_anli_R1_R2_R3-nli were not used when initializing RobertaForSequenceClassification: [&#39;roberta.pooler.dense.bias&#39;, &#39;roberta.pooler.dense.weight&#39;]\n- This IS expected if you are initializing RobertaForSequenceClassification from the checkpoint of a model trained on another task or with another architecture (e.g. initializing a BertForSequenceClassification model from a BertForPreTraining model).\n- This IS NOT expected if you are initializing RobertaForSequenceClassification from the checkpoint of a model that you expect to be exactly identical (initializing a BertForSequenceClassification model from a BertForSequenceClassification model).\n</div>"
      ]
     },
     "metadata": {
      "application/vnd.databricks.v1+output": {
       "addedWidgets": {},
       "arguments": {},
       "data": "<div class=\"ansiout\">\rDownloading (…)okenizer_config.json:   0%|          | 0.00/49.0 [00:00&lt;?, ?B/s]\rDownloading (…)okenizer_config.json: 100%|██████████| 49.0/49.0 [00:00&lt;00:00, 12.2kB/s]\n\rDownloading (…)lve/main/config.json:   0%|          | 0.00/703 [00:00&lt;?, ?B/s]\rDownloading (…)lve/main/config.json: 100%|██████████| 703/703 [00:00&lt;00:00, 258kB/s]\n\rDownloading (…)olve/main/vocab.json:   0%|          | 0.00/899k [00:00&lt;?, ?B/s]\rDownloading (…)olve/main/vocab.json: 100%|██████████| 899k/899k [00:00&lt;00:00, 27.2MB/s]\n\rDownloading (…)olve/main/merges.txt:   0%|          | 0.00/456k [00:00&lt;?, ?B/s]\rDownloading (…)olve/main/merges.txt: 100%|██████████| 456k/456k [00:00&lt;00:00, 17.3MB/s]\n\rDownloading (…)cial_tokens_map.json:   0%|          | 0.00/772 [00:00&lt;?, ?B/s]\rDownloading (…)cial_tokens_map.json: 100%|██████████| 772/772 [00:00&lt;00:00, 266kB/s]\n\rDownloading pytorch_model.bin:   0%|          | 0.00/1.43G [00:00&lt;?, ?B/s]\rDownloading pytorch_model.bin: 100%|██████████| 1.43G/1.43G [00:37&lt;00:00, 38.2MB/s]\n/databricks/python/lib/python3.8/site-packages/torch/_utils.py:776: UserWarning: TypedStorage is deprecated. It will be removed in the future and UntypedStorage will be the only storage class. This should only matter to you if you are using storages directly.  To access UntypedStorage directly, use tensor.untyped_storage() instead of tensor.storage()\n  return self.fget.__get__(instance, owner)()\nSome weights of the model checkpoint at ynie/roberta-large-snli_mnli_fever_anli_R1_R2_R3-nli were not used when initializing RobertaForSequenceClassification: [&#39;roberta.pooler.dense.bias&#39;, &#39;roberta.pooler.dense.weight&#39;]\n- This IS expected if you are initializing RobertaForSequenceClassification from the checkpoint of a model trained on another task or with another architecture (e.g. initializing a BertForSequenceClassification model from a BertForPreTraining model).\n- This IS NOT expected if you are initializing RobertaForSequenceClassification from the checkpoint of a model that you expect to be exactly identical (initializing a BertForSequenceClassification model from a BertForSequenceClassification model).\n</div>",
       "datasetInfos": [],
       "metadata": {},
       "removedWidgets": [],
       "type": "html"
      }
     },
     "output_type": "display_data"
    }
   ],
   "source": [
    "# ------------------------- CONTRADICTION SCORING ------------------------ #\n",
    "tokenizer, contradiction_model = scoring.load_contradiction_model()"
   ]
  },
  {
   "cell_type": "code",
   "execution_count": 0,
   "metadata": {
    "application/vnd.databricks.v1+cell": {
     "cellMetadata": {
      "byteLimit": 2048000,
      "rowLimit": 10000
     },
     "inputWidgets": {},
     "nuid": "d0b61f4a-b6d4-4115-8f6d-f1d6d9d1ee7d",
     "showTitle": false,
     "title": ""
    }
   },
   "outputs": [
    {
     "output_type": "display_data",
     "data": {
      "text/html": [
       "<style scoped>\n  .ansiout {\n    display: block;\n    unicode-bidi: embed;\n    white-space: pre-wrap;\n    word-wrap: break-word;\n    word-break: break-all;\n    font-family: \"Source Code Pro\", \"Menlo\", monospace;;\n    font-size: 13px;\n    color: #555;\n    margin-left: 4px;\n    line-height: 19px;\n  }\n</style>\n<div class=\"ansiout\">\r  0%|          | 0/500 [00:00&lt;?, ?it/s]\r 50%|████▉     | 248/500 [18:42&lt;24:34,  5.85s/it]\r100%|██████████| 500/500 [43:49&lt;00:00,  5.26s/it]\n</div>"
      ]
     },
     "metadata": {
      "application/vnd.databricks.v1+output": {
       "addedWidgets": {},
       "arguments": {},
       "data": "<div class=\"ansiout\">\r  0%|          | 0/500 [00:00&lt;?, ?it/s]\r 50%|████▉     | 248/500 [18:42&lt;24:34,  5.85s/it]\r100%|██████████| 500/500 [43:49&lt;00:00,  5.26s/it]\n</div>",
       "datasetInfos": [],
       "metadata": {},
       "removedWidgets": [],
       "type": "html"
      }
     },
     "output_type": "display_data"
    }
   ],
   "source": [
    "contradiction_scores = scoring.compute_sentence_contradiction_scores(\n",
    "    chunks=desired_chunks,\n",
    "    chunk_id_pairs=similar_chunk_id_pairs,\n",
    "    tokenizer=tokenizer,\n",
    "    model=contradiction_model,\n",
    ")"
   ]
  },
  {
   "cell_type": "code",
   "execution_count": 0,
   "metadata": {
    "application/vnd.databricks.v1+cell": {
     "cellMetadata": {
      "byteLimit": 2048000,
      "rowLimit": 10000
     },
     "inputWidgets": {},
     "nuid": "b30f3077-0003-4a39-b609-6208dcaee53d",
     "showTitle": false,
     "title": ""
    }
   },
   "outputs": [
    {
     "output_type": "display_data",
     "data": {
      "text/html": [
       "<style scoped>\n  .ansiout {\n    display: block;\n    unicode-bidi: embed;\n    white-space: pre-wrap;\n    word-wrap: break-word;\n    word-break: break-all;\n    font-family: \"Source Code Pro\", \"Menlo\", monospace;;\n    font-size: 13px;\n    color: #555;\n    margin-left: 4px;\n    line-height: 19px;\n  }\n</style>\n<div class=\"ansiout\"></div>"
      ]
     },
     "metadata": {
      "application/vnd.databricks.v1+output": {
       "addedWidgets": {},
       "arguments": {},
       "data": "<div class=\"ansiout\"></div>",
       "datasetInfos": [],
       "metadata": {},
       "removedWidgets": [],
       "type": "html"
      }
     },
     "output_type": "display_data"
    }
   ],
   "source": [
    "# Save chunks and contradiction scores so that we can look at more than just the\n",
    "# top k candidates in the future if we desire.\n",
    "loading.save_candidates_csv(contradiction_scores, SAVED_CONTRADICTION_SCORES_FILEPATH)\n",
    "loading.save_chunks_pickle(desired_chunks, SAVED_CHUNKS_FILEPATH)\n",
    "\n",
    "# To download locally, modify the URL of this page so that it looks like\n",
    "# https://adb-...azuredatabricks.net/files/FILENAME_UNDER_FileStore_DIRECTORY/?o=...\n",
    "# keeping the id the same in the address and o= parameter. It will prompt you to\n",
    "# save the file!"
   ]
  },
  {
   "cell_type": "code",
   "execution_count": 0,
   "metadata": {
    "application/vnd.databricks.v1+cell": {
     "cellMetadata": {
      "byteLimit": 2048000,
      "rowLimit": 10000
     },
     "inputWidgets": {},
     "nuid": "36b95f69-242c-4acb-a5eb-3ef052b3da21",
     "showTitle": false,
     "title": ""
    }
   },
   "outputs": [
    {
     "output_type": "display_data",
     "data": {
      "text/html": [
       "<style scoped>\n  .ansiout {\n    display: block;\n    unicode-bidi: embed;\n    white-space: pre-wrap;\n    word-wrap: break-word;\n    word-break: break-all;\n    font-family: \"Source Code Pro\", \"Menlo\", monospace;;\n    font-size: 13px;\n    color: #555;\n    margin-left: 4px;\n    line-height: 19px;\n  }\n</style>\n<div class=\"ansiout\"></div>"
      ]
     },
     "metadata": {
      "application/vnd.databricks.v1+output": {
       "addedWidgets": {},
       "arguments": {},
       "data": "<div class=\"ansiout\"></div>",
       "datasetInfos": [],
       "metadata": {},
       "removedWidgets": [],
       "type": "html"
      }
     },
     "output_type": "display_data"
    }
   ],
   "source": [
    "candidates = scoring.get_top_k_contradictive_candidates(\n",
    "    contradiction_scores=contradiction_scores,\n",
    "    k=CANDIDATE_SELECTION_TOP_K,\n",
    ")\n",
    "candidate_info = scoring.retrieve_candidate_info(\n",
    "    candidates=candidates,\n",
    "    chunks=desired_chunks\n",
    ")"
   ]
  },
  {
   "cell_type": "code",
   "execution_count": 0,
   "metadata": {
    "application/vnd.databricks.v1+cell": {
     "cellMetadata": {
      "byteLimit": 2048000,
      "rowLimit": 10000
     },
     "inputWidgets": {},
     "nuid": "15abfc5f-f0b5-4a71-8e3e-bf36277da94b",
     "showTitle": false,
     "title": ""
    }
   },
   "outputs": [
    {
     "output_type": "display_data",
     "data": {
      "text/html": [
       "<style scoped>\n  .ansiout {\n    display: block;\n    unicode-bidi: embed;\n    white-space: pre-wrap;\n    word-wrap: break-word;\n    word-break: break-all;\n    font-family: \"Source Code Pro\", \"Menlo\", monospace;;\n    font-size: 13px;\n    color: #555;\n    margin-left: 4px;\n    line-height: 19px;\n  }\n</style>\n<div class=\"ansiout\"></div>"
      ]
     },
     "metadata": {
      "application/vnd.databricks.v1+output": {
       "addedWidgets": {},
       "arguments": {},
       "data": "<div class=\"ansiout\"></div>",
       "datasetInfos": [],
       "metadata": {},
       "removedWidgets": [],
       "type": "html"
      }
     },
     "output_type": "display_data"
    }
   ],
   "source": [
    "loading.save_candidates_csv(candidate_info, SAVED_CANDIDATES_FILEPATH)"
   ]
  },
  {
   "cell_type": "code",
   "execution_count": 0,
   "metadata": {
    "application/vnd.databricks.v1+cell": {
     "cellMetadata": {
      "byteLimit": 2048000,
      "rowLimit": 10000
     },
     "inputWidgets": {},
     "nuid": "43e5275d-0529-4115-93a8-c99b69ea166c",
     "showTitle": false,
     "title": ""
    }
   },
   "outputs": [
    {
     "output_type": "display_data",
     "data": {
      "text/html": [
       "<style scoped>\n  .ansiout {\n    display: block;\n    unicode-bidi: embed;\n    white-space: pre-wrap;\n    word-wrap: break-word;\n    word-break: break-all;\n    font-family: \"Source Code Pro\", \"Menlo\", monospace;;\n    font-size: 13px;\n    color: #555;\n    margin-left: 4px;\n    line-height: 19px;\n  }\n</style>\n<div class=\"ansiout\">Out[19]: </div>"
      ]
     },
     "metadata": {
      "application/vnd.databricks.v1+output": {
       "addedWidgets": {},
       "arguments": {},
       "data": "<div class=\"ansiout\">Out[19]: </div>",
       "datasetInfos": [],
       "metadata": {},
       "removedWidgets": [],
       "type": "html"
      }
     },
     "output_type": "display_data"
    },
    {
     "output_type": "display_data",
     "data": {
      "text/html": [
       "<div>\n<style scoped>\n    .dataframe tbody tr th:only-of-type {\n        vertical-align: middle;\n    }\n\n    .dataframe tbody tr th {\n        vertical-align: top;\n    }\n\n    .dataframe thead th {\n        text-align: right;\n    }\n</style>\n<table border=\"1\" class=\"dataframe\">\n  <thead>\n    <tr style=\"text-align: right;\">\n      <th></th>\n      <th>chunk_A.id</th>\n      <th>chunk_A.content</th>\n      <th>chunk_A.meta.corpus</th>\n      <th>chunk_A.meta.title</th>\n      <th>chunk_A.meta.file_name</th>\n      <th>chunk_A.meta.url</th>\n      <th>chunk_A.meta.id</th>\n      <th>chunk_A.meta._split_id</th>\n      <th>sentence_A</th>\n      <th>chunk_B.id</th>\n      <th>chunk_B.content</th>\n      <th>chunk_B.meta.corpus</th>\n      <th>chunk_B.meta.title</th>\n      <th>chunk_B.meta.file_name</th>\n      <th>chunk_B.meta.url</th>\n      <th>chunk_B.meta.id</th>\n      <th>chunk_B.meta._split_id</th>\n      <th>sentence_B</th>\n      <th>entailment</th>\n      <th>neutral</th>\n      <th>contradiction</th>\n    </tr>\n  </thead>\n  <tbody>\n    <tr>\n      <th>0</th>\n      <td>a49093d345ebb00f1112e4082e976508</td>\n      <td>This data element is also known as Pay Entry Base Date. Format: YYYYMMDD. If...</td>\n      <td>dod_issuances</td>\n      <td>Automated Extract of Active Duty Military Personnel Records</td>\n      <td>DoDI 1336.05</td>\n      <td>https://www.esd.whs.mil/Portals/54/Documents/DD/issuances/dodi/133605p.pdf?v...</td>\n      <td>64966f2897774248e1a0baa7cbc55457f366d28f9cc02c8f537541706ad76214</td>\n      <td>32</td>\n      <td>22 292-294 Accession Program Source 292 a. Enlisted Accession Program Source...</td>\n      <td>e2a990ab455acef9aa6c415dab3c51f8</td>\n      <td>A Induction B Voluntary enlistment in a regular component C Voluntary enlist...</td>\n      <td>dod_issuances</td>\n      <td>Automated Extract of Active Duty Military Personnel Records</td>\n      <td>DoDI 1336.05</td>\n      <td>https://www.esd.whs.mil/Portals/54/Documents/DD/issuances/dodi/133605p.pdf?v...</td>\n      <td>64966f2897774248e1a0baa7cbc55457f366d28f9cc02c8f537541706ad76214</td>\n      <td>33</td>\n      <td>Applicable only to commissioned officers, other than commissioned warrant of...</td>\n      <td>0.000045</td>\n      <td>0.000343</td>\n      <td>0.999613</td>\n    </tr>\n    <tr>\n      <th>1</th>\n      <td>c1feed26381cb1db40cf683aa8621e34</td>\n      <td>This instruction is available on the Directives Division Website at https://...</td>\n      <td>dod_issuances</td>\n      <td>Military Officer Actions Requiring Presidential, Secretary of Defense, or Un...</td>\n      <td>DoDI 1320.04</td>\n      <td>https://www.esd.whs.mil/Portals/54/Documents/DD/issuances/dodi/132004p.pdf</td>\n      <td>3bc7f996335f339c23b84e1e6276aefc2f41cdf103bd541c9ac1043c0d631f09</td>\n      <td>3</td>\n      <td>This instruction is effective January 3, 2014.</td>\n      <td>fb9ba053bced31cbee8703ba7edd427f</td>\n      <td>This Instruction is approved for public release and is available on the Dire...</td>\n      <td>dod_issuances</td>\n      <td>Voluntary Education Programs</td>\n      <td>DoDI 1322.25</td>\n      <td>https://www.esd.whs.mil/Portals/54/Documents/DD/issuances/dodi/132225p.pdf</td>\n      <td>0c1b0c20b979b9075e85264650aa4341a319a2c4c677f89045bd183bfc1d6f48</td>\n      <td>6</td>\n      <td>This Instruction is effective March 15, 2011.</td>\n      <td>0.000046</td>\n      <td>0.000415</td>\n      <td>0.999538</td>\n    </tr>\n    <tr>\n      <th>2</th>\n      <td>31a0f2e22eee6ad67b2d84f89cd42e96</td>\n      <td>SUMMARY OF CHANGE 2. This administrative change updates: a. The title of the...</td>\n      <td>dod_issuances</td>\n      <td>Intelligence Support to the Defense Critical Infrastructure Program (DCIP)</td>\n      <td>DoDI 3020.51</td>\n      <td>https://www.esd.whs.mil/Portals/54/Documents/DD/issuances/dodi/302051p.pdf?v...</td>\n      <td>70a017956d0d0962694db3ae7b44100fc64072f69ed56f6a3fa2c2b08dc35490</td>\n      <td>3</td>\n      <td>This administrative change updates: a. The title of the Under Secretary of D...</td>\n      <td>106946c53f00fd46e35bca5f47b5b5fa</td>\n      <td>This instruction is available on the Directives Division Website at https://...</td>\n      <td>dod_issuances</td>\n      <td>DoD Cryptologic Training</td>\n      <td>DoDI 3305.09</td>\n      <td>https://www.esd.whs.mil/Portals/54/Documents/DD/issuances/dodi/330509p.pdf?v...</td>\n      <td>15858382aaf9d25d3ed4dab9bba37c1aca2fbed3468410eb799b83875ad00eaf</td>\n      <td>3</td>\n      <td>This administrative change updates the title of the Under Secretary of Defen...</td>\n      <td>0.000126</td>\n      <td>0.000366</td>\n      <td>0.999508</td>\n    </tr>\n    <tr>\n      <th>3</th>\n      <td>a1bdd1d1e8e667ce28733f212889c882</td>\n      <td>Requires a 4-year service agreement: 2 years on active duty plus 2 years in ...</td>\n      <td>dod_issuances</td>\n      <td>Defense Manpower Data Center Domain Values for Military Personnel Data Extracts</td>\n      <td>DoDM 1336.05</td>\n      <td>https://www.esd.whs.mil/Portals/54/Documents/DD/issuances/dodm/133605m.PDF?v...</td>\n      <td>fb16fb843de46b5fbc89e4857e25ee5649efdc877e397d788fe609562b36241f</td>\n      <td>80</td>\n      <td>Requires a 3-year active duty service agreement.</td>\n      <td>9395790f7231ae64937e2b505771dada</td>\n      <td>Requires a 4-year active duty service agreement. D5 $150 Effective 1 August ...</td>\n      <td>dod_issuances</td>\n      <td>Defense Manpower Data Center Domain Values for Military Personnel Data Extracts</td>\n      <td>DoDM 1336.05</td>\n      <td>https://www.esd.whs.mil/Portals/54/Documents/DD/issuances/dodm/133605m.PDF?v...</td>\n      <td>fb16fb843de46b5fbc89e4857e25ee5649efdc877e397d788fe609562b36241f</td>\n      <td>85</td>\n      <td>Requires a 6-year active duty service agreement.</td>\n      <td>0.000058</td>\n      <td>0.000440</td>\n      <td>0.999502</td>\n    </tr>\n    <tr>\n      <th>4</th>\n      <td>ead7ad04914e16e33dd8baa9b5f63cfd</td>\n      <td>Requires a 4-year service agreement: 2 years on active duty plus 2 years in ...</td>\n      <td>dod_issuances</td>\n      <td>Defense Manpower Data Center Domain Values for Military Personnel Data Extracts</td>\n      <td>DoDM 1336.05</td>\n      <td>https://www.esd.whs.mil/Portals/54/Documents/DD/issuances/dodm/133605m.PDF?v...</td>\n      <td>fb16fb843de46b5fbc89e4857e25ee5649efdc877e397d788fe609562b36241f</td>\n      <td>70</td>\n      <td>Requires a 3-year active duty service agreement.</td>\n      <td>865b34886db2f78504fbf37cade6a066</td>\n      <td>Requires a 4-year active duty service agreement. K5 $750 Effective 1 August ...</td>\n      <td>dod_issuances</td>\n      <td>Defense Manpower Data Center Domain Values for Military Personnel Data Extracts</td>\n      <td>DoDM 1336.05</td>\n      <td>https://www.esd.whs.mil/Portals/54/Documents/DD/issuances/dodm/133605m.PDF?v...</td>\n      <td>fb16fb843de46b5fbc89e4857e25ee5649efdc877e397d788fe609562b36241f</td>\n      <td>97</td>\n      <td>Requires a 6-year active duty service agreement.</td>\n      <td>0.000058</td>\n      <td>0.000440</td>\n      <td>0.999502</td>\n    </tr>\n  </tbody>\n</table>\n</div>"
      ]
     },
     "metadata": {
      "application/vnd.databricks.v1+output": {
       "addedWidgets": {},
       "arguments": {},
       "data": "<div>\n<style scoped>\n    .dataframe tbody tr th:only-of-type {\n        vertical-align: middle;\n    }\n\n    .dataframe tbody tr th {\n        vertical-align: top;\n    }\n\n    .dataframe thead th {\n        text-align: right;\n    }\n</style>\n<table border=\"1\" class=\"dataframe\">\n  <thead>\n    <tr style=\"text-align: right;\">\n      <th></th>\n      <th>chunk_A.id</th>\n      <th>chunk_A.content</th>\n      <th>chunk_A.meta.corpus</th>\n      <th>chunk_A.meta.title</th>\n      <th>chunk_A.meta.file_name</th>\n      <th>chunk_A.meta.url</th>\n      <th>chunk_A.meta.id</th>\n      <th>chunk_A.meta._split_id</th>\n      <th>sentence_A</th>\n      <th>chunk_B.id</th>\n      <th>chunk_B.content</th>\n      <th>chunk_B.meta.corpus</th>\n      <th>chunk_B.meta.title</th>\n      <th>chunk_B.meta.file_name</th>\n      <th>chunk_B.meta.url</th>\n      <th>chunk_B.meta.id</th>\n      <th>chunk_B.meta._split_id</th>\n      <th>sentence_B</th>\n      <th>entailment</th>\n      <th>neutral</th>\n      <th>contradiction</th>\n    </tr>\n  </thead>\n  <tbody>\n    <tr>\n      <th>0</th>\n      <td>a49093d345ebb00f1112e4082e976508</td>\n      <td>This data element is also known as Pay Entry Base Date. Format: YYYYMMDD. If...</td>\n      <td>dod_issuances</td>\n      <td>Automated Extract of Active Duty Military Personnel Records</td>\n      <td>DoDI 1336.05</td>\n      <td>https://www.esd.whs.mil/Portals/54/Documents/DD/issuances/dodi/133605p.pdf?v...</td>\n      <td>64966f2897774248e1a0baa7cbc55457f366d28f9cc02c8f537541706ad76214</td>\n      <td>32</td>\n      <td>22 292-294 Accession Program Source 292 a. Enlisted Accession Program Source...</td>\n      <td>e2a990ab455acef9aa6c415dab3c51f8</td>\n      <td>A Induction B Voluntary enlistment in a regular component C Voluntary enlist...</td>\n      <td>dod_issuances</td>\n      <td>Automated Extract of Active Duty Military Personnel Records</td>\n      <td>DoDI 1336.05</td>\n      <td>https://www.esd.whs.mil/Portals/54/Documents/DD/issuances/dodi/133605p.pdf?v...</td>\n      <td>64966f2897774248e1a0baa7cbc55457f366d28f9cc02c8f537541706ad76214</td>\n      <td>33</td>\n      <td>Applicable only to commissioned officers, other than commissioned warrant of...</td>\n      <td>0.000045</td>\n      <td>0.000343</td>\n      <td>0.999613</td>\n    </tr>\n    <tr>\n      <th>1</th>\n      <td>c1feed26381cb1db40cf683aa8621e34</td>\n      <td>This instruction is available on the Directives Division Website at https://...</td>\n      <td>dod_issuances</td>\n      <td>Military Officer Actions Requiring Presidential, Secretary of Defense, or Un...</td>\n      <td>DoDI 1320.04</td>\n      <td>https://www.esd.whs.mil/Portals/54/Documents/DD/issuances/dodi/132004p.pdf</td>\n      <td>3bc7f996335f339c23b84e1e6276aefc2f41cdf103bd541c9ac1043c0d631f09</td>\n      <td>3</td>\n      <td>This instruction is effective January 3, 2014.</td>\n      <td>fb9ba053bced31cbee8703ba7edd427f</td>\n      <td>This Instruction is approved for public release and is available on the Dire...</td>\n      <td>dod_issuances</td>\n      <td>Voluntary Education Programs</td>\n      <td>DoDI 1322.25</td>\n      <td>https://www.esd.whs.mil/Portals/54/Documents/DD/issuances/dodi/132225p.pdf</td>\n      <td>0c1b0c20b979b9075e85264650aa4341a319a2c4c677f89045bd183bfc1d6f48</td>\n      <td>6</td>\n      <td>This Instruction is effective March 15, 2011.</td>\n      <td>0.000046</td>\n      <td>0.000415</td>\n      <td>0.999538</td>\n    </tr>\n    <tr>\n      <th>2</th>\n      <td>31a0f2e22eee6ad67b2d84f89cd42e96</td>\n      <td>SUMMARY OF CHANGE 2. This administrative change updates: a. The title of the...</td>\n      <td>dod_issuances</td>\n      <td>Intelligence Support to the Defense Critical Infrastructure Program (DCIP)</td>\n      <td>DoDI 3020.51</td>\n      <td>https://www.esd.whs.mil/Portals/54/Documents/DD/issuances/dodi/302051p.pdf?v...</td>\n      <td>70a017956d0d0962694db3ae7b44100fc64072f69ed56f6a3fa2c2b08dc35490</td>\n      <td>3</td>\n      <td>This administrative change updates: a. The title of the Under Secretary of D...</td>\n      <td>106946c53f00fd46e35bca5f47b5b5fa</td>\n      <td>This instruction is available on the Directives Division Website at https://...</td>\n      <td>dod_issuances</td>\n      <td>DoD Cryptologic Training</td>\n      <td>DoDI 3305.09</td>\n      <td>https://www.esd.whs.mil/Portals/54/Documents/DD/issuances/dodi/330509p.pdf?v...</td>\n      <td>15858382aaf9d25d3ed4dab9bba37c1aca2fbed3468410eb799b83875ad00eaf</td>\n      <td>3</td>\n      <td>This administrative change updates the title of the Under Secretary of Defen...</td>\n      <td>0.000126</td>\n      <td>0.000366</td>\n      <td>0.999508</td>\n    </tr>\n    <tr>\n      <th>3</th>\n      <td>a1bdd1d1e8e667ce28733f212889c882</td>\n      <td>Requires a 4-year service agreement: 2 years on active duty plus 2 years in ...</td>\n      <td>dod_issuances</td>\n      <td>Defense Manpower Data Center Domain Values for Military Personnel Data Extracts</td>\n      <td>DoDM 1336.05</td>\n      <td>https://www.esd.whs.mil/Portals/54/Documents/DD/issuances/dodm/133605m.PDF?v...</td>\n      <td>fb16fb843de46b5fbc89e4857e25ee5649efdc877e397d788fe609562b36241f</td>\n      <td>80</td>\n      <td>Requires a 3-year active duty service agreement.</td>\n      <td>9395790f7231ae64937e2b505771dada</td>\n      <td>Requires a 4-year active duty service agreement. D5 $150 Effective 1 August ...</td>\n      <td>dod_issuances</td>\n      <td>Defense Manpower Data Center Domain Values for Military Personnel Data Extracts</td>\n      <td>DoDM 1336.05</td>\n      <td>https://www.esd.whs.mil/Portals/54/Documents/DD/issuances/dodm/133605m.PDF?v...</td>\n      <td>fb16fb843de46b5fbc89e4857e25ee5649efdc877e397d788fe609562b36241f</td>\n      <td>85</td>\n      <td>Requires a 6-year active duty service agreement.</td>\n      <td>0.000058</td>\n      <td>0.000440</td>\n      <td>0.999502</td>\n    </tr>\n    <tr>\n      <th>4</th>\n      <td>ead7ad04914e16e33dd8baa9b5f63cfd</td>\n      <td>Requires a 4-year service agreement: 2 years on active duty plus 2 years in ...</td>\n      <td>dod_issuances</td>\n      <td>Defense Manpower Data Center Domain Values for Military Personnel Data Extracts</td>\n      <td>DoDM 1336.05</td>\n      <td>https://www.esd.whs.mil/Portals/54/Documents/DD/issuances/dodm/133605m.PDF?v...</td>\n      <td>fb16fb843de46b5fbc89e4857e25ee5649efdc877e397d788fe609562b36241f</td>\n      <td>70</td>\n      <td>Requires a 3-year active duty service agreement.</td>\n      <td>865b34886db2f78504fbf37cade6a066</td>\n      <td>Requires a 4-year active duty service agreement. K5 $750 Effective 1 August ...</td>\n      <td>dod_issuances</td>\n      <td>Defense Manpower Data Center Domain Values for Military Personnel Data Extracts</td>\n      <td>DoDM 1336.05</td>\n      <td>https://www.esd.whs.mil/Portals/54/Documents/DD/issuances/dodm/133605m.PDF?v...</td>\n      <td>fb16fb843de46b5fbc89e4857e25ee5649efdc877e397d788fe609562b36241f</td>\n      <td>97</td>\n      <td>Requires a 6-year active duty service agreement.</td>\n      <td>0.000058</td>\n      <td>0.000440</td>\n      <td>0.999502</td>\n    </tr>\n  </tbody>\n</table>\n</div>",
       "datasetInfos": [],
       "metadata": {},
       "removedWidgets": [],
       "textData": null,
       "type": "htmlSandbox"
      }
     },
     "output_type": "display_data"
    }
   ],
   "source": [
    "candidate_info.head()"
   ]
  },
  {
   "cell_type": "code",
   "execution_count": 0,
   "metadata": {
    "application/vnd.databricks.v1+cell": {
     "cellMetadata": {
      "byteLimit": 2048000,
      "rowLimit": 10000
     },
     "inputWidgets": {},
     "nuid": "447f3e65-99d8-4159-b885-093541f03d60",
     "showTitle": false,
     "title": ""
    }
   },
   "outputs": [
    {
     "output_type": "display_data",
     "data": {
      "text/html": [
       "<style scoped>\n  .ansiout {\n    display: block;\n    unicode-bidi: embed;\n    white-space: pre-wrap;\n    word-wrap: break-word;\n    word-break: break-all;\n    font-family: \"Source Code Pro\", \"Menlo\", monospace;;\n    font-size: 13px;\n    color: #555;\n    margin-left: 4px;\n    line-height: 19px;\n  }\n</style>\n<div class=\"ansiout\">(0)\nTitle:\tAutomated Extract of Active Duty Military Personnel Records\n-----\n22 292-294 Accession Program Source 292 a. Enlisted Accession Program Source Code The code that represents the accession program by which a member first obtained enlisted status (also known as Means of Initial Entry into Military Service, Enlisted.)Applicable only to enlisted members.\n\nTitle:\tAutomated Extract of Active Duty Military Personnel Records\n-----\nApplicable only to commissioned officers, other than commissioned warrant officers.\n\n\n\n(1)\nTitle:\tMilitary Officer Actions Requiring Presidential, Secretary of Defense, or Under Secretary of Defense for Personnel and Readiness Approval or Senate Confirmation\n-----\nThis instruction is effective January 3, 2014.\n\nTitle:\tVoluntary Education Programs\n-----\nThis Instruction is effective March 15, 2011.\n\n\n\n(2)\nTitle:\tIntelligence Support to the Defense Critical Infrastructure Program (DCIP)\n-----\nThis administrative change updates: a. The title of the Under Secretary of Defense for Intelligence to the Under Secretary of Defense for Intelligence and Security (USD(I&amp;S)) in accordance with Public Law 116-92 (Reference (l)), also known as the “National Defense Authorization Act for Fiscal Year 2020.”\n\nTitle:\tDoD Cryptologic Training\n-----\nThis administrative change updates the title of the Under Secretary of Defense for Intelligence to the Under Secretary of Defense for Intelligence and Security in accordance with Public Law 116-92 (Reference (d)).\n\n\n\n(3)\nTitle:\tDefense Manpower Data Center Domain Values for Military Personnel Data Extracts\n-----\nRequires a 3-year active duty service agreement.\n\nTitle:\tDefense Manpower Data Center Domain Values for Military Personnel Data Extracts\n-----\nRequires a 6-year active duty service agreement.\n\n\n\n(4)\nTitle:\tDefense Manpower Data Center Domain Values for Military Personnel Data Extracts\n-----\nRequires a 3-year active duty service agreement.\n\nTitle:\tDefense Manpower Data Center Domain Values for Military Personnel Data Extracts\n-----\nRequires a 6-year active duty service agreement.\n\n\n\n(5)\nTitle:\tDefense Manpower Data Center Domain Values for Military Personnel Data Extracts\n-----\nRequires a 2-year active duty service agreement.\n\nTitle:\tDefense Manpower Data Center Domain Values for Military Personnel Data Extracts\n-----\nRequires a 6-year active duty service agreement.\n\n\n\n(6)\nTitle:\tDefense Manpower Data Center Domain Values for Military Personnel Data Extracts\n-----\nRequires a 2-year active duty service agreement.\n\nTitle:\tDefense Manpower Data Center Domain Values for Military Personnel Data Extracts\n-----\nRequires a 6-year active duty service agreement.\n\n\n\n(7)\nTitle:\tDefense Manpower Data Center Domain Values for Military Personnel Data Extracts\n-----\nRequires a 4-year active duty service agreement.\n\nTitle:\tDefense Manpower Data Center Domain Values for Military Personnel Data Extracts\n-----\nRequires a 6-year active duty service agreement.\n\n\n\n(8)\nTitle:\tDefense Manpower Data Center Domain Values for Military Personnel Data Extracts\n-----\nRequires a 4-year active duty service agreement.\n\nTitle:\tDefense Manpower Data Center Domain Values for Military Personnel Data Extracts\n-----\nRequires a 6-year active duty service agreement.\n\n\n\n(9)\nTitle:\tSecretary of Defense Maintenance Awards\n-----\nDoDI 1348.30, April 8, 2019 SECTION 2: RESPONSIBILITIES 6 b. Forward, to the ASD(S), a maximum of two nomination packages per competition category (small, medium, and large) annually, during May, for deserving field-level units, for evaluation by the Secretary of Defense Field-Level Maintenance Awards Selection Board.\n\nTitle:\tSecretary of Defense Maintenance Awards\n-----\nRequests each Combatant Command submit nominations annually, during January, for the Sustainment Train, Advise, and Assist Award within their area of responsibility.\n\n\n\n(10)\nTitle:\tDefense Manpower Data Center Domain Values for Military Personnel Data Extracts\n-----\nRequires a 3-year active duty service agreement.\n\nTitle:\tDefense Manpower Data Center Domain Values for Military Personnel Data Extracts\n-----\nRequires a 5-year active duty service agreement.\n\n\n\n(11)\nTitle:\tDefense Manpower Data Center Domain Values for Military Personnel Data Extracts\n-----\nRequires a 3-year active duty service agreement.\n\nTitle:\tDefense Manpower Data Center Domain Values for Military Personnel Data Extracts\n-----\nRequires a 5-year active duty service agreement.\n\n\n\n(12)\nTitle:\tDefense Manpower Data Center Domain Values for Military Personnel Data Extracts\n-----\nRequires a 3-year active duty service agreement.\n\nTitle:\tDefense Manpower Data Center Domain Values for Military Personnel Data Extracts\n-----\nRequires a 5-year active duty service agreement.\n\n\n\n(13)\nTitle:\tDefense Manpower Data Center Domain Values for Military Personnel Data Extracts\n-----\nRequires a 3-year active duty service agreement.\n\nTitle:\tDefense Manpower Data Center Domain Values for Military Personnel Data Extracts\n-----\nRequires a 5-year active duty service agreement.\n\n\n\n(14)\nTitle:\tDefense Manpower Data Center Domain Values for Military Personnel Data Extracts\n-----\nRequires a 3-year active duty service agreement.\n\nTitle:\tDefense Manpower Data Center Domain Values for Military Personnel Data Extracts\n-----\nRequires a 5-year active duty service agreement.\n\n\n\n(15)\nTitle:\tDoD Policy for Oversight of Independent Research and Development (IR&amp;D)\n-----\nThis instruction is effective August 20, 2014.\n\nTitle:\tDefense Courier Operations (DCO)\n-----\nThis instruction is effective June 30, 2011.\n\n\n\n(16)\nTitle:\tDefense Manpower Data Center Domain Values for Military Personnel Data Extracts\n-----\nRequires a 2-year active duty service agreement.\n\nTitle:\tDefense Manpower Data Center Domain Values for Military Personnel Data Extracts\n-----\nRequires a 5-year active duty service agreement.\n\n\n\n(17)\nTitle:\tDefense Manpower Data Center Domain Values for Military Personnel Data Extracts\n-----\nRequires a 2-year active duty service agreement.\n\nTitle:\tDefense Manpower Data Center Domain Values for Military Personnel Data Extracts\n-----\nRequires a 5-year active duty service agreement.\n\n\n\n(18)\nTitle:\tDefense Manpower Data Center Domain Values for Military Personnel Data Extracts\n-----\nRequires a 2-year active duty service agreement.\n\nTitle:\tDefense Manpower Data Center Domain Values for Military Personnel Data Extracts\n-----\nRequires a 5-year active duty service agreement.\n\n\n\n(19)\nTitle:\tDefense Manpower Data Center Domain Values for Military Personnel Data Extracts\n-----\nRequires a 2-year active duty service agreement.\n\nTitle:\tDefense Manpower Data Center Domain Values for Military Personnel Data Extracts\n-----\nRequires a 5-year active duty service agreement.\n\n\n\n(20)\nTitle:\tDefense Manpower Data Center Domain Values for Military Personnel Data Extracts\n-----\nRequires a 2-year active duty service agreement.\n\nTitle:\tDefense Manpower Data Center Domain Values for Military Personnel Data Extracts\n-----\nRequires a 5-year active duty service agreement.\n\n\n\n(21)\nTitle:\tVisual Information (VI)\n-----\nThis Instruction: a. Reissues DoD Instruction (DoDI) 5040.02 (Reference (a)) in accordance with the authority in DoDI 5122.05 (Reference (b)) to implement policy and assign responsibilities consistent with Office of Management and Budget Circular A-130 (Reference (c)), and DoD Directive (DoDD) DoDD 5105.74 (Reference (d)), and DoDI 5015.02 (Reference (e)).\n\nTitle:\tVisual Information (VI) Productions\n-----\nd. Incorporates and cancels DoDI 5040.09 (Reference (f)).\n\n\n\n(22)\nTitle:\tDepartment Of Defense Privacy Program\n-----\nDoD 5400.11-R, May 14, 2007 APPENDIX 5 95 Altered System of Record Notice DEPARTMENT OF DEFENSE Defense Logistics Agency Privacy Act of 1974; Systems of Records AGENCY: Defense Logistics Agency ACTION: Notice to Alter a System of Records SUMMARY: The Defense Logistics Agency proposes to alter a system of records notice in its inventory of record systems subject to the Privacy Act of 1974 (5 U.S.C. 552a), as amended.\n\nTitle:\tDepartment Of Defense Privacy Program\n-----\nSUMMARY: The Department of the Army is proposing to amend a system of records notice in its existing inventory of records systems subject to the Privacy Act of 1974, (5 U.S.C. 552a), as amended.\n\n\n\n(23)\nTitle:\tDefense Manpower Data Center Domain Values for Military Personnel Data Extracts\n-----\nRequires a 2-year active duty service agreement.\n\nTitle:\tDefense Manpower Data Center Domain Values for Military Personnel Data Extracts\n-----\nRequires a 4-year active duty service agreement.\n\n\n\n(24)\nTitle:\tDefense Manpower Data Center Domain Values for Military Personnel Data Extracts\n-----\nRequires a 2-year active duty service agreement.\n\nTitle:\tDefense Manpower Data Center Domain Values for Military Personnel Data Extracts\n-----\nRequires a 4-year active duty service agreement.\n\n\n\n(25)\nTitle:\tDefense Manpower Data Center Domain Values for Military Personnel Data Extracts\n-----\nRequires a 2-year active duty service agreement.\n\nTitle:\tDefense Manpower Data Center Domain Values for Military Personnel Data Extracts\n-----\nRequires a 4-year active duty service agreement.\n\n\n\n(26)\nTitle:\tDefense Manpower Data Center Domain Values for Military Personnel Data Extracts\n-----\nRequires a 2-year active duty service agreement.\n\nTitle:\tDefense Manpower Data Center Domain Values for Military Personnel Data Extracts\n-----\nRequires a 4-year active duty service agreement.\n\n\n\n(27)\nTitle:\tObservance of Holidays in Foreign Areas\n-----\nUnder the authority, direction, and control of the ASD(M&amp;RA), the DASD(CPP) supports the development of civilian personnel policy covered by this volume and monitors its execution by DoD Components to ensure consistent and continuous application throughout the DoD. DIRECTOR, DEPARTMENT OF DEFENSE HUMAN RESOURCES ACTIVITY (DoDHRA).\n\nTitle:\tReduction in Force\n-----\nUnder the authority, direction, and control of the USD(P&amp;R), the ASD(M&amp;RA) has overall responsibility for the development of DoD civilian personnel policy covered by this volume.\n\n\n\n(28)\nTitle:\tNon-Lethal Weapons (NLW) Human Effects Characterization\n-----\nThis instruction is effective May 17, 2012.\n\nTitle:\tInstallation Energy Management\n-----\nThis Instruction is effective December 11, 2009.\n\n\n\n(29)\nTitle:\tPhased Retirement\n-----\nUnder the authority, direction, and control of the ASD(M&amp;RA), the DASD(CPP) supports the development of civilian personnel policy covered by this volume and monitors its execution by DoD Components, ensuring consistent implementation and continuous application throughout DoD. 3.DIRECTOR, DEPARTMENT OF DEFENSE HUMAN RESOURCES ACTIVITY (DoDHRA).\n\nTitle:\tSenior Level and Scientific and Professional Performance Management System and Compensation\n-----\nUnder the authority, direction, and control of the Under Secretary of Defense for Personnel and Readiness (USD(P&amp;R)), and in accordance with DoD Directive 5124.02, the Assistant Secretary of Defense for Manpower and Reserve Affairs has overall responsibility for the development of DoD civilian personnel policy covered by this DTM.\n\n\n\n(30)\nTitle:\tDepartment Of Defense Privacy Program\n-----\nDoD 5400.11-R, May 14, 2007 APPENDIX 5 95 Altered System of Record Notice DEPARTMENT OF DEFENSE Defense Logistics Agency Privacy Act of 1974; Systems of Records AGENCY: Defense Logistics Agency ACTION: Notice to Alter a System of Records SUMMARY: The Defense Logistics Agency proposes to alter a system of records notice in its inventory of record systems subject to the Privacy Act of 1974 (5 U.S.C. 552a), as amended.\n\nTitle:\tDepartment Of Defense Privacy Program\n-----\nDoD 5400.11-R, May 14, 2007 APPENDIX 7 104 AP7.\n\n\n\n(31)\nTitle:\tManagement of Land-Based Water Resources in Support of Contingency Operations\n-----\nThis directive is effective June 3, 2015.\n\nTitle:\tDoD Executive Agent (EA) for Subsistence\n-----\nThis directive is effective October 26, 2015.\n\n\n\n(32)\nTitle:\tCivil Affairs\n-----\nThis directive is effective March 11, 2014.\n\nTitle:\tDoD Support to Civil Search and Rescue (SAR)\n-----\nThis Instruction is effective September 26, 2011.\n\n\n\n(33)\nTitle:\tVoluntary Education Programs\n-----\nThis Instruction is effective March 15, 2011.\n\nTitle:\tRegional Environmental Coordination\n-----\nThis Instruction is effective August 28, 2009.\n\n\n\n(34)\nTitle:\tDefense Manpower Data Center Domain Values for Military Personnel Data Extracts\n-----\nRequires a 4-year active duty service agreement.\n\nTitle:\tDefense Manpower Data Center Domain Values for Military Personnel Data Extracts\n-----\nRequires a 5-year active duty service agreement.\n\n\n\n(35)\nTitle:\tDefense Manpower Data Center Domain Values for Military Personnel Data Extracts\n-----\nRequires a 4-year active duty service agreement.\n\nTitle:\tDefense Manpower Data Center Domain Values for Military Personnel Data Extracts\n-----\nRequires a 5-year active duty service agreement.\n\n\n\n(36)\nTitle:\tDefense Manpower Data Center Domain Values for Military Personnel Data Extracts\n-----\nRequires a 4-year active duty service agreement.\n\nTitle:\tDefense Manpower Data Center Domain Values for Military Personnel Data Extracts\n-----\nRequires a 5-year active duty service agreement.\n\n\n\n(37)\nTitle:\tDefense Manpower Data Center Domain Values for Military Personnel Data Extracts\n-----\nRequires a 4-year active duty service agreement.\n\nTitle:\tDefense Manpower Data Center Domain Values for Military Personnel Data Extracts\n-----\nRequires a 5-year active duty service agreement.\n\n\n\n(38)\nTitle:\tMilitary Morale, Welfare, and Recreation (MWR) Programs\n-----\nThis Instruction reissues DoD Instruction (DoDI) 1015.10 (Reference (a)) and incorporates and cancels DoD Directive (DoDD) 1015.2 (Reference (b) in accordance with the authority in DoDD 5124.02 (Reference (c)) to establish and implement policy, assign responsibilities, and prescribe procedures for operating and managing programs for military MWR programs.\n\nTitle:\tDoD Commissary Program\n-----\nIn accordance with the authority in DoD Directive (DoDD) 5124.02 (Reference (a)), this instruction reissues DoD Instruction (DoDI) 1330.17 (Reference (b)) to establish policy, assign responsibilities, and prescribe procedures for operating the DoD commissary program.\n\n\n\n(39)\nTitle:\tOriginal Appointment of Officers\n-----\nThis instruction is effective March 26, 2015.\n\nTitle:\tEnvironmental Management Systems\n-----\nThis Instruction is effective April 15, 2009.\n\n\n\n(40)\nTitle:\tDoD Information Security Program: Overview, Classification, and Declassification\n-----\nThe DoD Security Classification Guide Data Elements, DoD (DD) Form 2024, “DoD Security Classification Guide Certified Data Elements,” referenced in section 6 of Enclosure 6 of this Volume, has been assigned RCS DD-INT(AR)1418 in accordance with the procedures in Reference (k).\n\nTitle:\tDoD Information Security Program: Overview, Classification, and Declassification\n-----\nof Enclosure 2 of this Volume has been assigned Report Control Symbol (RCS) DD-INT(AR)1418 in accordance with the procedures in Volume 1 of DoDM 8910.01 (Reference (k)).\n\n\n\n(41)\nTitle:\tCombat Support Agencies (CSAs)\n-----\nThis directive is effective June 27, 2013.\n\nTitle:\tReimbursement for General Services Administration (GSA) Space, Services, and Facilities; and Department of Homeland Security (DHS), Washington Headquarters Services (WHS), and Pentagon Force Protection Agency (PFPA) Services\n-----\nThis Instruction is effective October 16, 2012.\n\n\n\n(42)\nTitle:\tVisual Information (VI)\n-----\nd. Continues to authorize the Joint Combat Camera (COMCAM) Program, the DoD Joint Combat Camera Planning Group (JCCPG), and the Defense VI Steering Committee (DVISC) (see Enclosure 3) consistent with DoDI 5105.18 (Reference (g)).\n\nTitle:\tVisual Information (VI) Productions\n-----\nd. Incorporates and cancels DoDI 5040.09 (Reference (f)).\n\n\n\n(43)\nTitle:\tPersonnel and Data Management Information Reporting Policies and Procedures for Implementation of the Defense Acquisition Workforce Improvement Act (DAWIA)\n-----\nThis change is administrative and, in accordance with the February 1, 2022 Washington Headquarters Services Memorandum (Reference (g)): a.Reassigns the Director of Administration, Office of the Deputy Chief Management Officer of the Department of Defense responsibilities and duties to the Director of Administration and Management (DA&amp;M) in accordance with section 901 of Public Law 116283 (Reference (h)), which eliminated the position of the Deputy Chief Management Officer of the Department of Defense effective January 1, 2021, and Reference (e) and the January 11, 2021 Deputy Secretary of Defense Memorandum (Reference (i)), which implemented Reference (h)and reestablished the DA&amp;M. b.Updates organizational titles and references for accuracy.\n\nTitle:\tSenior Executive Service (SES), Senior Level (SL), and Scientific and Professional (ST) Personnel Categories in the DoD Fourth Estate: Probationary Periods, Disciplinary Actions, and Removals\n-----\nThis change is administrative and, in accordance with the March 21, 2022 Washington Headquarters Services Memorandum (Reference (j)): a. Reassigns the Director of Administration, Office of the Deputy Chief Management Officer of the Department of Defense responsibilities and duties to the Director of Administration and Management (DA&amp;M) in accordance with Section 901 of Public Law 116283 (Reference (k)), which eliminated the position of the Deputy Chief Management Officer of the Department of Defense effective January 1, 2021; and Reference (c) and the January 11, 2021 Deputy Secretary of Defense Memorandum (Reference (l)), which implemented Reference (k) and reestablished the DA&amp;M. Updates organizational titles and references for accuracy.\n\n\n\n(44)\nTitle:\tGifts from Foreign Governments\n-----\nThe changes are administrative and, in accordance with the February 1, 2022 Washington Headquarters Services memorandum (Reference (h)): a.Update authorities from the Chief Management Officer of the Department of Defense to the Director of Administration and Management (DA&amp;M), including updating the chartering directive authority to properly cite DoD Directive 5105.53 (Reference (i)), in accordance with: (1) Section 901 of Public Law 116-283 (Reference (j)), which eliminated the position of the Deputy Chief Management Officer of the Department of Defense effective January 1, 2021. (\n\nTitle:\tDepartment of Defense Spirit of Hope (SOH) Award\n-----\nThis Instruction is effective January 10, 2013.\n\n\n\n(45)\nTitle:\tNonappropriated Fund (NAF) Classification\n-----\nUnder the authority, direction, and control of the ASD(M&amp;RA), the DASD(CPP) supports the development of civilian personnel policy covered by this volume and monitors its execution by DoD Components, ensuring consistent implementation and application throughout the DoD. DIRECTOR, DEPARTMENT OF DEFENSE HUMAN RESOURCES ACTIVITY.\n\nTitle:\tSenior Level and Scientific and Professional Performance Management System and Compensation\n-----\nUnder the authority, direction, and control of the Under Secretary of Defense for Personnel and Readiness (USD(P&amp;R)), and in accordance with DoD Directive 5124.02, the Assistant Secretary of Defense for Manpower and Reserve Affairs has overall responsibility for the development of DoD civilian personnel policy covered by this DTM.\n\n\n\n(46)\nTitle:\tOverseas Environmental Baseline Guidance Document: Air and Toxics\n-----\nDoDM 4715.05-V2, June 29, 2020 SECTION 3: GENERAL OEBGD GUIDANCE 10 a. In many cases, standards of this manual are based on specific monitoring, sampling, and analytical methods that must be considered when determining compliance or comparing with HN standards.\n\nTitle:\tOverseas Environmental Baseline Guidance Document: Waste\n-----\nDoDM 4715.05, Volume 5, June 29, 2020 SECTION 3: GENERAL OEBGD GUIDANCE 9 3.5.\n\n\n\n(47)\nTitle:\tRecruitment, Relocation, and Retention Incentives and Supervisory Differentials\n-----\nUnder the authority, direction, and control of the ASD(M&amp;RA), the DASD(CPP) supports the development of civilian personnel policy covered by this volume and monitors its execution by the DoD Components, ensuring consistent implementation and continuous application throughout the DoD. ASSISTANT SECRETARY OF DEFENSE FOR HEALTH AFFAIRS.\n\nTitle:\tSenior Level and Scientific and Professional Performance Management System and Compensation\n-----\nASSISTANT SECRETARY OF DEFENSE FOR MANPOWER AND RESERVE AFFAIRS.\n\n\n\n(48)\nTitle:\tDefense Manpower Data Center Domain Values for Military Personnel Data Extracts\n-----\nRequires a 3-year active duty service agreement.\n\nTitle:\tDefense Manpower Data Center Domain Values for Military Personnel Data Extracts\n-----\nRequires a 4-year active duty service agreement.\n\n\n\n(49)\nTitle:\tDefense Manpower Data Center Domain Values for Military Personnel Data Extracts\n-----\nRequires a 3-year active duty service agreement.\n\nTitle:\tDefense Manpower Data Center Domain Values for Military Personnel Data Extracts\n-----\nRequires a 4-year active duty service agreement.\n\n\n\n(50)\nTitle:\tDefense Manpower Data Center Domain Values for Military Personnel Data Extracts\n-----\nRequires a 3-year active duty service agreement.\n\nTitle:\tDefense Manpower Data Center Domain Values for Military Personnel Data Extracts\n-----\nRequires a 4-year active duty service agreement.\n\n\n\n(51)\nTitle:\tDefense Manpower Data Center Domain Values for Military Personnel Data Extracts\n-----\nRequires a 3-year active duty service agreement.\n\nTitle:\tDefense Manpower Data Center Domain Values for Military Personnel Data Extracts\n-----\nRequires a 4-year active duty service agreement.\n\n\n\n(52)\nTitle:\tRecruitment, Relocation, and Retention Incentives and Supervisory Differentials\n-----\nUnder the authority, direction, and control of the ASD(M&amp;RA), the DASD(CPP) supports the development of civilian personnel policy covered by this volume and monitors its execution by the DoD Components, ensuring consistent implementation and continuous application throughout the DoD. ASSISTANT SECRETARY OF DEFENSE FOR HEALTH AFFAIRS.\n\nTitle:\tSenior Level and Scientific and Professional Performance Management System and Compensation\n-----\nUnder the authority, direction, and control of the Under Secretary of Defense for Personnel and Readiness (USD(P&amp;R)), and in accordance with DoD Directive 5124.02, the Assistant Secretary of Defense for Manpower and Reserve Affairs has overall responsibility for the development of DoD civilian personnel policy covered by this DTM.\n\n\n\n(53)\nTitle:\tNational Guard and Reserve Equipment Report\n-----\nThis Instruction is effective January 8, 2010.\n\nTitle:\tRegional Environmental Coordination\n-----\nThis Instruction is effective August 28, 2009.\n\n\n\n(54)\nTitle:\tArms Transfer and Technology Release Senior Steering Group and Technology Security and Foreign Disclosure Office\n-----\nThis directive is effective October 14, 2014.\n\nTitle:\tVisual Information (VI)\n-----\nThis Instruction is effective October 27, 2011.\n\n\n\n(55)\nTitle:\tDoD Supply Chain Materiel Management Procedures: Inventory Accountability And Special Management And Handling\n-----\nDOD MANUAL 4140.01, VOLUME 11 DOD SUPPLY CHAIN MATERIEL MANAGEMENT PROCEDURES: INVENTORY ACCOUNTABILITY AND SPECIAL MANAGEMENT AND HANDLING Originating Component: Office of the Under Secretary of Defense for Acquisition and Sustainment Effective: March 8, 2017 Change 4 Effective: November 4, 2022 Releasability: Cleared for public release.\n\nTitle:\tDoD Supply Chain Materiel Management Procedures: Supporting Technologies\n-----\nAssistant Secretary of Defense for Sustainment.\n\n\n\n(56)\nTitle:\tData Submission Requirements for DoD Civilian Personnel: Appropriated Fund (APF) Civilians\n-----\nDepartment of Defense INSTRUCTION NUMBER 1444.02, Volume 1 November 5, 2013 Incorporating Change 1, Effective July 21, 2020 USD(P&amp;R) SUBJECT: Data Submission Requirements for DoD Civilian Personnel: Appropriated Fund (APF) Civilians References: See Enclosure 1 1.\n\nTitle:\tData Submission Requirements for DoD Civilian Personnel: Foreign National (FN) Civilians\n-----\nDepartment of Defense INSTRUCTION NUMBER 1444.02, Volume 3 November 5, 2013 Incorporating Change 1, Effective July 23, 2020 USD(P&amp;R) SUBJECT: Data Submission Requirements for DoD Civilian Personnel: Foreign National (FN) Civilians References: See Enclosure 1 1.\n\n\n\n(57)\nTitle:\tDoD Operations At U.S. Embassies\n-----\nThis directive: is effective December 4, 2013.\n\nTitle:\tNuclear Weapon Accident Response Procedures (NARP)\n-----\nThis manual is effective August 22, 2013.\n\n\n\n(58)\nTitle:\tDefense Manpower Data Center Domain Values for Military Personnel Data Extracts\n-----\nRequires a 2-year active duty service agreement.\n\nTitle:\tDefense Manpower Data Center Domain Values for Military Personnel Data Extracts\n-----\nRequires a 3-year active duty service agreement.\n\n\n\n(59)\nTitle:\tDefense Manpower Data Center Domain Values for Military Personnel Data Extracts\n-----\nRequires a 2-year active duty service agreement.\n\nTitle:\tDefense Manpower Data Center Domain Values for Military Personnel Data Extracts\n-----\nRequires a 3-year active duty service agreement.\n\n*** WARNING: skipped 293 bytes of output ***\n\n\n\n\n(61)\nTitle:\tDoD Executive Agent (EA) for Subsistence\n-----\nThis directive is effective October 26, 2015.\n\nTitle:\tRegional Environmental Coordination\n-----\nThis Instruction is effective August 28, 2009.\n\n\n\n(62)\nTitle:\tNonappropriated Fund (NAF) Classification\n-----\nWhen an employee separates from NAF employment because of BRAC or workforce reduction, the following provisions apply: (1) The NAF employer may choose to: DoDI 1400.25-V1408, Publication August 28, 2020 Change 1, October 1, 2021 SECTION 7: DOD NAF HBP 48 (a) Pay the NAF employer’s share of the premium (HMO or non-HMO) and applicable administrative fees for the employee for up to 18 months; or (b) Require the employee to pay the full cost of the coverage to include any applicable administrative fee.\n\nTitle:\tNonappropriated Fund (NAF) Classification\n-----\n2) The NAF employer may not pay any portion of the employee’s share. (\n\n\n\n(63)\nTitle:\tOperation of the DoD Engineering for Transportability and Deployability Program\n-----\nThis instruction is available on the Directives Division Website at https://www.esd.whs.mil/DD/. Reissues and Cancels: DoD Instruction 4540.07, “Operation of the DoD Engineering for Transportability and Deployability Program,” October 12, 2004 Approved by: Paul D. Peters, Performing the Duties of the Assistant Secretary of Defense for Logistics and Materiel Readiness Change 3 (Administrative) Approved by: Karen Saunders, Chief of Staff Purpose: This issuance implements policies, establishes procedures, and assigns responsibilities for operating the DoD Engineering for Transportability and Deployability Program in accordance with the authority in DoD Directives (DoDDs) 5134.01 and 4510.11 and the July 13, 2018 Deputy Secretary of Defense Memorandum.\n\nTitle:\tOperation of the DoD Engineering for Transportability and Deployability Program\n-----\nDoDI 4540.07, February 19, 2016 Change 3, October 30, 2019 SECTION 2: RESPONSIBILITIES 5 SECTION 2: RESPONSIBILITIES 2.1.\n\n\n\n(64)\nTitle:\tGeospatial Intelligence (GEOINT)\n-----\nThis Instruction is effective December 6, 2011.\n\nTitle:\tDoD Intelligence Collection Management\n-----\nThis Instruction is effective September 17, 2012.\n\n\n\n(65)\nTitle:\tDoD Operations At U.S. Embassies\n-----\nThis directive: is effective December 4, 2013.\n\nTitle:\tReal Property Disposal\n-----\nEFFECTIVE DATE This Instruction is effective December 21, 2007.\n\n\n\n(66)\nTitle:\tCivilian Employee Alcohol and Drug Abuse Prevention, Testing, and Control Program\n-----\nThis change is administrative and, in accordance with the March 21, 2022 Washington Headquarters Services Memorandum (Reference (p)): a. Reassigns the Director of Administration, Office of the Deputy Chief Management Officer of the Department of Defense responsibilities and duties to the Director of Administration and Management in accordance with Section 901 of Public Law 116-283 (Reference (q)), which eliminated the position of the Deputy Chief Management Officer of the Department of Defense effective January 1, 2021; and the January 11, 2021 Deputy Secretary of Defense Memorandums (References (r) and (s)), which implemented Reference (q) and reestablished the DA&amp;M. Updates organizational titles and references for accuracy.\n\nTitle:\tDoD Information Collections Manual: Procedures for DoD Public Information Collections\n-----\nThis change is administrative and, in accordance with the February 1, 2022 Washington Headquarters Services Memorandum (Reference (y)): a.Reassigns the Deputy Chief Management Officer of the Department of Defense responsibilities and duties to the Director of Administration and Management in accordance with Section 901 of Public Law 116-283 (Reference (aa)), which eliminated the position of the Deputy Chief Management Officer of the Department of Defense effective January 1, 2021, and Reference (z) and the January 11, 2021 Deputy Secretary of Defense Memorandum (Reference (ab)), which implemented Reference (aa) and reestablished the Director of Administration and Management.\n\n\n\n(67)\nTitle:\tManual of Military Decorations and Awards: DoD Joint Decorations and Awards\n-----\n5)The JSCM for specific achievement may be awarded with the “R” device to distinguish that the award was earned for the direct hands-on employment of a weapon system or other warfighting activities that had a direct and immediate impact on a combat operation or other military operation (i.e., outcome of an engagement or specific effects on a target), including Title 10, U.S.C., support of non-Title 10 operations, and operations authorized by an approved execute order.\n\nTitle:\tManual of Military Decorations and Awards: DoD Joint Decorations and Awards\n-----\n4)The JSAM for specific achievement may be awarded with the “R” device to distinguish that the award was earned for the direct hands-on employment of a weapon system or other warfighting activities that had a direct and immediate impact on a combat operation or other military operation (i.e., outcome of an engagement or specific effects on a target).,\n\n\n\n(68)\nTitle:\tOverseas Allowances and Differentials\n-----\nDepartment of Defense INSTRUCTION INSTRUCTION NUMBER 1400.25, Volume 1250 NUMBER 1400.25, Volume 1250 February 23, 2012 February 23, 2012 USD(P&amp;R) USD(P&amp;R) SUBJECT: DoD Civilian Personnel Management System: Overseas Allowances and Differentials SUBJECT: DoD Civilian Personnel Management System: Overseas Allowances and Differentials References: See Enclosure 1 References: See Enclosure 1 1.\n\nTitle:\tReduction in Force\n-----\nDepartment of Defense INSTRUCTION NUMBER 1400.25, Volume 250 June 7, 2016 USD(P&amp;R) SUBJECT: DoD Civilian Personnel Management System: Civilian Strategic Human Capital Planning (SHCP) References: See Enclosure 1 1.\n\n\n\n(69)\nTitle:\tCivil Aviation Intelligence\n-----\nThis Instruction is effective July 29, 2011.\n\nTitle:\tManagement of the Joint Reserve Intelligence Program (JRIP)\n-----\nThis instruction is effective June 26, 2015.\n\n\n\n(70)\nTitle:\tDoD Implementation of the Joint Intelligence Community Duty Assignment (JDA) Program\n-----\nEFFECTIVE DATE This Instruction is effective June 2, 2008.\n\nTitle:\tSpecial Warnings to Mariners\n-----\nThis Instruction is effective December 5, 2011.\n\n\n\n(71)\nTitle:\tDefense Manpower Data Center Domain Values for Military Personnel Data Extracts\n-----\nRequires a 4-year active duty service agreement.\n\nTitle:\tDefense Manpower Data Center Domain Values for Military Personnel Data Extracts\n-----\nRequires a 2-year active duty service agreement.\n\n\n\n(72)\nTitle:\tInformation Assurance Workforce Improvement Program\n-----\nPersonnel performing these functions as their primary CND responsibilities, regardless of their occupational title within the CND-SP organization, shall be identified as part of the CND-IR specialty and must comply with the requirements in Tables C11.T.6.\n\nTitle:\tInformation Assurance Workforce Improvement Program\n-----\nPersonnel performing these functions as their primary CND responsibilities, regardless of their occupational title within the CND-SP organization, shall be identified as part of the CND-SPM specialty and must comply with the requirements in Tables C11.T10.\n\n\n\n(73)\nTitle:\tDoD Civilian Personnel Management System: Cyber Excepted Service (CES) Introduction\n-----\nThis volume is effective January 22, 2015.\n\nTitle:\tAccountability and Management of Government Contract Property\n-----\nThis issuance is effective April 27, 2012.\n\n\n\n(74)\nTitle:\tDefense Production Act Programs\n-----\nENCLOSURE 1 REFERENCES, continued (e) Section 82 of title 50, United States Code (f) DoD Instruction 5025.01, &#34;DoD Directives Program,&#34; October 28, 2007 (g) Title 15, Code of Federal Regulations, Part 700, &#34;The Defense Priorities and Allocations System (DPAS)&#34; and DPAS Delegation 1, current edition (h) Executive Order 12919, &#34;National Defense Industrial Resources Preparedness,&#34; June 3, 1994 (i) Deputy Secretary of Defense Memorandum, “Establishment of the Office of the Under Secretary of Defense for Research and Engineering and the Office of the Under Secretary of Defense for Acquisition and Sustainment,” July 13, 2018 (j) Executive Order 12742, &#34;National Security Industrial Responsiveness,&#34; January 8, 1991 DODD 4400.01E, October 12, 2001 Change 1, 08/31/2018 6 ENCLOSURE 2 E2.\n\nTitle:\tDoD Modeling and Simulation (M&amp;S) Management\n-----\nDoDD 5000.59, August 8, 2007 Change 1, 10/15/2018 5 8.\n\n\n\n(75)\nTitle:\tService Academies\n-----\nIn accordance with the authority in DoD Directive (DoDD) 5124.02 (Reference (a)), this instruction: a. Reissues DoDD 1322.22 (Reference (b)) as a DoD Instruction (DoDI) to establish policy, assign responsibilities, and prescribe procedures for DoD oversight of the Service academies (referred to in this instruction as “the academies”).\n\nTitle:\tDoD Scientific and Technical Information Program (STIP)\n-----\nIncorporates and cancels Directive-type Memorandum 17-002 (Reference (d)).\n\n\n\n(76)\nTitle:\tRegional Environmental Coordination\n-----\nThis change reassigns the office of primary responsibility for this instruction to the Under Secretary of Defense for Acquisition and Sustainment in accordance with the July 13, 2018 Deputy Secretary of Defense Memorandum (Reference (d)).\n\nTitle:\tEmergency Security Control of Air Traffic (ESCAT)\n-----\nThis change reassigns the office of primary responsibility for this instruction to the Under Secretary of Defense for Acquisition and Sustainment in accordance with the July 13, 2018 Deputy Secretary of Defense Memorandum (Reference (h)).\n\n\n\n(77)\nTitle:\tManagement of Land-Based Water Resources in Support of Contingency Operations\n-----\nThis change is administrative and updates references and organizational symbols to reflect the reorganization of the Office of the Under Secretary of Defense for Acquisition, Technology, and Logistics, pursuant to the July 13, 2018 Deputy Secretary of Defense Memorandum (Reference (c)).\n\nTitle:\tDoD Executive Agent (EA) for Subsistence\n-----\nThis change is administrative and updates references and organizational symbols to reflect the reorganization of the Office of the Under Secretary of Defense for Acquisition, Technology, and Logistics, pursuant to the July 13, 2018 Deputy Secretary of Defense Memorandum (Reference (d)).\n\n\n\n(78)\nTitle:\tContinuation of Commissioned Officers on Active Duty and on the Reserve Active-Status List\n-----\nFor commissioned officers in the grade of O-5 who are subject to removal from the RASL pursuant to Section 14507 of Title 10, U.S.C., the Secretary of the Military Department concerned may defer the removal of such officers with particular skills for a period which does not extend beyond the last day of the month in which the officer completes 33 years of commissioned service, pursuant to Section 14701 of Title 10, U.S.C. DoDI 1320.08, July 7, 2017 Change 2, August 28, 2020 SECTION 3: PROCEDURES 8 b. For commissioned officers in the grade of O-6 who are subject to removal from the RASL pursuant to Section 14507 of Title 10, U.S.C.\n\nTitle:\tContinuation of Commissioned Officers on Active Duty and on the Reserve Active-Status List\n-----\nDoDI 1320.08, July 7, 2017 Change 2, August 28, 2020 SECTION 3: PROCEDURES 8 b. For commissioned officers in the grade of O-6 who are subject to removal from the RASL pursuant to Section 14507 of Title 10, U.S.C., the Secretary of the Military Department concerned may defer the removal of such officers with particular skills for a period which does not extend beyond the last day of the month in which the officer completes 35 years of commissioned service, as prescribed in Section 14701 of Title 10, U.S.C. c. For commissioned officers in the grades of O-7 through O-9 on the RASL who would otherwise be removed from an active status pursuant to Section 14508(a), (b), or (c) of Title 10, U.S.C., the Secretary of the Military Department concerned may retain such officers in their Departments in an active status subject to the provisions and limitation of Section 14508 and 14510-14512 of Title 10, U.S.C. DECLINATION OF CONTINUATION.\n\n\n\n(79)\nTitle:\tDefense Production Act Programs\n-----\nENCLOSURE 1 REFERENCES, continued (e) Section 82 of title 50, United States Code (f) DoD Instruction 5025.01, &#34;DoD Directives Program,&#34; October 28, 2007 (g) Title 15, Code of Federal Regulations, Part 700, &#34;The Defense Priorities and Allocations System (DPAS)&#34; and DPAS Delegation 1, current edition (h) Executive Order 12919, &#34;National Defense Industrial Resources Preparedness,&#34; June 3, 1994 (i) Deputy Secretary of Defense Memorandum, “Establishment of the Office of the Under Secretary of Defense for Research and Engineering and the Office of the Under Secretary of Defense for Acquisition and Sustainment,” July 13, 2018 (j) Executive Order 12742, &#34;National Security Industrial Responsiveness,&#34; January 8, 1991 DODD 4400.01E, October 12, 2001 Change 1, 08/31/2018 6 ENCLOSURE 2 E2.\n\nTitle:\tDoD Modeling and Simulation (M&amp;S) Management\n-----\nDefinitions DoDD 5000.59, August 8, 2007 Change 1, 10/15/2018 ENCLOSURE 1 6 E1.\n\n\n\n(80)\nTitle:\tNonappropriated Fund (NAF) Employment\n-----\nDoDI 1400.25-V1614, November 5, 2015 APPENDIX 8 TO ENCLOSURE 3 31 (1) Provide the type of protected activity in which the complainant participated (e.g., EEO complaint, grievance with EEO basis, representation). (\n\nTitle:\tNonappropriated Fund (NAF) Employment\n-----\nDoDI 1400.25-V1614, November 5, 2015 APPENDIX 20 TO ENCLOSURE 3 62 (1) Provide the type of protected activity in which the complainant participated (e.g., EEO complaint, grievance with EEO basis, representation).\n\n\n\n(81)\nTitle:\tManual of Military Decorations and Awards: DoD Joint Decorations and Awards\n-----\n5)The JSCM for specific achievement may be awarded with the “R” device to distinguish that the award was earned for the direct hands-on employment of a weapon system or other warfighting activities that had a direct and immediate impact on a combat operation or other military operation (i.e., outcome of an engagement or specific effects on a target), including Title 10, U.S.C., support of non-Title 10 operations, and operations authorized by an approved execute order.\n\nTitle:\tManual of Military Decorations and Awards: DoD Joint Decorations and Awards\n-----\n(3)The JSAM may be awarded with the “C” device to recognize meritorious service or achievement performed under combat conditions on or after January 7, 2016.\n\n\n\n(82)\nTitle:\tOpen Source Intelligence (OSINT)\n-----\nThis Instruction is effective August 24, 2010.\n\nTitle:\tReserve Component Intelligence Enterprise (RCIE) Management\n-----\nThis instruction is effective July 17, 2013.\n\n\n\n(83)\nTitle:\tPhased Retirement\n-----\nUnder the authority, direction, and control of the Under Secretary of Defense for Personnel and Readiness (USD(P&amp;R)), and in accordance with Reference (a), the ASD (M&amp;RA) has overall responsibility for the development of DoD civilian personnel policy covered by this volume.\n\nTitle:\tSenior Level and Scientific and Professional Performance Management System and Compensation\n-----\nUnder the authority, direction, and control of the Under Secretary of Defense for Personnel and Readiness (USD(P&amp;R)), and in accordance with DoD Directive 5124.02, the Assistant Secretary of Defense for Manpower and Reserve Affairs has overall responsibility for the development of DoD civilian personnel policy covered by this DTM.\n\n\n\n(84)\nTitle:\tDefense Civilian Intelligence Personnel System: (DCIPS) - Introduction\n-----\nDepartment of Defense INSTRUCTION NUMBER 1400.25, Volume 1401 October 18, 2011 Incorporating Change 1, November 17, 2017 USD(P&amp;R) SUBJECT: DoD Civilian Personnel Management System: General Information Concerning Nonappropriated Fund (NAF) Personnel Policy References: See Enclosure 1 1.\n\nTitle:\tDefense Civilian Intelligence Personnel System (DCIPS) Disciplinary, Performance Based, and Adverse Action Procedures\n-----\nDepartment of Defense INSTRUCTION NUMBER 1400.25, Volume 251 October 23, 2014 USD(P&amp;R) SUBJECT: DoD Civilian Personnel Management System: Relationships With Non-labor Organizations Representing Federal Employees and Other Organizations References: See Enclosure 1 1.\n\n\n\n(85)\nTitle:\tDepartment of Defense Presidential Support Program\n-----\nENCLOSURE 1 REFERENCES, continued (d) Title 3, United States Code (e) DoD 5200.2-R, &#34;DoD Personnel Security Program,&#34; January 1987 (f) DoD 8910.1-M, &#34;DoD Procedures for Management of Information Requirements,&#34; November 1986\n\nTitle:\tFamily Subsistence Supplemental Allowance (FSSA) Program\n-----\nENCLOSURE 1 REFERENCES, continued (e) Sections 2012 and 2014(c) of title 7, United States Code (f) DoD 8910.1-M, “Department of Defense Procedures for Management of Information Requirements,” June 30, 1998 ENCLOSURE 1 8 DoDI 1341.11, March 4, 2008 E2.\n\n\n\n(86)\nTitle:\tSenior Executive Service (SES), Senior Level (SL), and Scientific and Professional (ST) Personnel Categories in the DoD Fourth Estate: Probationary Periods, Disciplinary Actions, and Removals\n-----\nThis change is administrative and, in accordance with the March 21, 2022 Washington Headquarters Services Memorandum (Reference (j)): a. Reassigns the Director of Administration, Office of the Deputy Chief Management Officer of the Department of Defense responsibilities and duties to the Director of Administration and Management (DA&amp;M) in accordance with Section 901 of Public Law 116283 (Reference (k)), which eliminated the position of the Deputy Chief Management Officer of the Department of Defense effective January 1, 2021; and Reference (c) and the January 11, 2021 Deputy Secretary of Defense Memorandum (Reference (l)), which implemented Reference (k) and reestablished the DA&amp;M. Updates organizational titles and references for accuracy.\n\nTitle:\tDoD Manual for Written Material: Examples and Reference Material\n-----\nThis change is administrative and, in accordance with the February 1, 2022 Washington Headquarters Services memorandum: a.Updates authorities from the Chief Management Officer of the Department of Defense to the Director of Administration and Management (DA&amp;M), including updating the chartering directive authority to properly cite DoD Directive 5105.53, in accordance with: (1)Section 901 of Public Law 116-283, which eliminated the position of the Deputy Chief Management Officer of the Department of Defense effective January 1, 2021. (\n\n\n\n(87)\nTitle:\tManagement of Laser Illumination of Objects in Space\n-----\nb. Implements the procedures developed by the CJCS, including laser activity characterization, and the assessment, mitigation, and, per Paragraph 3.1.c, acceptance of risk to DoD RSO activities from laser illumination, in coordination with the DNRO, other relevant DoD Component heads, and other applicable non-DoD stakeholders.\n\nTitle:\tManagement of Laser Illumination of Objects in Space\n-----\nDoD laser owners and operators will: (1) Operationally employ authorized DoD weapon systems without the need for further coordination, in accordance with applicable rules of engagement, and execute orders. (\n\n\n\n(88)\nTitle:\tHazardous Pay (HzP) Program\n-----\n1) To be eligible for flying duty HDIP, a Service member must be required by competent orders to participate frequently and regularly in sustained, powered, controlled aerial flights, and generally must complete 4 hours (or 2 hours for RC Service members) of aerial flight each month.\n\nTitle:\tHazardous Pay (HzP) Program\n-----\nIn order to complete the flying hour requirement, the Service member may comply with the minimum flight requirements by performing 24 hours (or 12 hours for RC Service members) of aerial flight over a period of 6 consecutive calendar months.\n\n\n\n(89)\nTitle:\tDoD Nuclear Weapon System Safety Program Manual\n-----\nWhen the NWSSG report includes draft safety rules or changes to existing safety rules, the Military Department will, simultaneously with the preparation of the NWSSG report, prepare the Military Department safety rules package for separate coordination and approval.\n\nTitle:\tDoD Nuclear Weapon System Safety Program Manual\n-----\nRe-coordinating with the Military Department submitting the proposed safety rules package is not required.\n\n\n\n(90)\nTitle:\tNonappropriated Fund (NAF) Employment\n-----\nInclude the cover page to identify the source document, as well as the signature page.\n\nTitle:\tNonappropriated Fund (NAF) Employment\n-----\nPages should be printed on one side only.\n\n\n\n(91)\nTitle:\tEmployment of Experts and Consultants\n-----\nIt is OSD policy, in accordance with References (c) and (d) that: a. Experts and consultants may be appointed on an intermittent, part-time, or full-time work schedule basis as a legitimate and economical way to obtain highly specialized services to improve OSD services and operations.\n\nTitle:\tEmployment of Experts and Consultants\n-----\nThis applies to routine ongoing work of a policy, decisionmaking, or managerial nature that is the direct responsibility of an OSD Component Service member or civilian employee. (\n\n\n\n(92)\nTitle:\tDefense Manpower Data Center Domain Values for Military Personnel Data Extracts\n-----\nRequires a 3-year active duty service agreement.\n\nTitle:\tDefense Manpower Data Center Domain Values for Military Personnel Data Extracts\n-----\nRequires a 2-year active duty service agreement.\n\n\n\n(93)\nTitle:\tDepartment Of Defense Privacy Program\n-----\nComponent rules shall include a blanket exemption under section 552a(k)(1) (Reference (b)) from the access provisions (section 552a(d) of Reference (b)), and the notification of access procedures (section 552a(e)(4)(H) of Reference (b)) for all classified material in any systems of records maintained.\n\nTitle:\tDepartment Of Defense Privacy Program\n-----\nThe specific sections of Reference (b) under which the exemption for the system is claimed (for example, sections 552a(j)(2), 552a(k)(3), or 552a(k)(7) of Reference (b)).\n\n\n\n(94)\nTitle:\tDoD Sentence Computation Manual\n-----\nA sentence to confinement for 1 month is adjudged on 20050301.\n\nTitle:\tDoD Sentence Computation Manual\n-----\nA sentence to confinement for 99 years is adjudged on 20050301.\n\n\n\n(95)\nTitle:\tCost Analysis Guidance and Procedures\n-----\nb) If the DoD Component is directed to fund to the CAPE ICE, CAPE will help the DoD Component understand the methodologies used to conduct the CAPE ICE, so the DoD Component can update its cost model. (\n\nTitle:\tCost Analysis Guidance and Procedures\n-----\na) If the DoD Component is directed to fund to the CAPE ICE, CAPE will help the DoD Component understand the methodologies used to conduct the CAPE ICE, so the DoD Component can update its cost model. (\n\n\n\n(96)\nTitle:\tJoint Ethics Regulation (JER)\n-----\nExcept for a DoD Component DAEO, Alternate DAEO, or Deputy DAEO, a DoD employee appointed as an Ethics Counselor shall only serve as a &#34;DAEO or designee&#34; when he has been delegated specific written authority by the DoD Component DAEO to perform specific functions on behalf of the DoD Component DAEO.\n\nTitle:\tJoint Ethics Regulation (JER)\n-----\nEach DoD Component Alternate Designated Agency Ethics Official (Alternate DAEO) shall serve in the absence of the DoD Component DAEO and, when so serving, is authorized to take any action this Regulation indicates may be taken only by the DoD Component DAEO.\n\n\n\n(97)\nTitle:\tIntelligence Support to the Defense Critical Infrastructure Program (DCIP)\n-----\nThis Instruction is effective June 23, 2011.\n\nTitle:\tDoD Cryptologic Training\n-----\nThis instruction is effective June 13, 2013.\n\n\n\n(98)\nTitle:\tMilitary Whistleblower Protection\n-----\nof this enclosure, not later than 180 days after the commencement of a reprisal or restriction investigation, and every 180 days thereafter until the transmission of the report, notifies the Under Secretary of Defense for Personnel and Readiness (USD(P&amp;R)), the Secretary of the Military Department concerned, and the Service member of the reasons for the delay and an estimate of the time remaining until the report will be issued.\n\nTitle:\tMilitary Whistleblower Protection\n-----\nh. Transmit a report on the results of the investigation of reprisal, restriction, or underlying allegations to the USD(P&amp;R), the Secretary of the Military Department concerned, and the Service member not later than 30 days after IG DoD approval of the results of the investigation.\n\n\n\n(99)\nTitle:\tPost Separation Entitlement and Benefit Authority\n-----\nDepartment of Defense INSTRUCTION NUMBER 1400.25, Volume 1705 January 24, 2007 Administratively reissued April 6, 2009 USD(P&amp;R) SUBJECT: DoD Civilian Personnel Management System: Operational Continuity During Closure References: (a) DoD Directive 5124.02, “Under Secretary of Defense for Personnel and Readiness (USD(P&amp;R)),” June 23, 2008 (b) Sections 3341, 5551, 5596, 6304, and 9902 of title 5, United States Code (c) Part 316 of title 5, Code of Federal Regulations 1.\n\nTitle:\tAwards\n-----\nDepartment of Defense INSTRUCTION NUMBER 1400.25, Volume 451 November 4, 2013 USD(P&amp;R) SUBJECT: DoD Civilian Personnel Management System: Awards References: See Enclosure 1 1.\n\n\n\n</div>"
      ]
     },
     "metadata": {
      "application/vnd.databricks.v1+output": {
       "addedWidgets": {},
       "arguments": {},
       "data": "<div class=\"ansiout\">(0)\nTitle:\tAutomated Extract of Active Duty Military Personnel Records\n-----\n22 292-294 Accession Program Source 292 a. Enlisted Accession Program Source Code The code that represents the accession program by which a member first obtained enlisted status (also known as Means of Initial Entry into Military Service, Enlisted.)Applicable only to enlisted members.\n\nTitle:\tAutomated Extract of Active Duty Military Personnel Records\n-----\nApplicable only to commissioned officers, other than commissioned warrant officers.\n\n\n\n(1)\nTitle:\tMilitary Officer Actions Requiring Presidential, Secretary of Defense, or Under Secretary of Defense for Personnel and Readiness Approval or Senate Confirmation\n-----\nThis instruction is effective January 3, 2014.\n\nTitle:\tVoluntary Education Programs\n-----\nThis Instruction is effective March 15, 2011.\n\n\n\n(2)\nTitle:\tIntelligence Support to the Defense Critical Infrastructure Program (DCIP)\n-----\nThis administrative change updates: a. The title of the Under Secretary of Defense for Intelligence to the Under Secretary of Defense for Intelligence and Security (USD(I&amp;S)) in accordance with Public Law 116-92 (Reference (l)), also known as the “National Defense Authorization Act for Fiscal Year 2020.”\n\nTitle:\tDoD Cryptologic Training\n-----\nThis administrative change updates the title of the Under Secretary of Defense for Intelligence to the Under Secretary of Defense for Intelligence and Security in accordance with Public Law 116-92 (Reference (d)).\n\n\n\n(3)\nTitle:\tDefense Manpower Data Center Domain Values for Military Personnel Data Extracts\n-----\nRequires a 3-year active duty service agreement.\n\nTitle:\tDefense Manpower Data Center Domain Values for Military Personnel Data Extracts\n-----\nRequires a 6-year active duty service agreement.\n\n\n\n(4)\nTitle:\tDefense Manpower Data Center Domain Values for Military Personnel Data Extracts\n-----\nRequires a 3-year active duty service agreement.\n\nTitle:\tDefense Manpower Data Center Domain Values for Military Personnel Data Extracts\n-----\nRequires a 6-year active duty service agreement.\n\n\n\n(5)\nTitle:\tDefense Manpower Data Center Domain Values for Military Personnel Data Extracts\n-----\nRequires a 2-year active duty service agreement.\n\nTitle:\tDefense Manpower Data Center Domain Values for Military Personnel Data Extracts\n-----\nRequires a 6-year active duty service agreement.\n\n\n\n(6)\nTitle:\tDefense Manpower Data Center Domain Values for Military Personnel Data Extracts\n-----\nRequires a 2-year active duty service agreement.\n\nTitle:\tDefense Manpower Data Center Domain Values for Military Personnel Data Extracts\n-----\nRequires a 6-year active duty service agreement.\n\n\n\n(7)\nTitle:\tDefense Manpower Data Center Domain Values for Military Personnel Data Extracts\n-----\nRequires a 4-year active duty service agreement.\n\nTitle:\tDefense Manpower Data Center Domain Values for Military Personnel Data Extracts\n-----\nRequires a 6-year active duty service agreement.\n\n\n\n(8)\nTitle:\tDefense Manpower Data Center Domain Values for Military Personnel Data Extracts\n-----\nRequires a 4-year active duty service agreement.\n\nTitle:\tDefense Manpower Data Center Domain Values for Military Personnel Data Extracts\n-----\nRequires a 6-year active duty service agreement.\n\n\n\n(9)\nTitle:\tSecretary of Defense Maintenance Awards\n-----\nDoDI 1348.30, April 8, 2019 SECTION 2: RESPONSIBILITIES 6 b. Forward, to the ASD(S), a maximum of two nomination packages per competition category (small, medium, and large) annually, during May, for deserving field-level units, for evaluation by the Secretary of Defense Field-Level Maintenance Awards Selection Board.\n\nTitle:\tSecretary of Defense Maintenance Awards\n-----\nRequests each Combatant Command submit nominations annually, during January, for the Sustainment Train, Advise, and Assist Award within their area of responsibility.\n\n\n\n(10)\nTitle:\tDefense Manpower Data Center Domain Values for Military Personnel Data Extracts\n-----\nRequires a 3-year active duty service agreement.\n\nTitle:\tDefense Manpower Data Center Domain Values for Military Personnel Data Extracts\n-----\nRequires a 5-year active duty service agreement.\n\n\n\n(11)\nTitle:\tDefense Manpower Data Center Domain Values for Military Personnel Data Extracts\n-----\nRequires a 3-year active duty service agreement.\n\nTitle:\tDefense Manpower Data Center Domain Values for Military Personnel Data Extracts\n-----\nRequires a 5-year active duty service agreement.\n\n\n\n(12)\nTitle:\tDefense Manpower Data Center Domain Values for Military Personnel Data Extracts\n-----\nRequires a 3-year active duty service agreement.\n\nTitle:\tDefense Manpower Data Center Domain Values for Military Personnel Data Extracts\n-----\nRequires a 5-year active duty service agreement.\n\n\n\n(13)\nTitle:\tDefense Manpower Data Center Domain Values for Military Personnel Data Extracts\n-----\nRequires a 3-year active duty service agreement.\n\nTitle:\tDefense Manpower Data Center Domain Values for Military Personnel Data Extracts\n-----\nRequires a 5-year active duty service agreement.\n\n\n\n(14)\nTitle:\tDefense Manpower Data Center Domain Values for Military Personnel Data Extracts\n-----\nRequires a 3-year active duty service agreement.\n\nTitle:\tDefense Manpower Data Center Domain Values for Military Personnel Data Extracts\n-----\nRequires a 5-year active duty service agreement.\n\n\n\n(15)\nTitle:\tDoD Policy for Oversight of Independent Research and Development (IR&amp;D)\n-----\nThis instruction is effective August 20, 2014.\n\nTitle:\tDefense Courier Operations (DCO)\n-----\nThis instruction is effective June 30, 2011.\n\n\n\n(16)\nTitle:\tDefense Manpower Data Center Domain Values for Military Personnel Data Extracts\n-----\nRequires a 2-year active duty service agreement.\n\nTitle:\tDefense Manpower Data Center Domain Values for Military Personnel Data Extracts\n-----\nRequires a 5-year active duty service agreement.\n\n\n\n(17)\nTitle:\tDefense Manpower Data Center Domain Values for Military Personnel Data Extracts\n-----\nRequires a 2-year active duty service agreement.\n\nTitle:\tDefense Manpower Data Center Domain Values for Military Personnel Data Extracts\n-----\nRequires a 5-year active duty service agreement.\n\n\n\n(18)\nTitle:\tDefense Manpower Data Center Domain Values for Military Personnel Data Extracts\n-----\nRequires a 2-year active duty service agreement.\n\nTitle:\tDefense Manpower Data Center Domain Values for Military Personnel Data Extracts\n-----\nRequires a 5-year active duty service agreement.\n\n\n\n(19)\nTitle:\tDefense Manpower Data Center Domain Values for Military Personnel Data Extracts\n-----\nRequires a 2-year active duty service agreement.\n\nTitle:\tDefense Manpower Data Center Domain Values for Military Personnel Data Extracts\n-----\nRequires a 5-year active duty service agreement.\n\n\n\n(20)\nTitle:\tDefense Manpower Data Center Domain Values for Military Personnel Data Extracts\n-----\nRequires a 2-year active duty service agreement.\n\nTitle:\tDefense Manpower Data Center Domain Values for Military Personnel Data Extracts\n-----\nRequires a 5-year active duty service agreement.\n\n\n\n(21)\nTitle:\tVisual Information (VI)\n-----\nThis Instruction: a. Reissues DoD Instruction (DoDI) 5040.02 (Reference (a)) in accordance with the authority in DoDI 5122.05 (Reference (b)) to implement policy and assign responsibilities consistent with Office of Management and Budget Circular A-130 (Reference (c)), and DoD Directive (DoDD) DoDD 5105.74 (Reference (d)), and DoDI 5015.02 (Reference (e)).\n\nTitle:\tVisual Information (VI) Productions\n-----\nd. Incorporates and cancels DoDI 5040.09 (Reference (f)).\n\n\n\n(22)\nTitle:\tDepartment Of Defense Privacy Program\n-----\nDoD 5400.11-R, May 14, 2007 APPENDIX 5 95 Altered System of Record Notice DEPARTMENT OF DEFENSE Defense Logistics Agency Privacy Act of 1974; Systems of Records AGENCY: Defense Logistics Agency ACTION: Notice to Alter a System of Records SUMMARY: The Defense Logistics Agency proposes to alter a system of records notice in its inventory of record systems subject to the Privacy Act of 1974 (5 U.S.C. 552a), as amended.\n\nTitle:\tDepartment Of Defense Privacy Program\n-----\nSUMMARY: The Department of the Army is proposing to amend a system of records notice in its existing inventory of records systems subject to the Privacy Act of 1974, (5 U.S.C. 552a), as amended.\n\n\n\n(23)\nTitle:\tDefense Manpower Data Center Domain Values for Military Personnel Data Extracts\n-----\nRequires a 2-year active duty service agreement.\n\nTitle:\tDefense Manpower Data Center Domain Values for Military Personnel Data Extracts\n-----\nRequires a 4-year active duty service agreement.\n\n\n\n(24)\nTitle:\tDefense Manpower Data Center Domain Values for Military Personnel Data Extracts\n-----\nRequires a 2-year active duty service agreement.\n\nTitle:\tDefense Manpower Data Center Domain Values for Military Personnel Data Extracts\n-----\nRequires a 4-year active duty service agreement.\n\n\n\n(25)\nTitle:\tDefense Manpower Data Center Domain Values for Military Personnel Data Extracts\n-----\nRequires a 2-year active duty service agreement.\n\nTitle:\tDefense Manpower Data Center Domain Values for Military Personnel Data Extracts\n-----\nRequires a 4-year active duty service agreement.\n\n\n\n(26)\nTitle:\tDefense Manpower Data Center Domain Values for Military Personnel Data Extracts\n-----\nRequires a 2-year active duty service agreement.\n\nTitle:\tDefense Manpower Data Center Domain Values for Military Personnel Data Extracts\n-----\nRequires a 4-year active duty service agreement.\n\n\n\n(27)\nTitle:\tObservance of Holidays in Foreign Areas\n-----\nUnder the authority, direction, and control of the ASD(M&amp;RA), the DASD(CPP) supports the development of civilian personnel policy covered by this volume and monitors its execution by DoD Components to ensure consistent and continuous application throughout the DoD. DIRECTOR, DEPARTMENT OF DEFENSE HUMAN RESOURCES ACTIVITY (DoDHRA).\n\nTitle:\tReduction in Force\n-----\nUnder the authority, direction, and control of the USD(P&amp;R), the ASD(M&amp;RA) has overall responsibility for the development of DoD civilian personnel policy covered by this volume.\n\n\n\n(28)\nTitle:\tNon-Lethal Weapons (NLW) Human Effects Characterization\n-----\nThis instruction is effective May 17, 2012.\n\nTitle:\tInstallation Energy Management\n-----\nThis Instruction is effective December 11, 2009.\n\n\n\n(29)\nTitle:\tPhased Retirement\n-----\nUnder the authority, direction, and control of the ASD(M&amp;RA), the DASD(CPP) supports the development of civilian personnel policy covered by this volume and monitors its execution by DoD Components, ensuring consistent implementation and continuous application throughout DoD. 3.DIRECTOR, DEPARTMENT OF DEFENSE HUMAN RESOURCES ACTIVITY (DoDHRA).\n\nTitle:\tSenior Level and Scientific and Professional Performance Management System and Compensation\n-----\nUnder the authority, direction, and control of the Under Secretary of Defense for Personnel and Readiness (USD(P&amp;R)), and in accordance with DoD Directive 5124.02, the Assistant Secretary of Defense for Manpower and Reserve Affairs has overall responsibility for the development of DoD civilian personnel policy covered by this DTM.\n\n\n\n(30)\nTitle:\tDepartment Of Defense Privacy Program\n-----\nDoD 5400.11-R, May 14, 2007 APPENDIX 5 95 Altered System of Record Notice DEPARTMENT OF DEFENSE Defense Logistics Agency Privacy Act of 1974; Systems of Records AGENCY: Defense Logistics Agency ACTION: Notice to Alter a System of Records SUMMARY: The Defense Logistics Agency proposes to alter a system of records notice in its inventory of record systems subject to the Privacy Act of 1974 (5 U.S.C. 552a), as amended.\n\nTitle:\tDepartment Of Defense Privacy Program\n-----\nDoD 5400.11-R, May 14, 2007 APPENDIX 7 104 AP7.\n\n\n\n(31)\nTitle:\tManagement of Land-Based Water Resources in Support of Contingency Operations\n-----\nThis directive is effective June 3, 2015.\n\nTitle:\tDoD Executive Agent (EA) for Subsistence\n-----\nThis directive is effective October 26, 2015.\n\n\n\n(32)\nTitle:\tCivil Affairs\n-----\nThis directive is effective March 11, 2014.\n\nTitle:\tDoD Support to Civil Search and Rescue (SAR)\n-----\nThis Instruction is effective September 26, 2011.\n\n\n\n(33)\nTitle:\tVoluntary Education Programs\n-----\nThis Instruction is effective March 15, 2011.\n\nTitle:\tRegional Environmental Coordination\n-----\nThis Instruction is effective August 28, 2009.\n\n\n\n(34)\nTitle:\tDefense Manpower Data Center Domain Values for Military Personnel Data Extracts\n-----\nRequires a 4-year active duty service agreement.\n\nTitle:\tDefense Manpower Data Center Domain Values for Military Personnel Data Extracts\n-----\nRequires a 5-year active duty service agreement.\n\n\n\n(35)\nTitle:\tDefense Manpower Data Center Domain Values for Military Personnel Data Extracts\n-----\nRequires a 4-year active duty service agreement.\n\nTitle:\tDefense Manpower Data Center Domain Values for Military Personnel Data Extracts\n-----\nRequires a 5-year active duty service agreement.\n\n\n\n(36)\nTitle:\tDefense Manpower Data Center Domain Values for Military Personnel Data Extracts\n-----\nRequires a 4-year active duty service agreement.\n\nTitle:\tDefense Manpower Data Center Domain Values for Military Personnel Data Extracts\n-----\nRequires a 5-year active duty service agreement.\n\n\n\n(37)\nTitle:\tDefense Manpower Data Center Domain Values for Military Personnel Data Extracts\n-----\nRequires a 4-year active duty service agreement.\n\nTitle:\tDefense Manpower Data Center Domain Values for Military Personnel Data Extracts\n-----\nRequires a 5-year active duty service agreement.\n\n\n\n(38)\nTitle:\tMilitary Morale, Welfare, and Recreation (MWR) Programs\n-----\nThis Instruction reissues DoD Instruction (DoDI) 1015.10 (Reference (a)) and incorporates and cancels DoD Directive (DoDD) 1015.2 (Reference (b) in accordance with the authority in DoDD 5124.02 (Reference (c)) to establish and implement policy, assign responsibilities, and prescribe procedures for operating and managing programs for military MWR programs.\n\nTitle:\tDoD Commissary Program\n-----\nIn accordance with the authority in DoD Directive (DoDD) 5124.02 (Reference (a)), this instruction reissues DoD Instruction (DoDI) 1330.17 (Reference (b)) to establish policy, assign responsibilities, and prescribe procedures for operating the DoD commissary program.\n\n\n\n(39)\nTitle:\tOriginal Appointment of Officers\n-----\nThis instruction is effective March 26, 2015.\n\nTitle:\tEnvironmental Management Systems\n-----\nThis Instruction is effective April 15, 2009.\n\n\n\n(40)\nTitle:\tDoD Information Security Program: Overview, Classification, and Declassification\n-----\nThe DoD Security Classification Guide Data Elements, DoD (DD) Form 2024, “DoD Security Classification Guide Certified Data Elements,” referenced in section 6 of Enclosure 6 of this Volume, has been assigned RCS DD-INT(AR)1418 in accordance with the procedures in Reference (k).\n\nTitle:\tDoD Information Security Program: Overview, Classification, and Declassification\n-----\nof Enclosure 2 of this Volume has been assigned Report Control Symbol (RCS) DD-INT(AR)1418 in accordance with the procedures in Volume 1 of DoDM 8910.01 (Reference (k)).\n\n\n\n(41)\nTitle:\tCombat Support Agencies (CSAs)\n-----\nThis directive is effective June 27, 2013.\n\nTitle:\tReimbursement for General Services Administration (GSA) Space, Services, and Facilities; and Department of Homeland Security (DHS), Washington Headquarters Services (WHS), and Pentagon Force Protection Agency (PFPA) Services\n-----\nThis Instruction is effective October 16, 2012.\n\n\n\n(42)\nTitle:\tVisual Information (VI)\n-----\nd. Continues to authorize the Joint Combat Camera (COMCAM) Program, the DoD Joint Combat Camera Planning Group (JCCPG), and the Defense VI Steering Committee (DVISC) (see Enclosure 3) consistent with DoDI 5105.18 (Reference (g)).\n\nTitle:\tVisual Information (VI) Productions\n-----\nd. Incorporates and cancels DoDI 5040.09 (Reference (f)).\n\n\n\n(43)\nTitle:\tPersonnel and Data Management Information Reporting Policies and Procedures for Implementation of the Defense Acquisition Workforce Improvement Act (DAWIA)\n-----\nThis change is administrative and, in accordance with the February 1, 2022 Washington Headquarters Services Memorandum (Reference (g)): a.Reassigns the Director of Administration, Office of the Deputy Chief Management Officer of the Department of Defense responsibilities and duties to the Director of Administration and Management (DA&amp;M) in accordance with section 901 of Public Law 116283 (Reference (h)), which eliminated the position of the Deputy Chief Management Officer of the Department of Defense effective January 1, 2021, and Reference (e) and the January 11, 2021 Deputy Secretary of Defense Memorandum (Reference (i)), which implemented Reference (h)and reestablished the DA&amp;M. b.Updates organizational titles and references for accuracy.\n\nTitle:\tSenior Executive Service (SES), Senior Level (SL), and Scientific and Professional (ST) Personnel Categories in the DoD Fourth Estate: Probationary Periods, Disciplinary Actions, and Removals\n-----\nThis change is administrative and, in accordance with the March 21, 2022 Washington Headquarters Services Memorandum (Reference (j)): a. Reassigns the Director of Administration, Office of the Deputy Chief Management Officer of the Department of Defense responsibilities and duties to the Director of Administration and Management (DA&amp;M) in accordance with Section 901 of Public Law 116283 (Reference (k)), which eliminated the position of the Deputy Chief Management Officer of the Department of Defense effective January 1, 2021; and Reference (c) and the January 11, 2021 Deputy Secretary of Defense Memorandum (Reference (l)), which implemented Reference (k) and reestablished the DA&amp;M. Updates organizational titles and references for accuracy.\n\n\n\n(44)\nTitle:\tGifts from Foreign Governments\n-----\nThe changes are administrative and, in accordance with the February 1, 2022 Washington Headquarters Services memorandum (Reference (h)): a.Update authorities from the Chief Management Officer of the Department of Defense to the Director of Administration and Management (DA&amp;M), including updating the chartering directive authority to properly cite DoD Directive 5105.53 (Reference (i)), in accordance with: (1) Section 901 of Public Law 116-283 (Reference (j)), which eliminated the position of the Deputy Chief Management Officer of the Department of Defense effective January 1, 2021. (\n\nTitle:\tDepartment of Defense Spirit of Hope (SOH) Award\n-----\nThis Instruction is effective January 10, 2013.\n\n\n\n(45)\nTitle:\tNonappropriated Fund (NAF) Classification\n-----\nUnder the authority, direction, and control of the ASD(M&amp;RA), the DASD(CPP) supports the development of civilian personnel policy covered by this volume and monitors its execution by DoD Components, ensuring consistent implementation and application throughout the DoD. DIRECTOR, DEPARTMENT OF DEFENSE HUMAN RESOURCES ACTIVITY.\n\nTitle:\tSenior Level and Scientific and Professional Performance Management System and Compensation\n-----\nUnder the authority, direction, and control of the Under Secretary of Defense for Personnel and Readiness (USD(P&amp;R)), and in accordance with DoD Directive 5124.02, the Assistant Secretary of Defense for Manpower and Reserve Affairs has overall responsibility for the development of DoD civilian personnel policy covered by this DTM.\n\n\n\n(46)\nTitle:\tOverseas Environmental Baseline Guidance Document: Air and Toxics\n-----\nDoDM 4715.05-V2, June 29, 2020 SECTION 3: GENERAL OEBGD GUIDANCE 10 a. In many cases, standards of this manual are based on specific monitoring, sampling, and analytical methods that must be considered when determining compliance or comparing with HN standards.\n\nTitle:\tOverseas Environmental Baseline Guidance Document: Waste\n-----\nDoDM 4715.05, Volume 5, June 29, 2020 SECTION 3: GENERAL OEBGD GUIDANCE 9 3.5.\n\n\n\n(47)\nTitle:\tRecruitment, Relocation, and Retention Incentives and Supervisory Differentials\n-----\nUnder the authority, direction, and control of the ASD(M&amp;RA), the DASD(CPP) supports the development of civilian personnel policy covered by this volume and monitors its execution by the DoD Components, ensuring consistent implementation and continuous application throughout the DoD. ASSISTANT SECRETARY OF DEFENSE FOR HEALTH AFFAIRS.\n\nTitle:\tSenior Level and Scientific and Professional Performance Management System and Compensation\n-----\nASSISTANT SECRETARY OF DEFENSE FOR MANPOWER AND RESERVE AFFAIRS.\n\n\n\n(48)\nTitle:\tDefense Manpower Data Center Domain Values for Military Personnel Data Extracts\n-----\nRequires a 3-year active duty service agreement.\n\nTitle:\tDefense Manpower Data Center Domain Values for Military Personnel Data Extracts\n-----\nRequires a 4-year active duty service agreement.\n\n\n\n(49)\nTitle:\tDefense Manpower Data Center Domain Values for Military Personnel Data Extracts\n-----\nRequires a 3-year active duty service agreement.\n\nTitle:\tDefense Manpower Data Center Domain Values for Military Personnel Data Extracts\n-----\nRequires a 4-year active duty service agreement.\n\n\n\n(50)\nTitle:\tDefense Manpower Data Center Domain Values for Military Personnel Data Extracts\n-----\nRequires a 3-year active duty service agreement.\n\nTitle:\tDefense Manpower Data Center Domain Values for Military Personnel Data Extracts\n-----\nRequires a 4-year active duty service agreement.\n\n\n\n(51)\nTitle:\tDefense Manpower Data Center Domain Values for Military Personnel Data Extracts\n-----\nRequires a 3-year active duty service agreement.\n\nTitle:\tDefense Manpower Data Center Domain Values for Military Personnel Data Extracts\n-----\nRequires a 4-year active duty service agreement.\n\n\n\n(52)\nTitle:\tRecruitment, Relocation, and Retention Incentives and Supervisory Differentials\n-----\nUnder the authority, direction, and control of the ASD(M&amp;RA), the DASD(CPP) supports the development of civilian personnel policy covered by this volume and monitors its execution by the DoD Components, ensuring consistent implementation and continuous application throughout the DoD. ASSISTANT SECRETARY OF DEFENSE FOR HEALTH AFFAIRS.\n\nTitle:\tSenior Level and Scientific and Professional Performance Management System and Compensation\n-----\nUnder the authority, direction, and control of the Under Secretary of Defense for Personnel and Readiness (USD(P&amp;R)), and in accordance with DoD Directive 5124.02, the Assistant Secretary of Defense for Manpower and Reserve Affairs has overall responsibility for the development of DoD civilian personnel policy covered by this DTM.\n\n\n\n(53)\nTitle:\tNational Guard and Reserve Equipment Report\n-----\nThis Instruction is effective January 8, 2010.\n\nTitle:\tRegional Environmental Coordination\n-----\nThis Instruction is effective August 28, 2009.\n\n\n\n(54)\nTitle:\tArms Transfer and Technology Release Senior Steering Group and Technology Security and Foreign Disclosure Office\n-----\nThis directive is effective October 14, 2014.\n\nTitle:\tVisual Information (VI)\n-----\nThis Instruction is effective October 27, 2011.\n\n\n\n(55)\nTitle:\tDoD Supply Chain Materiel Management Procedures: Inventory Accountability And Special Management And Handling\n-----\nDOD MANUAL 4140.01, VOLUME 11 DOD SUPPLY CHAIN MATERIEL MANAGEMENT PROCEDURES: INVENTORY ACCOUNTABILITY AND SPECIAL MANAGEMENT AND HANDLING Originating Component: Office of the Under Secretary of Defense for Acquisition and Sustainment Effective: March 8, 2017 Change 4 Effective: November 4, 2022 Releasability: Cleared for public release.\n\nTitle:\tDoD Supply Chain Materiel Management Procedures: Supporting Technologies\n-----\nAssistant Secretary of Defense for Sustainment.\n\n\n\n(56)\nTitle:\tData Submission Requirements for DoD Civilian Personnel: Appropriated Fund (APF) Civilians\n-----\nDepartment of Defense INSTRUCTION NUMBER 1444.02, Volume 1 November 5, 2013 Incorporating Change 1, Effective July 21, 2020 USD(P&amp;R) SUBJECT: Data Submission Requirements for DoD Civilian Personnel: Appropriated Fund (APF) Civilians References: See Enclosure 1 1.\n\nTitle:\tData Submission Requirements for DoD Civilian Personnel: Foreign National (FN) Civilians\n-----\nDepartment of Defense INSTRUCTION NUMBER 1444.02, Volume 3 November 5, 2013 Incorporating Change 1, Effective July 23, 2020 USD(P&amp;R) SUBJECT: Data Submission Requirements for DoD Civilian Personnel: Foreign National (FN) Civilians References: See Enclosure 1 1.\n\n\n\n(57)\nTitle:\tDoD Operations At U.S. Embassies\n-----\nThis directive: is effective December 4, 2013.\n\nTitle:\tNuclear Weapon Accident Response Procedures (NARP)\n-----\nThis manual is effective August 22, 2013.\n\n\n\n(58)\nTitle:\tDefense Manpower Data Center Domain Values for Military Personnel Data Extracts\n-----\nRequires a 2-year active duty service agreement.\n\nTitle:\tDefense Manpower Data Center Domain Values for Military Personnel Data Extracts\n-----\nRequires a 3-year active duty service agreement.\n\n\n\n(59)\nTitle:\tDefense Manpower Data Center Domain Values for Military Personnel Data Extracts\n-----\nRequires a 2-year active duty service agreement.\n\nTitle:\tDefense Manpower Data Center Domain Values for Military Personnel Data Extracts\n-----\nRequires a 3-year active duty service agreement.\n\n*** WARNING: skipped 293 bytes of output ***\n\n\n\n\n(61)\nTitle:\tDoD Executive Agent (EA) for Subsistence\n-----\nThis directive is effective October 26, 2015.\n\nTitle:\tRegional Environmental Coordination\n-----\nThis Instruction is effective August 28, 2009.\n\n\n\n(62)\nTitle:\tNonappropriated Fund (NAF) Classification\n-----\nWhen an employee separates from NAF employment because of BRAC or workforce reduction, the following provisions apply: (1) The NAF employer may choose to: DoDI 1400.25-V1408, Publication August 28, 2020 Change 1, October 1, 2021 SECTION 7: DOD NAF HBP 48 (a) Pay the NAF employer’s share of the premium (HMO or non-HMO) and applicable administrative fees for the employee for up to 18 months; or (b) Require the employee to pay the full cost of the coverage to include any applicable administrative fee.\n\nTitle:\tNonappropriated Fund (NAF) Classification\n-----\n2) The NAF employer may not pay any portion of the employee’s share. (\n\n\n\n(63)\nTitle:\tOperation of the DoD Engineering for Transportability and Deployability Program\n-----\nThis instruction is available on the Directives Division Website at https://www.esd.whs.mil/DD/. Reissues and Cancels: DoD Instruction 4540.07, “Operation of the DoD Engineering for Transportability and Deployability Program,” October 12, 2004 Approved by: Paul D. Peters, Performing the Duties of the Assistant Secretary of Defense for Logistics and Materiel Readiness Change 3 (Administrative) Approved by: Karen Saunders, Chief of Staff Purpose: This issuance implements policies, establishes procedures, and assigns responsibilities for operating the DoD Engineering for Transportability and Deployability Program in accordance with the authority in DoD Directives (DoDDs) 5134.01 and 4510.11 and the July 13, 2018 Deputy Secretary of Defense Memorandum.\n\nTitle:\tOperation of the DoD Engineering for Transportability and Deployability Program\n-----\nDoDI 4540.07, February 19, 2016 Change 3, October 30, 2019 SECTION 2: RESPONSIBILITIES 5 SECTION 2: RESPONSIBILITIES 2.1.\n\n\n\n(64)\nTitle:\tGeospatial Intelligence (GEOINT)\n-----\nThis Instruction is effective December 6, 2011.\n\nTitle:\tDoD Intelligence Collection Management\n-----\nThis Instruction is effective September 17, 2012.\n\n\n\n(65)\nTitle:\tDoD Operations At U.S. Embassies\n-----\nThis directive: is effective December 4, 2013.\n\nTitle:\tReal Property Disposal\n-----\nEFFECTIVE DATE This Instruction is effective December 21, 2007.\n\n\n\n(66)\nTitle:\tCivilian Employee Alcohol and Drug Abuse Prevention, Testing, and Control Program\n-----\nThis change is administrative and, in accordance with the March 21, 2022 Washington Headquarters Services Memorandum (Reference (p)): a. Reassigns the Director of Administration, Office of the Deputy Chief Management Officer of the Department of Defense responsibilities and duties to the Director of Administration and Management in accordance with Section 901 of Public Law 116-283 (Reference (q)), which eliminated the position of the Deputy Chief Management Officer of the Department of Defense effective January 1, 2021; and the January 11, 2021 Deputy Secretary of Defense Memorandums (References (r) and (s)), which implemented Reference (q) and reestablished the DA&amp;M. Updates organizational titles and references for accuracy.\n\nTitle:\tDoD Information Collections Manual: Procedures for DoD Public Information Collections\n-----\nThis change is administrative and, in accordance with the February 1, 2022 Washington Headquarters Services Memorandum (Reference (y)): a.Reassigns the Deputy Chief Management Officer of the Department of Defense responsibilities and duties to the Director of Administration and Management in accordance with Section 901 of Public Law 116-283 (Reference (aa)), which eliminated the position of the Deputy Chief Management Officer of the Department of Defense effective January 1, 2021, and Reference (z) and the January 11, 2021 Deputy Secretary of Defense Memorandum (Reference (ab)), which implemented Reference (aa) and reestablished the Director of Administration and Management.\n\n\n\n(67)\nTitle:\tManual of Military Decorations and Awards: DoD Joint Decorations and Awards\n-----\n5)The JSCM for specific achievement may be awarded with the “R” device to distinguish that the award was earned for the direct hands-on employment of a weapon system or other warfighting activities that had a direct and immediate impact on a combat operation or other military operation (i.e., outcome of an engagement or specific effects on a target), including Title 10, U.S.C., support of non-Title 10 operations, and operations authorized by an approved execute order.\n\nTitle:\tManual of Military Decorations and Awards: DoD Joint Decorations and Awards\n-----\n4)The JSAM for specific achievement may be awarded with the “R” device to distinguish that the award was earned for the direct hands-on employment of a weapon system or other warfighting activities that had a direct and immediate impact on a combat operation or other military operation (i.e., outcome of an engagement or specific effects on a target).,\n\n\n\n(68)\nTitle:\tOverseas Allowances and Differentials\n-----\nDepartment of Defense INSTRUCTION INSTRUCTION NUMBER 1400.25, Volume 1250 NUMBER 1400.25, Volume 1250 February 23, 2012 February 23, 2012 USD(P&amp;R) USD(P&amp;R) SUBJECT: DoD Civilian Personnel Management System: Overseas Allowances and Differentials SUBJECT: DoD Civilian Personnel Management System: Overseas Allowances and Differentials References: See Enclosure 1 References: See Enclosure 1 1.\n\nTitle:\tReduction in Force\n-----\nDepartment of Defense INSTRUCTION NUMBER 1400.25, Volume 250 June 7, 2016 USD(P&amp;R) SUBJECT: DoD Civilian Personnel Management System: Civilian Strategic Human Capital Planning (SHCP) References: See Enclosure 1 1.\n\n\n\n(69)\nTitle:\tCivil Aviation Intelligence\n-----\nThis Instruction is effective July 29, 2011.\n\nTitle:\tManagement of the Joint Reserve Intelligence Program (JRIP)\n-----\nThis instruction is effective June 26, 2015.\n\n\n\n(70)\nTitle:\tDoD Implementation of the Joint Intelligence Community Duty Assignment (JDA) Program\n-----\nEFFECTIVE DATE This Instruction is effective June 2, 2008.\n\nTitle:\tSpecial Warnings to Mariners\n-----\nThis Instruction is effective December 5, 2011.\n\n\n\n(71)\nTitle:\tDefense Manpower Data Center Domain Values for Military Personnel Data Extracts\n-----\nRequires a 4-year active duty service agreement.\n\nTitle:\tDefense Manpower Data Center Domain Values for Military Personnel Data Extracts\n-----\nRequires a 2-year active duty service agreement.\n\n\n\n(72)\nTitle:\tInformation Assurance Workforce Improvement Program\n-----\nPersonnel performing these functions as their primary CND responsibilities, regardless of their occupational title within the CND-SP organization, shall be identified as part of the CND-IR specialty and must comply with the requirements in Tables C11.T.6.\n\nTitle:\tInformation Assurance Workforce Improvement Program\n-----\nPersonnel performing these functions as their primary CND responsibilities, regardless of their occupational title within the CND-SP organization, shall be identified as part of the CND-SPM specialty and must comply with the requirements in Tables C11.T10.\n\n\n\n(73)\nTitle:\tDoD Civilian Personnel Management System: Cyber Excepted Service (CES) Introduction\n-----\nThis volume is effective January 22, 2015.\n\nTitle:\tAccountability and Management of Government Contract Property\n-----\nThis issuance is effective April 27, 2012.\n\n\n\n(74)\nTitle:\tDefense Production Act Programs\n-----\nENCLOSURE 1 REFERENCES, continued (e) Section 82 of title 50, United States Code (f) DoD Instruction 5025.01, &#34;DoD Directives Program,&#34; October 28, 2007 (g) Title 15, Code of Federal Regulations, Part 700, &#34;The Defense Priorities and Allocations System (DPAS)&#34; and DPAS Delegation 1, current edition (h) Executive Order 12919, &#34;National Defense Industrial Resources Preparedness,&#34; June 3, 1994 (i) Deputy Secretary of Defense Memorandum, “Establishment of the Office of the Under Secretary of Defense for Research and Engineering and the Office of the Under Secretary of Defense for Acquisition and Sustainment,” July 13, 2018 (j) Executive Order 12742, &#34;National Security Industrial Responsiveness,&#34; January 8, 1991 DODD 4400.01E, October 12, 2001 Change 1, 08/31/2018 6 ENCLOSURE 2 E2.\n\nTitle:\tDoD Modeling and Simulation (M&amp;S) Management\n-----\nDoDD 5000.59, August 8, 2007 Change 1, 10/15/2018 5 8.\n\n\n\n(75)\nTitle:\tService Academies\n-----\nIn accordance with the authority in DoD Directive (DoDD) 5124.02 (Reference (a)), this instruction: a. Reissues DoDD 1322.22 (Reference (b)) as a DoD Instruction (DoDI) to establish policy, assign responsibilities, and prescribe procedures for DoD oversight of the Service academies (referred to in this instruction as “the academies”).\n\nTitle:\tDoD Scientific and Technical Information Program (STIP)\n-----\nIncorporates and cancels Directive-type Memorandum 17-002 (Reference (d)).\n\n\n\n(76)\nTitle:\tRegional Environmental Coordination\n-----\nThis change reassigns the office of primary responsibility for this instruction to the Under Secretary of Defense for Acquisition and Sustainment in accordance with the July 13, 2018 Deputy Secretary of Defense Memorandum (Reference (d)).\n\nTitle:\tEmergency Security Control of Air Traffic (ESCAT)\n-----\nThis change reassigns the office of primary responsibility for this instruction to the Under Secretary of Defense for Acquisition and Sustainment in accordance with the July 13, 2018 Deputy Secretary of Defense Memorandum (Reference (h)).\n\n\n\n(77)\nTitle:\tManagement of Land-Based Water Resources in Support of Contingency Operations\n-----\nThis change is administrative and updates references and organizational symbols to reflect the reorganization of the Office of the Under Secretary of Defense for Acquisition, Technology, and Logistics, pursuant to the July 13, 2018 Deputy Secretary of Defense Memorandum (Reference (c)).\n\nTitle:\tDoD Executive Agent (EA) for Subsistence\n-----\nThis change is administrative and updates references and organizational symbols to reflect the reorganization of the Office of the Under Secretary of Defense for Acquisition, Technology, and Logistics, pursuant to the July 13, 2018 Deputy Secretary of Defense Memorandum (Reference (d)).\n\n\n\n(78)\nTitle:\tContinuation of Commissioned Officers on Active Duty and on the Reserve Active-Status List\n-----\nFor commissioned officers in the grade of O-5 who are subject to removal from the RASL pursuant to Section 14507 of Title 10, U.S.C., the Secretary of the Military Department concerned may defer the removal of such officers with particular skills for a period which does not extend beyond the last day of the month in which the officer completes 33 years of commissioned service, pursuant to Section 14701 of Title 10, U.S.C. DoDI 1320.08, July 7, 2017 Change 2, August 28, 2020 SECTION 3: PROCEDURES 8 b. For commissioned officers in the grade of O-6 who are subject to removal from the RASL pursuant to Section 14507 of Title 10, U.S.C.\n\nTitle:\tContinuation of Commissioned Officers on Active Duty and on the Reserve Active-Status List\n-----\nDoDI 1320.08, July 7, 2017 Change 2, August 28, 2020 SECTION 3: PROCEDURES 8 b. For commissioned officers in the grade of O-6 who are subject to removal from the RASL pursuant to Section 14507 of Title 10, U.S.C., the Secretary of the Military Department concerned may defer the removal of such officers with particular skills for a period which does not extend beyond the last day of the month in which the officer completes 35 years of commissioned service, as prescribed in Section 14701 of Title 10, U.S.C. c. For commissioned officers in the grades of O-7 through O-9 on the RASL who would otherwise be removed from an active status pursuant to Section 14508(a), (b), or (c) of Title 10, U.S.C., the Secretary of the Military Department concerned may retain such officers in their Departments in an active status subject to the provisions and limitation of Section 14508 and 14510-14512 of Title 10, U.S.C. DECLINATION OF CONTINUATION.\n\n\n\n(79)\nTitle:\tDefense Production Act Programs\n-----\nENCLOSURE 1 REFERENCES, continued (e) Section 82 of title 50, United States Code (f) DoD Instruction 5025.01, &#34;DoD Directives Program,&#34; October 28, 2007 (g) Title 15, Code of Federal Regulations, Part 700, &#34;The Defense Priorities and Allocations System (DPAS)&#34; and DPAS Delegation 1, current edition (h) Executive Order 12919, &#34;National Defense Industrial Resources Preparedness,&#34; June 3, 1994 (i) Deputy Secretary of Defense Memorandum, “Establishment of the Office of the Under Secretary of Defense for Research and Engineering and the Office of the Under Secretary of Defense for Acquisition and Sustainment,” July 13, 2018 (j) Executive Order 12742, &#34;National Security Industrial Responsiveness,&#34; January 8, 1991 DODD 4400.01E, October 12, 2001 Change 1, 08/31/2018 6 ENCLOSURE 2 E2.\n\nTitle:\tDoD Modeling and Simulation (M&amp;S) Management\n-----\nDefinitions DoDD 5000.59, August 8, 2007 Change 1, 10/15/2018 ENCLOSURE 1 6 E1.\n\n\n\n(80)\nTitle:\tNonappropriated Fund (NAF) Employment\n-----\nDoDI 1400.25-V1614, November 5, 2015 APPENDIX 8 TO ENCLOSURE 3 31 (1) Provide the type of protected activity in which the complainant participated (e.g., EEO complaint, grievance with EEO basis, representation). (\n\nTitle:\tNonappropriated Fund (NAF) Employment\n-----\nDoDI 1400.25-V1614, November 5, 2015 APPENDIX 20 TO ENCLOSURE 3 62 (1) Provide the type of protected activity in which the complainant participated (e.g., EEO complaint, grievance with EEO basis, representation).\n\n\n\n(81)\nTitle:\tManual of Military Decorations and Awards: DoD Joint Decorations and Awards\n-----\n5)The JSCM for specific achievement may be awarded with the “R” device to distinguish that the award was earned for the direct hands-on employment of a weapon system or other warfighting activities that had a direct and immediate impact on a combat operation or other military operation (i.e., outcome of an engagement or specific effects on a target), including Title 10, U.S.C., support of non-Title 10 operations, and operations authorized by an approved execute order.\n\nTitle:\tManual of Military Decorations and Awards: DoD Joint Decorations and Awards\n-----\n(3)The JSAM may be awarded with the “C” device to recognize meritorious service or achievement performed under combat conditions on or after January 7, 2016.\n\n\n\n(82)\nTitle:\tOpen Source Intelligence (OSINT)\n-----\nThis Instruction is effective August 24, 2010.\n\nTitle:\tReserve Component Intelligence Enterprise (RCIE) Management\n-----\nThis instruction is effective July 17, 2013.\n\n\n\n(83)\nTitle:\tPhased Retirement\n-----\nUnder the authority, direction, and control of the Under Secretary of Defense for Personnel and Readiness (USD(P&amp;R)), and in accordance with Reference (a), the ASD (M&amp;RA) has overall responsibility for the development of DoD civilian personnel policy covered by this volume.\n\nTitle:\tSenior Level and Scientific and Professional Performance Management System and Compensation\n-----\nUnder the authority, direction, and control of the Under Secretary of Defense for Personnel and Readiness (USD(P&amp;R)), and in accordance with DoD Directive 5124.02, the Assistant Secretary of Defense for Manpower and Reserve Affairs has overall responsibility for the development of DoD civilian personnel policy covered by this DTM.\n\n\n\n(84)\nTitle:\tDefense Civilian Intelligence Personnel System: (DCIPS) - Introduction\n-----\nDepartment of Defense INSTRUCTION NUMBER 1400.25, Volume 1401 October 18, 2011 Incorporating Change 1, November 17, 2017 USD(P&amp;R) SUBJECT: DoD Civilian Personnel Management System: General Information Concerning Nonappropriated Fund (NAF) Personnel Policy References: See Enclosure 1 1.\n\nTitle:\tDefense Civilian Intelligence Personnel System (DCIPS) Disciplinary, Performance Based, and Adverse Action Procedures\n-----\nDepartment of Defense INSTRUCTION NUMBER 1400.25, Volume 251 October 23, 2014 USD(P&amp;R) SUBJECT: DoD Civilian Personnel Management System: Relationships With Non-labor Organizations Representing Federal Employees and Other Organizations References: See Enclosure 1 1.\n\n\n\n(85)\nTitle:\tDepartment of Defense Presidential Support Program\n-----\nENCLOSURE 1 REFERENCES, continued (d) Title 3, United States Code (e) DoD 5200.2-R, &#34;DoD Personnel Security Program,&#34; January 1987 (f) DoD 8910.1-M, &#34;DoD Procedures for Management of Information Requirements,&#34; November 1986\n\nTitle:\tFamily Subsistence Supplemental Allowance (FSSA) Program\n-----\nENCLOSURE 1 REFERENCES, continued (e) Sections 2012 and 2014(c) of title 7, United States Code (f) DoD 8910.1-M, “Department of Defense Procedures for Management of Information Requirements,” June 30, 1998 ENCLOSURE 1 8 DoDI 1341.11, March 4, 2008 E2.\n\n\n\n(86)\nTitle:\tSenior Executive Service (SES), Senior Level (SL), and Scientific and Professional (ST) Personnel Categories in the DoD Fourth Estate: Probationary Periods, Disciplinary Actions, and Removals\n-----\nThis change is administrative and, in accordance with the March 21, 2022 Washington Headquarters Services Memorandum (Reference (j)): a. Reassigns the Director of Administration, Office of the Deputy Chief Management Officer of the Department of Defense responsibilities and duties to the Director of Administration and Management (DA&amp;M) in accordance with Section 901 of Public Law 116283 (Reference (k)), which eliminated the position of the Deputy Chief Management Officer of the Department of Defense effective January 1, 2021; and Reference (c) and the January 11, 2021 Deputy Secretary of Defense Memorandum (Reference (l)), which implemented Reference (k) and reestablished the DA&amp;M. Updates organizational titles and references for accuracy.\n\nTitle:\tDoD Manual for Written Material: Examples and Reference Material\n-----\nThis change is administrative and, in accordance with the February 1, 2022 Washington Headquarters Services memorandum: a.Updates authorities from the Chief Management Officer of the Department of Defense to the Director of Administration and Management (DA&amp;M), including updating the chartering directive authority to properly cite DoD Directive 5105.53, in accordance with: (1)Section 901 of Public Law 116-283, which eliminated the position of the Deputy Chief Management Officer of the Department of Defense effective January 1, 2021. (\n\n\n\n(87)\nTitle:\tManagement of Laser Illumination of Objects in Space\n-----\nb. Implements the procedures developed by the CJCS, including laser activity characterization, and the assessment, mitigation, and, per Paragraph 3.1.c, acceptance of risk to DoD RSO activities from laser illumination, in coordination with the DNRO, other relevant DoD Component heads, and other applicable non-DoD stakeholders.\n\nTitle:\tManagement of Laser Illumination of Objects in Space\n-----\nDoD laser owners and operators will: (1) Operationally employ authorized DoD weapon systems without the need for further coordination, in accordance with applicable rules of engagement, and execute orders. (\n\n\n\n(88)\nTitle:\tHazardous Pay (HzP) Program\n-----\n1) To be eligible for flying duty HDIP, a Service member must be required by competent orders to participate frequently and regularly in sustained, powered, controlled aerial flights, and generally must complete 4 hours (or 2 hours for RC Service members) of aerial flight each month.\n\nTitle:\tHazardous Pay (HzP) Program\n-----\nIn order to complete the flying hour requirement, the Service member may comply with the minimum flight requirements by performing 24 hours (or 12 hours for RC Service members) of aerial flight over a period of 6 consecutive calendar months.\n\n\n\n(89)\nTitle:\tDoD Nuclear Weapon System Safety Program Manual\n-----\nWhen the NWSSG report includes draft safety rules or changes to existing safety rules, the Military Department will, simultaneously with the preparation of the NWSSG report, prepare the Military Department safety rules package for separate coordination and approval.\n\nTitle:\tDoD Nuclear Weapon System Safety Program Manual\n-----\nRe-coordinating with the Military Department submitting the proposed safety rules package is not required.\n\n\n\n(90)\nTitle:\tNonappropriated Fund (NAF) Employment\n-----\nInclude the cover page to identify the source document, as well as the signature page.\n\nTitle:\tNonappropriated Fund (NAF) Employment\n-----\nPages should be printed on one side only.\n\n\n\n(91)\nTitle:\tEmployment of Experts and Consultants\n-----\nIt is OSD policy, in accordance with References (c) and (d) that: a. Experts and consultants may be appointed on an intermittent, part-time, or full-time work schedule basis as a legitimate and economical way to obtain highly specialized services to improve OSD services and operations.\n\nTitle:\tEmployment of Experts and Consultants\n-----\nThis applies to routine ongoing work of a policy, decisionmaking, or managerial nature that is the direct responsibility of an OSD Component Service member or civilian employee. (\n\n\n\n(92)\nTitle:\tDefense Manpower Data Center Domain Values for Military Personnel Data Extracts\n-----\nRequires a 3-year active duty service agreement.\n\nTitle:\tDefense Manpower Data Center Domain Values for Military Personnel Data Extracts\n-----\nRequires a 2-year active duty service agreement.\n\n\n\n(93)\nTitle:\tDepartment Of Defense Privacy Program\n-----\nComponent rules shall include a blanket exemption under section 552a(k)(1) (Reference (b)) from the access provisions (section 552a(d) of Reference (b)), and the notification of access procedures (section 552a(e)(4)(H) of Reference (b)) for all classified material in any systems of records maintained.\n\nTitle:\tDepartment Of Defense Privacy Program\n-----\nThe specific sections of Reference (b) under which the exemption for the system is claimed (for example, sections 552a(j)(2), 552a(k)(3), or 552a(k)(7) of Reference (b)).\n\n\n\n(94)\nTitle:\tDoD Sentence Computation Manual\n-----\nA sentence to confinement for 1 month is adjudged on 20050301.\n\nTitle:\tDoD Sentence Computation Manual\n-----\nA sentence to confinement for 99 years is adjudged on 20050301.\n\n\n\n(95)\nTitle:\tCost Analysis Guidance and Procedures\n-----\nb) If the DoD Component is directed to fund to the CAPE ICE, CAPE will help the DoD Component understand the methodologies used to conduct the CAPE ICE, so the DoD Component can update its cost model. (\n\nTitle:\tCost Analysis Guidance and Procedures\n-----\na) If the DoD Component is directed to fund to the CAPE ICE, CAPE will help the DoD Component understand the methodologies used to conduct the CAPE ICE, so the DoD Component can update its cost model. (\n\n\n\n(96)\nTitle:\tJoint Ethics Regulation (JER)\n-----\nExcept for a DoD Component DAEO, Alternate DAEO, or Deputy DAEO, a DoD employee appointed as an Ethics Counselor shall only serve as a &#34;DAEO or designee&#34; when he has been delegated specific written authority by the DoD Component DAEO to perform specific functions on behalf of the DoD Component DAEO.\n\nTitle:\tJoint Ethics Regulation (JER)\n-----\nEach DoD Component Alternate Designated Agency Ethics Official (Alternate DAEO) shall serve in the absence of the DoD Component DAEO and, when so serving, is authorized to take any action this Regulation indicates may be taken only by the DoD Component DAEO.\n\n\n\n(97)\nTitle:\tIntelligence Support to the Defense Critical Infrastructure Program (DCIP)\n-----\nThis Instruction is effective June 23, 2011.\n\nTitle:\tDoD Cryptologic Training\n-----\nThis instruction is effective June 13, 2013.\n\n\n\n(98)\nTitle:\tMilitary Whistleblower Protection\n-----\nof this enclosure, not later than 180 days after the commencement of a reprisal or restriction investigation, and every 180 days thereafter until the transmission of the report, notifies the Under Secretary of Defense for Personnel and Readiness (USD(P&amp;R)), the Secretary of the Military Department concerned, and the Service member of the reasons for the delay and an estimate of the time remaining until the report will be issued.\n\nTitle:\tMilitary Whistleblower Protection\n-----\nh. Transmit a report on the results of the investigation of reprisal, restriction, or underlying allegations to the USD(P&amp;R), the Secretary of the Military Department concerned, and the Service member not later than 30 days after IG DoD approval of the results of the investigation.\n\n\n\n(99)\nTitle:\tPost Separation Entitlement and Benefit Authority\n-----\nDepartment of Defense INSTRUCTION NUMBER 1400.25, Volume 1705 January 24, 2007 Administratively reissued April 6, 2009 USD(P&amp;R) SUBJECT: DoD Civilian Personnel Management System: Operational Continuity During Closure References: (a) DoD Directive 5124.02, “Under Secretary of Defense for Personnel and Readiness (USD(P&amp;R)),” June 23, 2008 (b) Sections 3341, 5551, 5596, 6304, and 9902 of title 5, United States Code (c) Part 316 of title 5, Code of Federal Regulations 1.\n\nTitle:\tAwards\n-----\nDepartment of Defense INSTRUCTION NUMBER 1400.25, Volume 451 November 4, 2013 USD(P&amp;R) SUBJECT: DoD Civilian Personnel Management System: Awards References: See Enclosure 1 1.\n\n\n\n</div>",
       "datasetInfos": [],
       "metadata": {},
       "removedWidgets": [],
       "type": "html"
      }
     },
     "output_type": "display_data"
    }
   ],
   "source": [
    "# Example of the first 100 results\n",
    "for idx, candidate in candidate_info[:100].iterrows():\n",
    "    print(f\"({idx})\")\n",
    "    scoring.pretty_print_candidate(candidate)\n",
    "    print('\\n\\n')"
   ]
  },
  {
   "cell_type": "code",
   "execution_count": 0,
   "metadata": {
    "application/vnd.databricks.v1+cell": {
     "cellMetadata": {},
     "inputWidgets": {},
     "nuid": "4c720a7f-e946-4543-8a2c-61dc8e560d32",
     "showTitle": false,
     "title": ""
    }
   },
   "outputs": [],
   "source": []
  }
 ],
 "metadata": {
  "application/vnd.databricks.v1+notebook": {
   "dashboards": [],
   "language": "python",
   "notebookMetadata": {
    "mostRecentlyExecutedCommandWithImplicitDF": {
     "commandId": 57295361146119,
     "dataframes": [
      "_sqldf"
     ]
    },
    "pythonIndentUnit": 4
   },
   "notebookName": "DoD Contradictions.ipynb",
   "notebookOrigID": 4068832101850418,
   "widgets": {}
  },
  "language_info": {
   "name": "python"
  }
 },
 "nbformat": 4,
 "nbformat_minor": 0
}
