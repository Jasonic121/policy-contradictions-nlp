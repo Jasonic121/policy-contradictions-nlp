{
 "cells": [
  {
   "attachments": {},
   "cell_type": "markdown",
   "metadata": {},
   "source": [
    "# Full Contradiction Pipeline on DoD Dataset\n",
    "\n",
    "Running contradiction classification on all pairwise-sentences in a document."
   ]
  },
  {
   "cell_type": "code",
   "execution_count": 1,
   "metadata": {},
   "outputs": [],
   "source": [
    "import spacy\n",
    "import pandas as pd\n",
    "import numpy as np"
   ]
  },
  {
   "cell_type": "code",
   "execution_count": 2,
   "metadata": {},
   "outputs": [],
   "source": [
    "# Read in a single organization's corpus\n",
    "df = pd.read_json(\"data/02. Data Sets/DoD Issuances/contradictions_datasets_dod_issuances.zip\", orient='records', compression='infer')\n",
    "df['fulltext'] = df.text_by_page.str.join(' ')\n",
    "d0 = df.iloc[0]"
   ]
  },
  {
   "cell_type": "code",
   "execution_count": 3,
   "metadata": {},
   "outputs": [
    {
     "data": {
      "text/plain": [
       "'https://www.esd.whs.mil/Portals/54/Documents/DD/issuances/140025/1400.25-V100.pdf'"
      ]
     },
     "execution_count": 3,
     "metadata": {},
     "output_type": "execute_result"
    }
   ],
   "source": [
    "d0.url"
   ]
  },
  {
   "cell_type": "code",
   "execution_count": 4,
   "metadata": {},
   "outputs": [
    {
     "data": {
      "text/plain": [
       "70"
      ]
     },
     "execution_count": 4,
     "metadata": {},
     "output_type": "execute_result"
    }
   ],
   "source": [
    "### SPLIT THE DOCUMENT INTO SENTENCES\n",
    "from spacy.tokenizer import Tokenizer\n",
    "from spacy.lang.en import English\n",
    "nlp_sentencizer = English()\n",
    "nlp_sentencizer.add_pipe('sentencizer')\n",
    "\n",
    "doc = nlp_sentencizer(d0.fulltext)\n",
    "sents = list(doc.sents)\n",
    "sents_text = [s.text for s in sents]\n",
    "len(sents_text)"
   ]
  },
  {
   "cell_type": "code",
   "execution_count": 72,
   "metadata": {},
   "outputs": [],
   "source": [
    "### CLEAN THE SENTENCES (a little bit)\n",
    "\n",
    "# For now just remove sentences that are super short\n",
    "cutoff_characters = 30\n",
    "sents_text_clean = list(filter(lambda s: len(s)>cutoff_characters, sents_text))"
   ]
  },
  {
   "cell_type": "code",
   "execution_count": 73,
   "metadata": {},
   "outputs": [
    {
     "name": "stdout",
     "output_type": "stream",
     "text": [
      "1081\n"
     ]
    }
   ],
   "source": [
    "### CREATE ALL SENTENCE PAIR COMBINATIONS\n",
    "import itertools\n",
    "sentence_combinations = list(itertools.combinations(sents_text_clean, 2))\n",
    "# sentence_permutations = list(itertools.permutations(sents_text, 2))\n",
    "print(len(sentence_combinations))\n",
    "# print(len(sentence_permutations))"
   ]
  },
  {
   "cell_type": "code",
   "execution_count": 2,
   "metadata": {},
   "outputs": [
    {
     "name": "stderr",
     "output_type": "stream",
     "text": [
      "Some weights of the model checkpoint at ynie/roberta-large-snli_mnli_fever_anli_R1_R2_R3-nli were not used when initializing RobertaForSequenceClassification: ['roberta.pooler.dense.weight', 'roberta.pooler.dense.bias']\n",
      "- This IS expected if you are initializing RobertaForSequenceClassification from the checkpoint of a model trained on another task or with another architecture (e.g. initializing a BertForSequenceClassification model from a BertForPreTraining model).\n",
      "- This IS NOT expected if you are initializing RobertaForSequenceClassification from the checkpoint of a model that you expect to be exactly identical (initializing a BertForSequenceClassification model from a BertForSequenceClassification model).\n"
     ]
    }
   ],
   "source": [
    "### LOAD CONTRADICTION MODEL\n",
    "\n",
    "# https://github.com/facebookresearch/anli/blob/main/src/hg_api/interactive.py\n",
    "from transformers import AutoTokenizer, AutoModelForSequenceClassification\n",
    "import torch\n",
    "\n",
    "hg_model_hub_name = \"ynie/roberta-large-snli_mnli_fever_anli_R1_R2_R3-nli\"\n",
    "\n",
    "# Will take a moment to download\n",
    "tokenizer = AutoTokenizer.from_pretrained(hg_model_hub_name)\n",
    "model = AutoModelForSequenceClassification.from_pretrained(hg_model_hub_name)\n"
   ]
  },
  {
   "cell_type": "code",
   "execution_count": 10,
   "metadata": {},
   "outputs": [],
   "source": [
    "### DEFINE CONTRADICTION FUNCTION\n",
    "def evaluate(premise, hypothesis, tokenizer=tokenizer, model=model):\n",
    "    max_length = 256\n",
    "\n",
    "    tokenized_input_seq_pair = tokenizer.encode_plus(premise, hypothesis,\n",
    "                                                     max_length=max_length,\n",
    "                                                     return_token_type_ids=True, truncation=True)\n",
    "\n",
    "    input_ids = torch.Tensor(tokenized_input_seq_pair['input_ids']).long().unsqueeze(0)\n",
    "    # remember bart doesn't have 'token_type_ids', remove the line below if you are using bart.\n",
    "    token_type_ids = torch.Tensor(tokenized_input_seq_pair['token_type_ids']).long().unsqueeze(0)\n",
    "    attention_mask = torch.Tensor(tokenized_input_seq_pair['attention_mask']).long().unsqueeze(0)\n",
    "\n",
    "    outputs = model(input_ids,\n",
    "                    attention_mask=attention_mask,\n",
    "                    token_type_ids=token_type_ids,\n",
    "                    labels=None)\n",
    "    \n",
    "    predicted_probability = torch.softmax(outputs[0], dim=1)[0].tolist()  # batch_size only one\n",
    "\n",
    "    # Note:\n",
    "    # \"id2label\": {\n",
    "    #     \"0\": \"entailment\",\n",
    "    #     \"1\": \"neutral\",\n",
    "    #     \"2\": \"contradiction\"\n",
    "    # },\n",
    "    return predicted_probability\n"
   ]
  },
  {
   "cell_type": "code",
   "execution_count": 74,
   "metadata": {},
   "outputs": [
    {
     "name": "stderr",
     "output_type": "stream",
     "text": [
      "100%|██████████| 1081/1081 [04:36<00:00,  3.92it/s]\n"
     ]
    }
   ],
   "source": [
    "### COMPUTE CONTRADICTION PROBABILITIES FOR ALL SENTENCE PAIRS\n",
    "from tqdm import tqdm\n",
    "outputs = []\n",
    "for pair in tqdm(sentence_combinations):\n",
    "    probs = evaluate(pair[0], pair[1])\n",
    "    outputs.append(probs)\n"
   ]
  },
  {
   "cell_type": "code",
   "execution_count": 75,
   "metadata": {},
   "outputs": [],
   "source": [
    "d = np.array(outputs)"
   ]
  },
  {
   "cell_type": "code",
   "execution_count": 76,
   "metadata": {},
   "outputs": [
    {
     "data": {
      "text/plain": [
       "(1081, 3)"
      ]
     },
     "execution_count": 76,
     "metadata": {},
     "output_type": "execute_result"
    }
   ],
   "source": [
    "d.shape"
   ]
  },
  {
   "cell_type": "code",
   "execution_count": 77,
   "metadata": {},
   "outputs": [],
   "source": [
    "s = sentence_combinations\n",
    "np.savez('dod_d0_sentence_contradiction_scores',\n",
    "         sentence_pairs=s,\n",
    "         scores=d)"
   ]
  },
  {
   "cell_type": "code",
   "execution_count": 78,
   "metadata": {},
   "outputs": [],
   "source": [
    "data = np.load('dod_d0_sentence_contradiction_scores.npz')"
   ]
  },
  {
   "cell_type": "code",
   "execution_count": 31,
   "metadata": {},
   "outputs": [
    {
     "data": {
      "text/plain": [
       "array([[9.98847127e-01, 4.20214172e-04, 7.32676825e-04],\n",
       "       [1.23911398e-03, 9.97674525e-01, 1.08637731e-03],\n",
       "       [6.50454138e-04, 9.99249995e-01, 9.95745286e-05],\n",
       "       ...,\n",
       "       [1.66345462e-01, 3.52914363e-01, 4.80740219e-01],\n",
       "       [5.51789859e-03, 9.86949384e-01, 7.53262779e-03],\n",
       "       [6.93250820e-03, 9.86899793e-01, 6.16762321e-03]])"
      ]
     },
     "execution_count": 31,
     "metadata": {},
     "output_type": "execute_result"
    }
   ],
   "source": [
    "# entailment ; neutral ; contradiction\n",
    "d"
   ]
  },
  {
   "cell_type": "code",
   "execution_count": 82,
   "metadata": {},
   "outputs": [
    {
     "data": {
      "text/html": [
       "<div>\n",
       "<style scoped>\n",
       "    .dataframe tbody tr th:only-of-type {\n",
       "        vertical-align: middle;\n",
       "    }\n",
       "\n",
       "    .dataframe tbody tr th {\n",
       "        vertical-align: top;\n",
       "    }\n",
       "\n",
       "    .dataframe thead th {\n",
       "        text-align: right;\n",
       "    }\n",
       "</style>\n",
       "<table border=\"1\" class=\"dataframe\">\n",
       "  <thead>\n",
       "    <tr style=\"text-align: right;\">\n",
       "      <th></th>\n",
       "      <th>entailment</th>\n",
       "      <th>neutral</th>\n",
       "      <th>contradiction</th>\n",
       "    </tr>\n",
       "  </thead>\n",
       "  <tbody>\n",
       "    <tr>\n",
       "      <th>0</th>\n",
       "      <td>0.001239</td>\n",
       "      <td>0.997675</td>\n",
       "      <td>0.001086</td>\n",
       "    </tr>\n",
       "    <tr>\n",
       "      <th>1</th>\n",
       "      <td>0.000650</td>\n",
       "      <td>0.999250</td>\n",
       "      <td>0.000100</td>\n",
       "    </tr>\n",
       "    <tr>\n",
       "      <th>2</th>\n",
       "      <td>0.000997</td>\n",
       "      <td>0.998892</td>\n",
       "      <td>0.000111</td>\n",
       "    </tr>\n",
       "    <tr>\n",
       "      <th>3</th>\n",
       "      <td>0.015816</td>\n",
       "      <td>0.984017</td>\n",
       "      <td>0.000168</td>\n",
       "    </tr>\n",
       "    <tr>\n",
       "      <th>4</th>\n",
       "      <td>0.000598</td>\n",
       "      <td>0.999117</td>\n",
       "      <td>0.000285</td>\n",
       "    </tr>\n",
       "  </tbody>\n",
       "</table>\n",
       "</div>"
      ],
      "text/plain": [
       "   entailment   neutral  contradiction\n",
       "0    0.001239  0.997675       0.001086\n",
       "1    0.000650  0.999250       0.000100\n",
       "2    0.000997  0.998892       0.000111\n",
       "3    0.015816  0.984017       0.000168\n",
       "4    0.000598  0.999117       0.000285"
      ]
     },
     "execution_count": 82,
     "metadata": {},
     "output_type": "execute_result"
    }
   ],
   "source": [
    "\n",
    "scores = pd.DataFrame(d, columns=['entailment', 'neutral', 'contradiction'])\n",
    "scores.head()"
   ]
  },
  {
   "cell_type": "code",
   "execution_count": 83,
   "metadata": {},
   "outputs": [],
   "source": [
    "def shw(idx):\n",
    "    from textwrap import wrap\n",
    "    w = 100\n",
    "    s0, s1 = sentence_combinations[idx]\n",
    "    print('\\n'.join(wrap(s0, width=w)), '\\n\\n')\n",
    "    print('\\n'.join(wrap(s1, width=w)))\n"
   ]
  },
  {
   "cell_type": "code",
   "execution_count": 84,
   "metadata": {},
   "outputs": [
    {
     "data": {
      "text/plain": [
       "935    0.000082\n",
       "624    0.000102\n",
       "35     0.000108\n",
       "840    0.000108\n",
       "677    0.000110\n",
       "944    0.000118\n",
       "846    0.000130\n",
       "40     0.000131\n",
       "642    0.000132\n",
       "933    0.000141\n",
       "Name: entailment, dtype: float64"
      ]
     },
     "execution_count": 84,
     "metadata": {},
     "output_type": "execute_result"
    }
   ],
   "source": [
    "# Pairs with the lowest entailment scores\n",
    "scores.entailment.sort_values(ascending=True)[:10]"
   ]
  },
  {
   "cell_type": "code",
   "execution_count": 85,
   "metadata": {},
   "outputs": [
    {
     "name": "stdout",
     "output_type": "stream",
     "text": [
      "Managers and supervisors shall, when delegated civilian personnel management authorities, carry out\n",
      "civilian personnel management policies, procedures, and programs as outlined in Reference (a), this\n",
      "Instruction, and other DoD civilian personnel management issuances authorized by Reference (a) and\n",
      "consistent with applicable negotiated agreements. \n",
      "\n",
      "\n",
      "b. In accordance with the policy and philosophy of the Secretary of Defense to streamline and\n",
      "eliminate redundancy in Government regulations, supplementation shall be kept to a minimum.\n"
     ]
    }
   ],
   "source": [
    "shw(935)"
   ]
  },
  {
   "cell_type": "code",
   "execution_count": 86,
   "metadata": {},
   "outputs": [
    {
     "name": "stdout",
     "output_type": "stream",
     "text": [
      "f. Consistent with workload and mission requirements, the need to create flexible work arrangements\n",
      "that allow employees to better balance their work and other (e.g., family) responsibilities shall be\n",
      "incorporated into the design and implementation of civilian personnel policies, procedures, and\n",
      "programs at all organizational levels. \n",
      "\n",
      "\n",
      "b. Monitor the implementation and effectiveness of this Instruction and revise it as appropriate.\n"
     ]
    }
   ],
   "source": [
    "shw(624)"
   ]
  },
  {
   "cell_type": "code",
   "execution_count": 87,
   "metadata": {},
   "outputs": [
    {
     "data": {
      "text/plain": [
       "677    0.998084\n",
       "788    0.989895\n",
       "323    0.982381\n",
       "559    0.972565\n",
       "533    0.941926\n",
       "312    0.934859\n",
       "579    0.928340\n",
       "29     0.902869\n",
       "713    0.901415\n",
       "640    0.895307\n",
       "Name: contradiction, dtype: float64"
      ]
     },
     "execution_count": 87,
     "metadata": {},
     "output_type": "execute_result"
    }
   ],
   "source": [
    "# Pairs with the hightest contradictions scores\n",
    "scores.contradiction.sort_values(ascending=False)[:10]"
   ]
  },
  {
   "cell_type": "code",
   "execution_count": 88,
   "metadata": {},
   "outputs": [
    {
     "name": "stdout",
     "output_type": "stream",
     "text": [
      "Changes that conflict with existing negotiated agreements may not be implemented until the agreement\n",
      "expires or is renewed unless: (1) The parties agree otherwise; or (2) The change is required by law\n",
      "or by a rule or regulation implementing law governing prohibited personnel practices. \n",
      "\n",
      "\n",
      "This Volume is effective immediately.\n"
     ]
    }
   ],
   "source": [
    "shw(677) # Looks good!"
   ]
  },
  {
   "cell_type": "code",
   "execution_count": 89,
   "metadata": {},
   "outputs": [
    {
     "name": "stdout",
     "output_type": "stream",
     "text": [
      "Procedures DoDI 1400.25-V100, December 1996 4 CONTENTS TABLE OF CONTENTS RESPONSIBILITIES ..........\n",
      "....................................................................................................\n",
      "........5 DEPUTY UNDER SECRETARY OF DEFENSE FOR CIVILIAN PERSONNEL POLICY (DUSD(CPP)) ..............\n",
      ".........................................................................................5 HEADS OF\n",
      "THE DoD COMPONENTS\n",
      "...................................................................................5 SUPERVISORS AND\n",
      "MANAGERS ........................................................................................5\n",
      "PROCEDURES .........................................................................................\n",
      ".......................................6 GENERAL ...................................................\n",
      "..............................................................................6 SUPPLEMENTATION ....\n",
      "....................................................................................................\n",
      ".....6 WAIVERS .....................................................................................\n",
      "............................................7 DoDI 1400.25-V100, December 1996 5 ENCLOSURE 1\n",
      "ENCLOSURE 1 RESPONSIBILITIES 1. \n",
      "\n",
      "\n",
      "DoDI 1400.25-V100, December 1996 6 ENCLOSURE 2 ENCLOSURE 2 PROCEDURES 1.\n"
     ]
    }
   ],
   "source": [
    "shw(788)"
   ]
  },
  {
   "cell_type": "code",
   "execution_count": 90,
   "metadata": {},
   "outputs": [
    {
     "name": "stdout",
     "output_type": "stream",
     "text": [
      "DoDI 1400.25-V100, December 1996 2 (3) Be issued only if necessary to comply with Executive orders,\n",
      "law, or regulation, or to assist civilian personnel offices and human resource offices (CPOs/HROs),\n",
      "managers, supervisors, employees, and their representatives with civilian personnel management\n",
      "issues. ( \n",
      "\n",
      "\n",
      "DoDI 1400.25-V100, December 1996 6 ENCLOSURE 2 ENCLOSURE 2 PROCEDURES 1.\n"
     ]
    }
   ],
   "source": [
    "shw(323)"
   ]
  },
  {
   "cell_type": "code",
   "execution_count": 91,
   "metadata": {},
   "outputs": [
    {
     "name": "stdout",
     "output_type": "stream",
     "text": [
      "Existing DoD Component civilian personnel policies, procedures, and programs may continue until\n",
      "superseded by law, controlling regulations, new provisions of this Instruction, or related DoD\n",
      "issuance provisions. \n",
      "\n",
      "\n",
      "This Volume is effective immediately.\n"
     ]
    }
   ],
   "source": [
    "shw(559)"
   ]
  },
  {
   "cell_type": "code",
   "execution_count": 92,
   "metadata": {},
   "outputs": [
    {
     "name": "stdout",
     "output_type": "stream",
     "text": [
      "d. Civilian personnel policies, procedures, and programs as set forth in this Instruction are\n",
      "binding on all the DoD Components. \n",
      "\n",
      "\n",
      "d. Waive the provisions of this Instruction or other DoD civilian personnel management issuances\n",
      "authorized by Reference (a) as appropriate.\n"
     ]
    }
   ],
   "source": [
    "shw(533) # Looks good!"
   ]
  },
  {
   "cell_type": "code",
   "execution_count": 95,
   "metadata": {},
   "outputs": [
    {
     "name": "stdout",
     "output_type": "stream",
     "text": [
      "DoDI 1400.25-V100, December 1996 2 (3) Be issued only if necessary to comply with Executive orders,\n",
      "law, or regulation, or to assist civilian personnel offices and human resource offices (CPOs/HROs),\n",
      "managers, supervisors, employees, and their representatives with civilian personnel management\n",
      "issues. ( \n",
      "\n",
      "\n",
      "DoDI 1400.25-V100, December 1996 3 4.\n",
      "\n",
      "============================================\n",
      "\n",
      "f. Consistent with workload and mission requirements, the need to create flexible work arrangements\n",
      "that allow employees to better balance their work and other (e.g., family) responsibilities shall be\n",
      "incorporated into the design and implementation of civilian personnel policies, procedures, and\n",
      "programs at all organizational levels. \n",
      "\n",
      "\n",
      "No further delegation is authorized.\n"
     ]
    }
   ],
   "source": [
    "shw(312)\n",
    "print('\\n============================================\\n')\n",
    "shw(640) "
   ]
  },
  {
   "cell_type": "code",
   "execution_count": 96,
   "metadata": {},
   "outputs": [
    {
     "name": "stdout",
     "output_type": "stream",
     "text": [
      "Existing DoD Component civilian personnel policies, procedures, and programs may continue until\n",
      "superseded by law, controlling regulations, new provisions of this Instruction, or related DoD\n",
      "issuance provisions. \n",
      "\n",
      "\n",
      "No further delegation is authorized.\n",
      "\n",
      "============================================\n",
      "\n",
      "othe he Department of Defense INSTRUCTION NUMBER 1400.25, Volume 100 December 3, 1996\n",
      "Administratively reissued April 13, 2009 USD(P&R) SUBJECT: DoD Civilian Personnel Management System:\n",
      "General Provisions References: (a) DoD Directive 1400.25, “DoD Civilian Personnel Management\n",
      "System,” November 25, 1996 (b) Title 5, United States Code (c) Title 5, Code of Federal Regulations\n",
      "1. \n",
      "\n",
      "\n",
      "DoDI 1400.25-V100, December 1996 6 ENCLOSURE 2 ENCLOSURE 2 PROCEDURES 1.\n",
      "\n",
      "============================================\n",
      "\n",
      "DoDI 1400.25-V100, December 1996 3 4. \n",
      "\n",
      "\n",
      "DoDI 1400.25-V100, December 1996 6 ENCLOSURE 2 ENCLOSURE 2 PROCEDURES 1.\n"
     ]
    }
   ],
   "source": [
    "shw(579)\n",
    "print('\\n============================================\\n')\n",
    "shw(29)\n",
    "print('\\n============================================\\n')\n",
    "shw(713)\n"
   ]
  },
  {
   "cell_type": "code",
   "execution_count": null,
   "metadata": {},
   "outputs": [],
   "source": []
  },
  {
   "cell_type": "code",
   "execution_count": null,
   "metadata": {},
   "outputs": [],
   "source": []
  },
  {
   "cell_type": "code",
   "execution_count": null,
   "metadata": {},
   "outputs": [],
   "source": []
  },
  {
   "attachments": {},
   "cell_type": "markdown",
   "metadata": {},
   "source": [
    "> **Notes:**\n",
    "> * Sentences that are too short should not be considered\n",
    "> * Need to do much more cleaning\n",
    ">   - Headers, footers, table of contents, etc\n",
    "> * May want to look into a knowledge graph to make sure that sentences/paragraphs are talking about the same topic..."
   ]
  }
 ],
 "metadata": {
  "kernelspec": {
   "display_name": "Python 3",
   "language": "python",
   "name": "python3"
  },
  "language_info": {
   "codemirror_mode": {
    "name": "ipython",
    "version": 3
   },
   "file_extension": ".py",
   "mimetype": "text/x-python",
   "name": "python",
   "nbconvert_exporter": "python",
   "pygments_lexer": "ipython3",
   "version": "3.10.10"
  },
  "orig_nbformat": 4
 },
 "nbformat": 4,
 "nbformat_minor": 2
}
