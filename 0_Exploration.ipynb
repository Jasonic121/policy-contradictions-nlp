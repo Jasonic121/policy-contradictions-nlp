{
 "cells": [
  {
   "attachments": {},
   "cell_type": "markdown",
   "metadata": {},
   "source": [
    "# Exploration: Reading and preprocessing data"
   ]
  },
  {
   "cell_type": "code",
   "execution_count": 1,
   "metadata": {},
   "outputs": [],
   "source": [
    "import pandas as pd\n",
    "\n",
    "import re\n",
    "\n",
    "import gensim\n",
    "import nltk\n",
    "import spacy"
   ]
  },
  {
   "attachments": {},
   "cell_type": "markdown",
   "metadata": {},
   "source": [
    "## Data source"
   ]
  },
  {
   "cell_type": "code",
   "execution_count": 3,
   "metadata": {},
   "outputs": [],
   "source": [
    "# Read in a single organization's corpus\n",
    "df = pd.read_json(\"data/02. Data Sets/NIFA/contradictions_datasets_nifa_reports.zip\", orient='records', compression='infer')"
   ]
  },
  {
   "cell_type": "code",
   "execution_count": 6,
   "metadata": {},
   "outputs": [
    {
     "data": {
      "text/html": [
       "<div>\n",
       "<style scoped>\n",
       "    .dataframe tbody tr th:only-of-type {\n",
       "        vertical-align: middle;\n",
       "    }\n",
       "\n",
       "    .dataframe tbody tr th {\n",
       "        vertical-align: top;\n",
       "    }\n",
       "\n",
       "    .dataframe thead th {\n",
       "        text-align: right;\n",
       "    }\n",
       "</style>\n",
       "<table border=\"1\" class=\"dataframe\">\n",
       "  <thead>\n",
       "    <tr style=\"text-align: right;\">\n",
       "      <th></th>\n",
       "      <th>file_name</th>\n",
       "      <th>title</th>\n",
       "      <th>num</th>\n",
       "      <th>id</th>\n",
       "      <th>corpus</th>\n",
       "      <th>source_page_url</th>\n",
       "      <th>url</th>\n",
       "      <th>type</th>\n",
       "      <th>n_pages</th>\n",
       "      <th>word_count</th>\n",
       "      <th>text_by_page</th>\n",
       "    </tr>\n",
       "  </thead>\n",
       "  <tbody>\n",
       "    <tr>\n",
       "      <th>0</th>\n",
       "      <td>1890_Facilities_Program,_Section_1447,_Special...</td>\n",
       "      <td>1890 Facilities Program, Section 1447, Special...</td>\n",
       "      <td>1890 Facilities Program, Section 1447, Special...</td>\n",
       "      <td>7c447e203c43a52a74f50032f52220f621d360e6cc02a1...</td>\n",
       "      <td>nifa_reports</td>\n",
       "      <td>https://www.nifa.usda.gov/document?f%5B0%5D=re...</td>\n",
       "      <td>https://nifa.usda.gov//sites/default/files/res...</td>\n",
       "      <td>pdf</td>\n",
       "      <td>23</td>\n",
       "      <td>19103</td>\n",
       "      <td>[September 1998 COOPERATIVE STATE RESEARCH, ED...</td>\n",
       "    </tr>\n",
       "    <tr>\n",
       "      <th>1</th>\n",
       "      <td>1994_and_1862_Land-Grant_Cooperation_Progress_...</td>\n",
       "      <td>1994 and 1862 Land-Grant Cooperation Progress ...</td>\n",
       "      <td>1994 and 1862 Land-Grant Cooperation Progress ...</td>\n",
       "      <td>980c6b78c24b9183e851494cc60daa6db4ad202c3547bb...</td>\n",
       "      <td>nifa_reports</td>\n",
       "      <td>https://www.nifa.usda.gov/document?f%5B0%5D=re...</td>\n",
       "      <td>https://nifa.usda.gov//sites/default/files/res...</td>\n",
       "      <td>pdf</td>\n",
       "      <td>9</td>\n",
       "      <td>2624</td>\n",
       "      <td>[Resetting the Conversation: 1994 and 1862 Lan...</td>\n",
       "    </tr>\n",
       "  </tbody>\n",
       "</table>\n",
       "</div>"
      ],
      "text/plain": [
       "                                           file_name  \\\n",
       "0  1890_Facilities_Program,_Section_1447,_Special...   \n",
       "1  1994_and_1862_Land-Grant_Cooperation_Progress_...   \n",
       "\n",
       "                                               title  \\\n",
       "0  1890 Facilities Program, Section 1447, Special...   \n",
       "1  1994 and 1862 Land-Grant Cooperation Progress ...   \n",
       "\n",
       "                                                 num  \\\n",
       "0  1890 Facilities Program, Section 1447, Special...   \n",
       "1  1994 and 1862 Land-Grant Cooperation Progress ...   \n",
       "\n",
       "                                                  id        corpus  \\\n",
       "0  7c447e203c43a52a74f50032f52220f621d360e6cc02a1...  nifa_reports   \n",
       "1  980c6b78c24b9183e851494cc60daa6db4ad202c3547bb...  nifa_reports   \n",
       "\n",
       "                                     source_page_url  \\\n",
       "0  https://www.nifa.usda.gov/document?f%5B0%5D=re...   \n",
       "1  https://www.nifa.usda.gov/document?f%5B0%5D=re...   \n",
       "\n",
       "                                                 url type  n_pages  \\\n",
       "0  https://nifa.usda.gov//sites/default/files/res...  pdf       23   \n",
       "1  https://nifa.usda.gov//sites/default/files/res...  pdf        9   \n",
       "\n",
       "   word_count                                       text_by_page  \n",
       "0       19103  [September 1998 COOPERATIVE STATE RESEARCH, ED...  \n",
       "1        2624  [Resetting the Conversation: 1994 and 1862 Lan...  "
      ]
     },
     "execution_count": 6,
     "metadata": {},
     "output_type": "execute_result"
    }
   ],
   "source": [
    "df.head(2)"
   ]
  },
  {
   "cell_type": "code",
   "execution_count": 11,
   "metadata": {},
   "outputs": [
    {
     "data": {
      "text/plain": [
       "True"
      ]
     },
     "execution_count": 11,
     "metadata": {},
     "output_type": "execute_result"
    }
   ],
   "source": [
    "# Each row is a single document\n",
    "df.id.nunique() == df.shape[0]"
   ]
  },
  {
   "cell_type": "code",
   "execution_count": 13,
   "metadata": {},
   "outputs": [
    {
     "data": {
      "text/plain": [
       "True"
      ]
     },
     "execution_count": 13,
     "metadata": {},
     "output_type": "execute_result"
    }
   ],
   "source": [
    "# The plain text for each page of the document is stored as a list in `text_by_page`\n",
    "pdf = df.iloc[0]\n",
    "pages = pdf.text_by_page\n",
    "len(pages) == pdf.n_pages"
   ]
  },
  {
   "cell_type": "code",
   "execution_count": 14,
   "metadata": {},
   "outputs": [
    {
     "data": {
      "text/plain": [
       "\"3 (HVAC), and refrigeration systems; and specialized items such as cage washers, laboratory casework, some growth chambers, and certain other large, specialized equipment meeting this definition. s. Force Account means the direct performance of facility construction by a grantee's own permanent workforce (consisting of trades and crafts personnel), equipment, materials, and supplies furnished by the grantee and used under the direct control of the grantee. t. Maintenance and Operations means programmatic activities and those activities required to assure the dependable and economical function of a completed facility as follows: 1.Maintenance—preservation of the functional integri- ty and efficiency of the facility and its fixed equipment, including preventive maintenance, corrective maintenance, testing, and replacement of defective components thereof. 2.Operations—activities or processes associated with the programs to be housed in a completed facility and those processes which are necessary to run the facility. These include, but are not limited to, research, extension, or teaching programs; acquisition of programmatic machinery or equipment; post-occupancy installation of utilities or wiring; utility usage, repair, or upgrade; services (e.g., trash, snow, hazardous waste removal); administration; recordkeeping; laboratory or process control; and safety or emergency operations. u. Movable Equipment means an article of tangible personal property which is not affixed to the real estate and can be shifted from place to place without requiring a change in utilities or structural characteristics of the space. Examples include, but are not limited to, office equipment, furniture, and scientific instrumentation. v. Onset of Construction means, in general, initiation of physical on-site construction activities which are of a permanent or irreversible nature. Such activities include, but are not limited to, site clearing and removal, excavation, installation of building supports and foundations, and laying of underground piping. w. Prior Approval means written documentation from the Authorized Departmental Officer evidencing consent prior to the grantee's undertaking specific activities or incurring specific project cost(s) under this grant award. x. Program, and its derivatives, is a contextual term that means a coherent assembly of plans, activities, and supporting resources within an administrative or technical framework whose purpose is to implement the mission or goals of the grantee or CSREES. As it relates to the grantee, this term refers to the research, extension, or teaching activities, or administrative functions related to such activities, to be housed in a completed facility, the construction of which is being assisted with CSREES funds. As it relates to CSREES, this term refers to the 1890 Facilities Program. y. Project means an organized assembly of approved activities or tasks that have been determined by CSREES to lie within the scope of, or have been identified for performance by the recipient or a third party under, this grant. z. Project Costs means total costs encompassing both the allowable Federal and non-Federal costs incurred by the grantee to carry out approved activities under this grant award. aa. Project Director means the grantee's representative designated in this grant award who is responsible for oversight, management, and direction of day-to-day project activities. bb. Project Period means the total time for which this grant award is approved for support, including any pre-award period and time extensions. cc. Real Property means land, land improvements, structures, and things attached to them (e.g., fixed equipment as defined in Article 3) so as to become a part of them. Movable machinery and other kinds of movable equipment are not real property. If a question comes up about whether certain property should be classified as real property, the laws of the state in which the property is located govern. Land improvements include roads; gas, water, and utility lines; sewers; and the like which are situated on the land. As used herein, real property does not include mineral rights, timber rights, agricultural crops, and the like. dd. Value Engineering means an organized effort directed by a person trained in value engineering techniques to analyze the functions of a facility and its fixed equipment for the purpose of achieving their respective essential functions at the lowest life cycle cost consistent with required performance, reliability, quality, and safety. 4. ASSURANCE AND CERTIFICATIONS Assurance. As a condition of this grant award, the grantee assures that it is in compliance and will comply in the course of grant performance with all applicable laws, regulations, Executive Orders, and other generally applicable requirements, including those set out in 7 CFR 3015.205(b), which hereby are incorporated in this grant award by reference, and such other provisions as are specified herein. Certifications. In accepting this grant award, the grantee specifically certifies that: a. It will assist CSREES in complying with §106 of the National Historic Preservation Act of 1966, as amended (16 U.S.C. 470), Executive Order 11593, and the Historic and Archeological Data Preservation Act of 1974 (16 U.S.C. 469a —469c), as implemented in 7 CFR Part 3100 by: 1.Consulting with the State Historic Preservation Officer to identify properties listed in or eligible for inclusion in the National Register of Historic Places that are subject to adverse effects by the construction activity (see 36 CFR 800.8); 2.Notifying the Authorized Departmental Officer of the existence of any such properties; and 3.Avoiding or mitigating, to the extent possible, adverse effects upon such properties. b. It will comply with all requirements of §114 of the\""
      ]
     },
     "execution_count": 14,
     "metadata": {},
     "output_type": "execute_result"
    }
   ],
   "source": [
    "# Let's look at the third page and see what it's like\n",
    "pages[2]"
   ]
  },
  {
   "cell_type": "code",
   "execution_count": 15,
   "metadata": {},
   "outputs": [
    {
     "data": {
      "text/plain": [
       "'https://nifa.usda.gov//sites/default/files/resource/1890_special_terms_c_sec1447.pdf'"
      ]
     },
     "execution_count": 15,
     "metadata": {},
     "output_type": "execute_result"
    }
   ],
   "source": [
    "# We can open up the original PDF from its url to see how well this text extraction performed\n",
    "pdf.url\n",
    "# Pretty great! The page number in the footer did get shoved into the beginning of the page text,\n",
    "# but fortunately that's the only thing in most of the footers for this document except the cover\n",
    "# page."
   ]
  },
  {
   "attachments": {},
   "cell_type": "markdown",
   "metadata": {},
   "source": [
    "## Tokenization"
   ]
  },
  {
   "attachments": {},
   "cell_type": "markdown",
   "metadata": {},
   "source": [
    "> **NOTE:** Because sentences may span page breaks, we may wish to concatenate all text in a document's pages into a single string. Only issue is we may need to address footer content prior to the concatenation.\n",
    ">\n",
    "> **TODO:** \n",
    "> * Explore if footer content is consistently placed at the beginning of the page text\n",
    "> * Explore if all of the documents in the corpus only have the page number in the footer (hopefully) or if there is additional footer content that we need to detect and strip (more likely)"
   ]
  },
  {
   "cell_type": "code",
   "execution_count": 16,
   "metadata": {},
   "outputs": [],
   "source": [
    "from spacy.tokenizer import Tokenizer\n",
    "from spacy.lang.en import English\n",
    "nlp = English()\n"
   ]
  },
  {
   "cell_type": "code",
   "execution_count": 29,
   "metadata": {},
   "outputs": [
    {
     "name": "stdout",
     "output_type": "stream",
     "text": [
      "['3', '(HVAC),', 'and', 'refrigeration', 'systems;', 'and', 'specialized', 'items', 'such', 'as', 'cage', 'washers,', 'laboratory', 'casework,', 'some']\n"
     ]
    },
    {
     "data": {
      "text/plain": [
       "870"
      ]
     },
     "execution_count": 29,
     "metadata": {},
     "output_type": "execute_result"
    }
   ],
   "source": [
    "# Simple word tokenizer\n",
    "tokenizer = Tokenizer(nlp.vocab)\n",
    "text = pages[2]\n",
    "tokens = tokenizer(text)\n",
    "print([token.text for token in tokens[:15]])\n",
    "len(tokens)"
   ]
  },
  {
   "attachments": {},
   "cell_type": "markdown",
   "metadata": {},
   "source": [
    "### Preprocessing Pipelines\n",
    "\n",
    "spaCy uses pipelines to do NLP: https://spacy.io/usage/processing-pipelines#pipelines\n",
    "\n",
    "The following components are built-in: https://spacy.io/usage/processing-pipelines#built-in"
   ]
  },
  {
   "cell_type": "code",
   "execution_count": 68,
   "metadata": {},
   "outputs": [
    {
     "data": {
      "text/plain": [
       "[('sentencizer', <spacy.pipeline.sentencizer.Sentencizer at 0xffff5b1c40c0>)]"
      ]
     },
     "execution_count": 68,
     "metadata": {},
     "output_type": "execute_result"
    }
   ],
   "source": [
    "# We may want to do sentence (or even paragraph) tokenizing if we want to find contradictions\n",
    "# between sentences within the same document. Plus, it gives us a more granual unit to find\n",
    "# contradictions between documents rather than treating an entire document as a ton of words, we can\n",
    "# find contradictions between specific sentences across documents.\n",
    "#\n",
    "# - The spacy SentencerRecognizer is trainable https://spacy.io/api/sentencerecognizer\n",
    "#     TODO: Future improvement by using model for sentence splitting\n",
    "# - The spacy Sentencizer is a simple rule-based parser https://spacy.io/api/sentencizer\n",
    "nlp = English()\n",
    "nlp.add_pipe('sentencizer')\n",
    "nlp.pipeline"
   ]
  },
  {
   "cell_type": "code",
   "execution_count": 66,
   "metadata": {},
   "outputs": [
    {
     "name": "stdout",
     "output_type": "stream",
     "text": [
      "33 sentences found on this page. Examples:\n",
      "3 (HVAC), and refrigeration systems; and specialized items such as cage washers, laboratory casework, some growth chambers, and certain other large, specialized equipment meeting this definition.\n",
      "\n",
      "s. Force Account means the direct performance of facility construction by a grantee's own permanent workforce (consisting of trades and crafts personnel), equipment, materials, and supplies furnished by the grantee and used under the direct control of the grantee.\n",
      "\n",
      "t. Maintenance and Operations means programmatic activities and those activities required to assure the dependable and economical function of a completed facility as follows: 1.Maintenance—preservation of the functional integri- ty and efficiency of the facility and its fixed equipment, including preventive maintenance, corrective maintenance, testing, and replacement of defective components thereof.\n",
      "\n",
      "2.Operations—activities or processes associated with the programs to be housed in a completed facility and those processes which are necessary to run the facility.\n",
      "\n",
      "These include, but are not limited to, research, extension, or teaching programs; acquisition of programmatic machinery or equipment; post-occupancy installation of utilities or wiring; utility usage, repair, or upgrade; services (e.g., trash, snow, hazardous waste removal); administration; recordkeeping; laboratory or process control; and safety or emergency operations.\n",
      "\n",
      "u. Movable Equipment means an article of tangible personal property which is not affixed to the real estate and can be shifted from place to place without requiring a change in utilities or structural characteristics of the space.\n",
      "\n",
      "Examples include, but are not limited to, office equipment, furniture, and scientific instrumentation.\n",
      "\n",
      "v. Onset of Construction means, in general, initiation of physical on-site construction activities which are of a permanent or irreversible nature.\n",
      "\n"
     ]
    }
   ],
   "source": [
    "# Run the pipeline on a single object by calling nlp\n",
    "text = pages[2]\n",
    "doc = nlp(text)\n",
    "sentences = list(doc.sents)\n",
    "print(f\"{len(sentences)} sentences found on this page. Examples:\")\n",
    "for s in sentences[:8]:\n",
    "    print(s.text + '\\n')"
   ]
  },
  {
   "cell_type": "code",
   "execution_count": 70,
   "metadata": {},
   "outputs": [
    {
     "data": {
      "text/plain": [
       "[('tok2vec', <spacy.pipeline.tok2vec.Tok2Vec at 0xffff596dbca0>),\n",
       " ('tagger', <spacy.pipeline.tagger.Tagger at 0xffff596dbdc0>),\n",
       " ('parser', <spacy.pipeline.dep_parser.DependencyParser at 0xffff5ae07ca0>),\n",
       " ('attribute_ruler',\n",
       "  <spacy.pipeline.attributeruler.AttributeRuler at 0xffff58f7b400>),\n",
       " ('lemmatizer',\n",
       "  <spacy.lang.en.lemmatizer.EnglishLemmatizer at 0xffff58d03b40>),\n",
       " ('ner', <spacy.pipeline.ner.EntityRecognizer at 0xffff5ae07c30>)]"
      ]
     },
     "execution_count": 70,
     "metadata": {},
     "output_type": "execute_result"
    }
   ],
   "source": [
    "# Now that we have sentences, we can use one of spacy's pre-built pipelines. The model for this\n",
    "# pipeline was downloaded in our Dockerfile running `python -m spacy download en_core_web_sm`\n",
    "nlp_core = spacy.load('en_core_web_sm')\n",
    "nlp_core.pipeline"
   ]
  },
  {
   "cell_type": "code",
   "execution_count": 94,
   "metadata": {},
   "outputs": [],
   "source": [
    "sentences_core = list(nlp_core.pipe([s.text for s in sentences]))"
   ]
  },
  {
   "cell_type": "code",
   "execution_count": 95,
   "metadata": {},
   "outputs": [
    {
     "data": {
      "text/plain": [
       "33"
      ]
     },
     "execution_count": 95,
     "metadata": {},
     "output_type": "execute_result"
    }
   ],
   "source": [
    "len(sentences_core)"
   ]
  },
  {
   "cell_type": "code",
   "execution_count": 96,
   "metadata": {},
   "outputs": [
    {
     "data": {
      "text/plain": [
       "s. Force Account means the direct performance of facility construction by a grantee's own permanent workforce (consisting of trades and crafts personnel), equipment, materials, and supplies furnished by the grantee and used under the direct control of the grantee."
      ]
     },
     "execution_count": 96,
     "metadata": {},
     "output_type": "execute_result"
    }
   ],
   "source": [
    "sent = sentences_core[1]\n",
    "sent"
   ]
  },
  {
   "cell_type": "code",
   "execution_count": 97,
   "metadata": {},
   "outputs": [
    {
     "name": "stdout",
     "output_type": "stream",
     "text": [
      "[('s.', 'PROPN'), ('Force', 'PROPN'), ('Account', 'PROPN'), ('means', 'VERB'), ('the', 'DET'), ('direct', 'ADJ'), ('performance', 'NOUN'), ('of', 'ADP'), ('facility', 'NOUN'), ('construction', 'NOUN'), ('by', 'ADP'), ('a', 'DET'), ('grantee', 'NOUN'), (\"'s\", 'PART'), ('own', 'ADJ'), ('permanent', 'ADJ'), ('workforce', 'NOUN'), ('(', 'PUNCT'), ('consisting', 'VERB'), ('of', 'ADP'), ('trades', 'NOUN'), ('and', 'CCONJ'), ('crafts', 'NOUN'), ('personnel', 'NOUN'), (')', 'PUNCT'), (',', 'PUNCT'), ('equipment', 'NOUN'), (',', 'PUNCT'), ('materials', 'NOUN'), (',', 'PUNCT'), ('and', 'CCONJ'), ('supplies', 'NOUN'), ('furnished', 'VERB'), ('by', 'ADP'), ('the', 'DET'), ('grantee', 'NOUN'), ('and', 'CCONJ'), ('used', 'VERB'), ('under', 'ADP'), ('the', 'DET'), ('direct', 'ADJ'), ('control', 'NOUN'), ('of', 'ADP'), ('the', 'DET'), ('grantee', 'NOUN'), ('.', 'PUNCT')]\n"
     ]
    }
   ],
   "source": [
    "# Now each of our sentences contains many tokenized words, and each word has many attributes, such\n",
    "# as the text representing it and its part of speech\n",
    "print([(word.text, word.pos_) for word in sent])"
   ]
  },
  {
   "cell_type": "code",
   "execution_count": 136,
   "metadata": {},
   "outputs": [
    {
     "name": "stdout",
     "output_type": "stream",
     "text": [
      "text                                                                Force\n",
      "normalized form                                                     force\n",
      "lemma                                                               Force\n",
      "part of speech                                                      PROPN\n",
      "tag (fine pos)                                                        NNP\n",
      "syntactic dependency                                             compound\n",
      "is alpha                                                             True\n",
      "is stopword                                                         False\n",
      "named entity type                                                     ORG\n",
      "named entity id                                                          \n",
      "vector embedding        [-0.76734245, -1.5136529, 2.0895395, 0.6628331...\n",
      "dtype: object\n"
     ]
    }
   ],
   "source": [
    "# Based on our pipeline, these tokens have additional attributes, too!\n",
    "# https://spacy.io/api/token#attributes\n",
    "w = sent[1]\n",
    "print(pd.Series({\n",
    "    'text': w.text,\n",
    "    'normalized form': w.norm_,\n",
    "    'lemma': w.lemma_,\n",
    "    'part of speech': w.pos_,\n",
    "    'tag (fine pos)': w.tag_,\n",
    "    'syntactic dependency': w.dep_,\n",
    "    'is alpha': w.is_alpha,\n",
    "    'is stopword': w.is_stop,\n",
    "    'named entity type': w.ent_type_,\n",
    "    'named entity id': w.ent_id_,\n",
    "    'vector embedding': w.vector,\n",
    "}))"
   ]
  },
  {
   "attachments": {},
   "cell_type": "markdown",
   "metadata": {},
   "source": [
    "> **NOTE:** Looks like we need to do some n-grams here -- e.g. \"Force Account\" should be its own token."
   ]
  },
  {
   "cell_type": "markdown",
   "metadata": {},
   "source": []
  }
 ],
 "metadata": {
  "kernelspec": {
   "display_name": "base",
   "language": "python",
   "name": "python3"
  },
  "language_info": {
   "codemirror_mode": {
    "name": "ipython",
    "version": 3
   },
   "file_extension": ".py",
   "mimetype": "text/x-python",
   "name": "python",
   "nbconvert_exporter": "python",
   "pygments_lexer": "ipython3",
   "version": "3.10.10"
  },
  "orig_nbformat": 4,
  "vscode": {
   "interpreter": {
    "hash": "d4d1e4263499bec80672ea0156c357c1ee493ec2b1c70f0acce89fc37c4a6abe"
   }
  }
 },
 "nbformat": 4,
 "nbformat_minor": 2
}
