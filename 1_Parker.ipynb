{
 "cells": [
  {
   "attachments": {},
   "cell_type": "markdown",
   "metadata": {},
   "source": [
    "# Basic Similarity Pipeline"
   ]
  },
  {
   "cell_type": "code",
   "execution_count": 25,
   "metadata": {},
   "outputs": [],
   "source": [
    "import pandas as pd\n",
    "import spacy\n",
    "import numpy as np\n",
    "\n",
    "# Read in a single organization's corpus\n",
    "df = pd.read_json(\"data/02. Data Sets/NIFA/contradictions_datasets_nifa_reports.zip\", orient='records', compression='infer')\n",
    "\n",
    "# Feature engineering\n",
    "df['fulltext'] = df.text_by_page.str.join(' ')"
   ]
  },
  {
   "cell_type": "code",
   "execution_count": 3,
   "metadata": {},
   "outputs": [
    {
     "data": {
      "text/plain": [
       "[('tok2vec', <spacy.pipeline.tok2vec.Tok2Vec at 0x7fdf5f9c1c60>),\n",
       " ('tagger', <spacy.pipeline.tagger.Tagger at 0x7fdf5f9c1de0>),\n",
       " ('parser', <spacy.pipeline.dep_parser.DependencyParser at 0x7fdf5fabaab0>),\n",
       " ('senter', <spacy.pipeline.senter.SentenceRecognizer at 0x7fdf5f9c1900>),\n",
       " ('attribute_ruler',\n",
       "  <spacy.pipeline.attributeruler.AttributeRuler at 0x7fdf5f9f38c0>),\n",
       " ('lemmatizer',\n",
       "  <spacy.lang.en.lemmatizer.EnglishLemmatizer at 0x7fdf5f7cb000>),\n",
       " ('ner', <spacy.pipeline.ner.EntityRecognizer at 0x7fdf5fabad50>)]"
      ]
     },
     "execution_count": 3,
     "metadata": {},
     "output_type": "execute_result"
    }
   ],
   "source": [
    "nlp = spacy.load('en_core_web_sm')\n",
    "nlp.enable_pipe(\"senter\")\n",
    "nlp.pipeline"
   ]
  },
  {
   "cell_type": "code",
   "execution_count": 73,
   "metadata": {},
   "outputs": [
    {
     "data": {
      "text/plain": [
       "10"
      ]
     },
     "execution_count": 73,
     "metadata": {},
     "output_type": "execute_result"
    }
   ],
   "source": [
    "docs = list(nlp.pipe(df.fulltext.iloc[:10]))\n",
    "len(docs)"
   ]
  },
  {
   "cell_type": "code",
   "execution_count": 74,
   "metadata": {},
   "outputs": [],
   "source": [
    "d0 = docs[0]\n",
    "d1 = docs[1]"
   ]
  },
  {
   "cell_type": "code",
   "execution_count": 75,
   "metadata": {},
   "outputs": [
    {
     "data": {
      "text/plain": [
       "array([[0.9999998 , 0.90701205, 0.45180175, 0.9628214 , 0.92784864,\n",
       "        0.96166295, 0.963816  , 0.9551968 , 0.53328365, 0.93974704],\n",
       "       [0.90701205, 1.        , 0.61923206, 0.91946745, 0.9413703 ,\n",
       "        0.90639913, 0.93182683, 0.9383831 , 0.761079  , 0.9522818 ],\n",
       "       [0.45180175, 0.61923206, 0.99999994, 0.46749824, 0.5520142 ,\n",
       "        0.46073174, 0.487793  , 0.52700514, 0.81139284, 0.59623885],\n",
       "       [0.9628214 , 0.91946745, 0.46749824, 1.        , 0.9816299 ,\n",
       "        0.94153774, 0.94554734, 0.98668694, 0.60547584, 0.9699452 ],\n",
       "       [0.92784864, 0.9413703 , 0.5520142 , 0.9816299 , 0.9999999 ,\n",
       "        0.9203201 , 0.9271325 , 0.98271453, 0.69292617, 0.9785352 ],\n",
       "       [0.96166295, 0.90639913, 0.46073174, 0.94153774, 0.9203201 ,\n",
       "        1.0000001 , 0.98662245, 0.95091724, 0.56642133, 0.9402379 ],\n",
       "       [0.963816  , 0.93182683, 0.487793  , 0.94554734, 0.9271325 ,\n",
       "        0.98662245, 1.0000002 , 0.95057523, 0.6135747 , 0.94574773],\n",
       "       [0.9551968 , 0.9383831 , 0.52700514, 0.98668694, 0.98271453,\n",
       "        0.95091724, 0.95057523, 1.        , 0.6433443 , 0.9917007 ],\n",
       "       [0.53328365, 0.761079  , 0.81139284, 0.60547584, 0.69292617,\n",
       "        0.56642133, 0.6135747 , 0.6433443 , 1.0000001 , 0.6926192 ],\n",
       "       [0.93974704, 0.9522818 , 0.59623885, 0.9699452 , 0.9785352 ,\n",
       "        0.9402379 , 0.94574773, 0.9917007 , 0.6926192 , 0.9999999 ]],\n",
       "      dtype=float32)"
      ]
     },
     "execution_count": 75,
     "metadata": {},
     "output_type": "execute_result"
    }
   ],
   "source": [
    "# Get similarity scores between all documents\n",
    "from sklearn.metrics.pairwise import cosine_similarity\n",
    "\n",
    "vectors = [d.vector for d in docs]\n",
    "\n",
    "sim = cosine_similarity(vectors)\n",
    "sim"
   ]
  },
  {
   "cell_type": "code",
   "execution_count": 76,
   "metadata": {},
   "outputs": [
    {
     "name": "stdout",
     "output_type": "stream",
     "text": [
      "(820, 820)\n"
     ]
    },
    {
     "data": {
      "text/plain": [
       "array([[0.        , 0.65993017, 0.69959444, ..., 0.67886394, 0.6814903 ,\n",
       "        0.67463917],\n",
       "       [0.65993017, 0.        , 0.51466626, ..., 0.35471618, 0.35768148,\n",
       "        0.36253226],\n",
       "       [0.69959444, 0.51466626, 0.        , ..., 0.4233155 , 0.42655492,\n",
       "        0.4140238 ],\n",
       "       ...,\n",
       "       [0.67886394, 0.35471618, 0.4233155 , ..., 0.        , 0.99887544,\n",
       "        0.99858356],\n",
       "       [0.6814903 , 0.35768148, 0.42655492, ..., 0.99887544, 0.        ,\n",
       "        0.9981862 ],\n",
       "       [0.67463917, 0.36253226, 0.4140238 , ..., 0.99858356, 0.9981862 ,\n",
       "        0.        ]], dtype=float32)"
      ]
     },
     "execution_count": 76,
     "metadata": {},
     "output_type": "execute_result"
    }
   ],
   "source": [
    "# Get similarity scores between all sentences in all documents\n",
    "\n",
    "desired_docs = docs[0:3:2]\n",
    "\n",
    "sents = [s for d in desired_docs for s in d.sents]\n",
    "vectors_sents = [s.vector for s in sents]\n",
    "sim_sents = cosine_similarity(vectors_sents)\n",
    "print(sim_sents.shape)\n",
    "# Remove diagonal entrees\n",
    "np.fill_diagonal(sim_sents, 0)\n",
    "sim_sents"
   ]
  },
  {
   "cell_type": "code",
   "execution_count": 77,
   "metadata": {},
   "outputs": [
    {
     "name": "stdout",
     "output_type": "stream",
     "text": [
      "(298, 345)\n",
      "Appraisals.\n",
      "To obtain prior approval, the grantee must submit the following written information regarding each contract to the Authorized Departmental Officer as soon as the contractor has been selected:\n"
     ]
    }
   ],
   "source": [
    "most_dissimilar_idx = np.unravel_index(sim_sents.argmin(), sim_sents.shape)\n",
    "print(most_dissimilar_idx)\n",
    "\n",
    "for i in most_dissimilar_idx:\n",
    "    print(sents[i].text)"
   ]
  },
  {
   "cell_type": "code",
   "execution_count": 78,
   "metadata": {},
   "outputs": [
    {
     "name": "stdout",
     "output_type": "stream",
     "text": [
      "(817, 818)\n",
      "Agriculture, Natural Resources and Gourneau, Haven, 6 Biological Engineering Hamley, Mark R., 17 Antonio, Thomas M., 7 Kowalkowski, Brian, 4 Carr, Charlene, 7, 20 Yarlott, David, 9 Crebs, Douglas, 16 Dahlberg, Steve, 19 Community Development Duafala, Carrie Ann, 3 Agnew, Wanda, 18 Dupuis, Virgil, 13 Brower, Pearl, 7 Etter, Steven, 10 Dupuis, Virgil, 13 Hafer, James, 3 Gourneau, Haven, 6 Hamley, Mark R., 17 Halvorson, Gary, 15, 20 Henry, Leslie Rae, 12 Hamley, Mark R., 17 Guinn, Mandy, 18 Henry, Leslie Rae, 12 Kinley, Sharon, 11 Kinley, Sharon, 11 Lichtenberg, Janene, 13 Kowalczak, Courtney, 6 Marlow, Amber, 8 Lindquist, Cynthia, 3 Mongoh, Mafany Ndiva, 15 Marlow, Amber, 8 Quijada-Mascarenas, Adrian, 17 Mongoh, Mafany Ndiva, 15 Sells, Angeline B., 16 Red Owl, Sherry, 14 St. Pierre, Mary Ruth, 16 Sineway, Carla, 12 Woodard, Janyce, 9 St. Pierre, Nathaniel, 16 Yanni, Steve, 2 Yanni, Steve, 2 Animals and Their Systems Community Gardening and Daye, Germaine, 10 Horticulture Duafala, Carrie Ann, 3 Bauer, Mark, 5 Etter, Steven, 10 Crebs, Douglas, 16 Graf, Birgit, 9 Dahlberg, Steve, 19 Guinn, Mandy, 18 Dupuis, Virgil, 13 Hafer, James, 3 Etter, Steven, 10 Henry, Leslie Rae, 12 Hamley, Mark R., 17 LaGarry, Hannan, 12 Henry, Leslie Rae, 12 Lichtenberg, Janene, 13 Kinley, Sharon, 11 Martyn, Al, 9 Kowalczak, Courtney, 6 Mongoh, Mafany Ndiva, 15 Litson, Benita, 5 Quijada-Mascarenas, Adrian, 17 Mongoh, Mafany Ndiva, 15 Yanni, Steve, 2 Robinson, Donald K., 5 Young, Monica, 2 Sells, Angeline B., 16 Short-Azure, Michelle, 17 Applied Technical and Career Sineway, Carla, 12 Education St. Pierre, Mary Ruth, 16 Brower, Pearl, 7 Sullivan, LaVerne, 3 Broyles, Annette, 18 Woodard, Janyce, 9 Daye, Germaine, 10 Yanni, Steve, 2 Hafer, James, 3 Kenning, Robert, 13 Culturally-focused education Antonio, Thomas M., 7 Business and Finance Agnew, Wanda, 18 Brower, Pearl, 7 Berthelote, Antony, 13 Fox, Robert, 18 Brower, Pearl, 7 Expertise Index 26 Culturally-focused education (cont.)\n",
      "Food Safety Crebs, Douglas, 16 Broyles, Annette, 18 Dahlberg, Steve, 19 Daye, Germaine, 10 Daye, Germaine, 10 Hafer, James, 3 Fox, Robert, 18 Hamley, Mark R., 17 Guinn, Mandy, 18 Henry, Leslie Rae, 12 Hafer, James, 3 Kinsey, Dan, 2, 20 Hamley, Mark R., 17 Short-Azure, Michelle, 17 Kenning, Robert, 13 Sullivan, LaVerne, 3 Kinley, Sharon, 11 Kowalczak, Courtney, 6 Food Systems/Sovereignty Lichtenberg, Janene, 13 Agnew, Wanda, 18 Marlow, Amber, 8 Dahlberg, Steve, 19 Parrish, Debra, 7 Hamley, Mark R., 17 Quijada-Mascarenas, Adrian, 17 Henry, Leslie Rae, 12 Rave, Carol, 11 Kinley, Sharon, 11 Red Owl, Sherry, 14 Kowalczak, Courtney, 6 Sineway, Carla, 12 Yanni, Steve, 2 Stockdale, Christopher L., 9 St. Pierre, Mary Ruth, 16 Geospatial Technology St. Pierre, Nathaniel, 16 Berthelote, Antony, 13 Crebs, Douglas, 16 Elder Programs Dahlberg, Steve, 19 Agnew, Wanda, 18 Hamley, Mark R., 17 Gourneau, Haven, 6 Kenning, Robert, 13 Kinley, Sharon, 11 Kinley, Sharon, 11 Lindquist, Cynthia, 3 LaGarry, Hannan, 12 Red Owl, Sherry, 14 Marlow, Amber, 8 Sineway, Carla, 12 Mongoh, Mafany Ndiva, 15 St. Pierre, Mary Ruth, 16 Human Health Family Development Agnew, Wanda, 18 Agnew, Wanda, 18 Bauer, Mark, 5 Dahlberg, Steve, 19 Brower, Pearl, 7 Fox, Robert, 18 Daye, Germaine, 10 Kinley, Sharon, 11 Hamley, Mark R., 17 Red Owl, Sherry, 14 Robinson, Donald K., 5 Sineway, Carla, 12 St. Pierre, Mary Ruth, 16 Human Nutrition Sullivan, LaVerne, 3 Agnew, Wanda, 18 Bauer, Mark, 5 Food Products: Development, Brower, Pearl, 7 Processing, Quality, and Delivery Graf, Birgit, 9 Broyles, Annette, 18 Hamley, Mark R., 17 Crebs, Douglas, 16 Sullivan, LaVerne, 3 Hafer, James, 3 Thorson, Suzy, 18 Hamley, Mark R., 17 Woodard, Janyce, 9 Sullivan, LaVerne, 3 Expertise Index 27 International Development and Kenning, Robert, 13 Cultural Exchange Kinsey, Dan, 2, 20 Berthelote, Antony, 13 Kowalczak, Courtney, 6 Hafer, James, 3 LaGarry, Hannan, 12 Kinley, Sharon, 11 Lichtenberg, Janene, 13 Litson, Benita, 5 Native or Medicinal Plants Martyn, Al, 9 Antonio, Thomas M., 7 Mongoh, Mafany Ndiva, 15 Crebs, Douglas, 16 Parrish, Debra, 7 Dahlberg, Steve, 19 Quijada-Mascarenas, Adrian, 17 Duafala, Carrie Ann, 3 Woodard, Janyce, 9 Graf, Birgit, 9 Hamley, Mark R., 17 Natural Resources and Environment: Henry, Leslie Rae, 12 Soils Kenning, Robert, 13 Carr, Charlene, 7, 20 Kinley, Sharon, 11 Crebs, Douglas, 16 Kowalczak, Courtney, 6 Dupuis, Virgil, 13 Lichtenberg, Janene, 13 Etter, Steven, 10 Martyn, Al, 9 Guinn, Mandy, 18 Robinson, Donald K., 5 Hafer, James, 3 Halvorson, Gary, 15, 20 Natural Resources and Environment: Henry, Leslie Rae, 12 Air LaGarry, Hannan, 12 LaGarry, Hannan, 12 Mongoh, Mafany Ndiva, 15 Mongoh, Mafany Ndiva, 15 Sells, Angeline B., 16 Woodard, Janyce, 9 Natural Resources and Environment: Forest and Range Natural Resources and Environment: Blue, Stacie, 17 Water Dahlberg, Steve, 19 Berthelote, Antony, 13 Duafala, Carrie Ann, 3 Crebs, Douglas, 16 Dupuis, Virgil, 13 Dupuis, Virgil, 13 Henry, Leslie Rae, 12 Halvorson, Gary, 15, 20 Kenning, Robert, 13 Hamley, Mark R., 17 Lichtenberg, Janene, 13 Kinley, Sharon, 11 Litson, Benita, 5 Kowalczak, Courtney, 6 Mongoh, Mafany Ndiva, 15 LaGarry, Hannan, 12 Woodard, Janyce, 9 Parrish, Debra, 7 Woodard, Janyce, 9 Natural Resources and Environment: General Plants and Their Systems Crebs, Douglas, 16 Antonio, Thomas M., 7 Dahlberg, Steve, 19 Blue, Stacie, 17 Daye, Germaine, 10 Crebs, Douglas, 16 Duafala, Carrie Ann, 3 Dupuis, Virgil, 13 Dupuis, Virgil, 13 Graf, Birgit, 9 Hafer, James, 3 Halvorson, Gary, 15, 20 Halvorson, Gary, 15, 20 Kenning, Robert, 13 Hamley, Mark R., 17 Kinley, Sharon, 11 Henry, Leslie Rae, 12 Lichtenberg, Janene, 13 Expertise Index 28 Plants and Their Systems (cont.)\n"
     ]
    }
   ],
   "source": [
    "most_similar_idx = np.unravel_index(sim_sents.argmax(), sim_sents.shape)\n",
    "print(most_similar_idx)\n",
    "\n",
    "for i in most_similar_idx:\n",
    "    print(sents[i].text)"
   ]
  },
  {
   "cell_type": "code",
   "execution_count": null,
   "metadata": {},
   "outputs": [],
   "source": []
  }
 ],
 "metadata": {
  "kernelspec": {
   "display_name": "Python 3",
   "language": "python",
   "name": "python3"
  },
  "language_info": {
   "codemirror_mode": {
    "name": "ipython",
    "version": 3
   },
   "file_extension": ".py",
   "mimetype": "text/x-python",
   "name": "python",
   "nbconvert_exporter": "python",
   "pygments_lexer": "ipython3",
   "version": "3.10.10"
  },
  "orig_nbformat": 4
 },
 "nbformat": 4,
 "nbformat_minor": 2
}
