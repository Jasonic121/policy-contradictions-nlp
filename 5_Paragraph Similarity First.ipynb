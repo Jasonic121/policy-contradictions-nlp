{
 "cells": [
  {
   "attachments": {},
   "cell_type": "markdown",
   "metadata": {},
   "source": [
    "* Clean document\n",
    "* Split into paragraphs/blocks\n",
    "* Compute embedding for each block (batch process, can save to file)\n",
    "* Compute similarity scores between blocks across documents\n",
    "* For blocks that are similar:\n",
    "    * Evaluate for contradictions between pairwise combinations of sentences in the two blocks\n",
    "\n",
    "\n",
    "The concept of block similarity isn't limited to just language embedding similarity. We could also look at knowledge graphs to look at blocks that have a common node or something like that."
   ]
  }
 ],
 "metadata": {
  "language_info": {
   "name": "python"
  },
  "orig_nbformat": 4
 },
 "nbformat": 4,
 "nbformat_minor": 2
}
